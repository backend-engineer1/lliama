{
 "cells": [
  {
   "cell_type": "markdown",
   "id": "c04ffe8e-6573-470f-aef5-348522a0de15",
   "metadata": {},
   "source": [
    "# Detect PII in Node Text Data"
   ]
  },
  {
   "cell_type": "code",
   "execution_count": null,
   "id": "00bd87b8-bebd-4712-92d9-a001ec5450ac",
   "metadata": {},
   "outputs": [],
   "source": [
    "!pip install llama-index==0.5.26"
   ]
  },
  {
   "cell_type": "code",
   "execution_count": 7,
   "id": "efa2a242-27bc-478f-8939-18a7f8153d4f",
   "metadata": {
    "tags": []
   },
   "outputs": [],
   "source": [
    "import logging\n",
    "import sys\n",
    "\n",
    "logging.basicConfig(stream=sys.stdout, level=logging.INFO)\n",
    "logging.getLogger().addHandler(logging.StreamHandler(stream=sys.stdout))\n",
    "\n",
    "from llama_index.indices.postprocessor import PIINodePostprocessor\n",
    "from llama_index import ServiceContext, Document\n",
    "from llama_index.data_structs import Node\n",
    "from llama_index import GPTSimpleVectorIndex"
   ]
  },
  {
   "cell_type": "code",
   "execution_count": 8,
   "id": "216e951a-42c4-4e6b-b16d-6a6064829ebf",
   "metadata": {
    "tags": []
   },
   "outputs": [],
   "source": [
    "# load documents\n",
    "text = \"\"\"\n",
    "Hello Paulo Santos. The latest statement for your credit card account \\\n",
    "1111-0000-1111-0000 was mailed to 123 Any Street, Seattle, WA 98109.\n",
    "\"\"\"\n",
    "node = Node(text)"
   ]
  },
  {
   "cell_type": "code",
   "execution_count": 9,
   "id": "5a2db8d3-6bb7-4855-852e-a4941abb03bf",
   "metadata": {
    "tags": []
   },
   "outputs": [],
   "source": [
    "service_context = ServiceContext.from_defaults()\n",
    "processor = PIINodePostprocessor(service_context=service_context)"
   ]
  },
  {
   "cell_type": "code",
   "execution_count": 10,
   "id": "b834e7a3-8f90-45eb-841a-335b0d33dcab",
   "metadata": {
    "tags": []
   },
   "outputs": [],
   "source": [
    "new_nodes = processor.postprocess_nodes([node])"
   ]
  },
  {
   "cell_type": "code",
   "execution_count": 17,
   "id": "ca1498f3-34a1-4001-90f9-03feb5532d7d",
   "metadata": {
    "tags": []
   },
   "outputs": [
    {
     "data": {
      "text/plain": [
       "'Hello [NAME]. The latest statement for your credit card account [CREDIT_CARD_NUMBER] was mailed to [ADDRESS].'"
      ]
     },
     "execution_count": 17,
     "metadata": {},
     "output_type": "execute_result"
    }
   ],
   "source": [
    "# view redacted text\n",
    "new_nodes[0].get_text()"
   ]
  },
  {
   "cell_type": "code",
   "execution_count": 18,
   "id": "d574d591-c1db-498b-ba32-9ed4190c6b4c",
   "metadata": {
    "tags": []
   },
   "outputs": [
    {
     "data": {
      "text/plain": [
       "{'NAME': 'Paulo Santos',\n",
       " 'CREDIT_CARD_NUMBER': '1111-0000-1111-0000',\n",
       " 'ADDRESS': '123 Any Street, Seattle, WA 98109'}"
      ]
     },
     "execution_count": 18,
     "metadata": {},
     "output_type": "execute_result"
    }
   ],
   "source": [
    "# get mapping in node_info\n",
    "# NOTE: this is not sent to the LLM! \n",
    "new_nodes[0].node_info[\"__pii_node_info__\"]"
   ]
  },
  {
   "cell_type": "code",
   "execution_count": 19,
   "id": "9d33a9c0-efcd-4e79-b1f5-05aca9fc109f",
   "metadata": {
    "tags": []
   },
   "outputs": [
    {
     "name": "stdout",
     "output_type": "stream",
     "text": [
      "INFO:gpt_index.token_counter.token_counter:> [build_index_from_nodes] Total LLM token usage: 0 tokens\n",
      "> [build_index_from_nodes] Total LLM token usage: 0 tokens\n",
      "> [build_index_from_nodes] Total LLM token usage: 0 tokens\n",
      "INFO:gpt_index.token_counter.token_counter:> [build_index_from_nodes] Total embedding token usage: 30 tokens\n",
      "> [build_index_from_nodes] Total embedding token usage: 30 tokens\n",
      "> [build_index_from_nodes] Total embedding token usage: 30 tokens\n"
     ]
    }
   ],
   "source": [
    "# feed into index\n",
    "index = GPTSimpleVectorIndex.from_documents(new_nodes)"
   ]
  },
  {
   "cell_type": "code",
   "execution_count": 20,
   "id": "dc8b1993-d23b-4db1-8bb9-4f882bded66c",
   "metadata": {
    "tags": []
   },
   "outputs": [
    {
     "name": "stdout",
     "output_type": "stream",
     "text": [
      "INFO:gpt_index.token_counter.token_counter:> [query] Total LLM token usage: 72 tokens\n",
      "> [query] Total LLM token usage: 72 tokens\n",
      "> [query] Total LLM token usage: 72 tokens\n",
      "INFO:gpt_index.token_counter.token_counter:> [query] Total embedding token usage: 8 tokens\n",
      "> [query] Total embedding token usage: 8 tokens\n",
      "> [query] Total embedding token usage: 8 tokens\n",
      "\n",
      "[ADDRESS]\n"
     ]
    }
   ],
   "source": [
    "response = index.query(\"What address was the statement mailed to?\")\n",
    "print(str(response))"
   ]
  },
  {
   "cell_type": "code",
   "execution_count": null,
   "id": "a2d7e3b8-3495-4314-9ec9-34adc9cc003d",
   "metadata": {},
   "outputs": [],
   "source": []
  }
 ],
 "metadata": {
  "kernelspec": {
   "display_name": "llama_index",
   "language": "python",
   "name": "llama_index"
  },
  "language_info": {
   "codemirror_mode": {
    "name": "ipython",
    "version": 3
   },
   "file_extension": ".py",
   "mimetype": "text/x-python",
   "name": "python",
   "nbconvert_exporter": "python",
   "pygments_lexer": "ipython3",
   "version": "3.10.10"
  }
 },
 "nbformat": 4,
 "nbformat_minor": 5
}
