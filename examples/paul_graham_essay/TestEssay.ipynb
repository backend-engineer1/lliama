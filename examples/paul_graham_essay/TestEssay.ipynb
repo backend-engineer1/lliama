{
 "cells": [
  {
   "cell_type": "code",
   "execution_count": null,
   "id": "f1a9eb90-335c-4214-8bb6-fd1edbe3ccbd",
   "metadata": {},
   "outputs": [],
   "source": [
    "# My OpenAI Key\n",
    "import os\n",
    "os.environ['OPENAI_API_KEY'] = \"INSERT OPENAI KEY\""
   ]
  },
  {
   "cell_type": "markdown",
   "id": "be3f7baa-1c0a-430b-981b-83ddca9e71f2",
   "metadata": {},
   "source": [
    "## Using GPT Tree Index"
   ]
  },
  {
   "cell_type": "code",
   "execution_count": 3,
   "id": "8d0b2364-4806-4656-81e7-3f6e4b910b5b",
   "metadata": {},
   "outputs": [],
   "source": [
    "from gpt_index import GPTTreeIndex, SimpleDirectoryReader\n",
    "from IPython.display import Markdown, display"
   ]
  },
  {
   "cell_type": "code",
   "execution_count": null,
   "id": "1298bbb4-c99e-431e-93ef-eb32c0a2fc2a",
   "metadata": {
    "tags": []
   },
   "outputs": [],
   "source": [
    "documents = SimpleDirectoryReader('data').load_data()\n",
    "index = GPTTreeIndex(documents)"
   ]
  },
  {
   "cell_type": "code",
   "execution_count": null,
   "id": "0b4fe9b6-5762-4e86-b51e-aac45d3ecdb1",
   "metadata": {},
   "outputs": [],
   "source": [
    "index.save_to_disk('index.json')"
   ]
  },
  {
   "cell_type": "code",
   "execution_count": 4,
   "id": "5eec265d-211b-4f26-b05b-5b4e7072bc6e",
   "metadata": {},
   "outputs": [],
   "source": [
    "# try loading\n",
    "new_index = GPTTreeIndex.load_from_disk('index.json', child_branch_factor=1)"
   ]
  },
  {
   "cell_type": "code",
   "execution_count": null,
   "id": "bd14686d-1c53-4637-9340-3745f2121ae2",
   "metadata": {},
   "outputs": [],
   "source": [
    "# try verbose=True for more detailed outputs\n",
    "response = new_index.query(\"What did the author do growing up?\")"
   ]
  },
  {
   "cell_type": "code",
   "execution_count": null,
   "id": "b4c87d14-d2d8-4d80-89f6-1e5972973528",
   "metadata": {},
   "outputs": [],
   "source": [
    "display(Markdown(f\"<b>{response}</b>\"))"
   ]
  },
  {
   "cell_type": "code",
   "execution_count": null,
   "id": "46714db4-9592-4c55-9ca7-916758f2ce68",
   "metadata": {
    "tags": []
   },
   "outputs": [],
   "source": [
    "# try using branching factor 2\n",
    "new_index_b2 = GPTTreeIndex.load_from_disk('index.json', child_branch_factor=2)\n",
    "response_b2 = new_index_b2.query(\"What did the author do growing up?\")"
   ]
  },
  {
   "cell_type": "code",
   "execution_count": null,
   "id": "1ea7f891-b7e1-497a-a965-14201b220404",
   "metadata": {},
   "outputs": [],
   "source": [
    "display(Markdown(f\"<b>{response_b2}</b>\"))"
   ]
  },
  {
   "cell_type": "code",
   "execution_count": null,
   "id": "68c9ebfe-b1b6-4f4e-9278-174346de8c90",
   "metadata": {
    "tags": []
   },
   "outputs": [],
   "source": [
    "# try verbose=True for more detailed outputs\n",
    "response = new_index.query(\"What did the author do after his time at Y Combinator?\")"
   ]
  },
  {
   "cell_type": "code",
   "execution_count": 6,
   "id": "a5ab5943-7c84-4c2b-ac99-ec4b5fc67e64",
   "metadata": {},
   "outputs": [
    {
     "data": {
      "text/markdown": [
       "<b>The author went on to start his own company.</b>"
      ],
      "text/plain": [
       "<IPython.core.display.Markdown object>"
      ]
     },
     "metadata": {},
     "output_type": "display_data"
    }
   ],
   "source": [
    "display(Markdown(f\"<b>{response}</b>\"))"
   ]
  },
  {
   "cell_type": "markdown",
   "id": "a6457769-dfaf-4241-ab32-dcf901dde902",
   "metadata": {},
   "source": [
    "## Using GPT Keyword Table Index"
   ]
  },
  {
   "cell_type": "code",
   "execution_count": 7,
   "id": "78d59ef6-70b0-47bb-818d-7237a3b7de75",
   "metadata": {},
   "outputs": [],
   "source": [
    "from gpt_index import GPTKeywordTableIndex, SimpleDirectoryReader\n",
    "from IPython.display import Markdown, display"
   ]
  },
  {
   "cell_type": "code",
   "execution_count": 2,
   "id": "5a3f1c67-6d73-4f37-afcf-9e637002fcff",
   "metadata": {},
   "outputs": [
    {
     "name": "stdout",
     "output_type": "stream",
     "text": [
      "> Processing chunk 0 of 6: \t\t\n",
      "\n",
      "What I Worked On\n",
      "\n",
      "February 2021\n",
      "\n",
      "Before col...\n",
      "> Keywords: ['painting', 'computers', 'programming', 'lisp', 'ai', 'college', 'graduate school', 'graduate', 'school', 'writing']\n",
      "> Processing chunk 1 of 6: of excluding them, because there were so many s...\n",
      "> Keywords: ['school', 'students', 'painting', 'florence', 'risd', 'accademia', 'still lives', 'still', 'lives', 'color', 'new york', 'new', 'york', 'yorkville', 'idelle weber', 'idelle', 'weber', 'harvard', 'world wide web', 'world', 'wide', 'web', 'y combinator', 'combinator', 'software', 'lisp']\n",
      "> Processing chunk 2 of 6: an alarming prospect, because neither of us kne...\n",
      "> Keywords: ['windows', 'unix', 'lisp', 'web app', 'web', 'app', 'browser', 'store builder', 'store', 'builder', 'ecommerce', 'startup', 'painting']\n",
      "> Processing chunk 3 of 6: browser, and then host the resulting applicatio...\n",
      "> Keywords: ['y combinator', 'combinator', 'investment', 'summer founders program', 'summer', 'founders', 'program', 'microsoft', 'goldman sachs', 'goldman', 'sachs']\n",
      "> Processing chunk 4 of 6: person, and from those we picked 8 to fund. The...\n",
      "> Keywords: ['y combinator', 'combinator', 'yc', 'lisp', 'bel', 'essays', 'writing', 'software', 'programming', 'arc']\n",
      "> Processing chunk 5 of 6: it was like living in another country, and sinc...\n",
      "> Keywords: ['software', 'technology', 'y combinator', 'combinator', 'essays', 'online publishing', 'online', 'publishing', 'venture capital', 'venture', 'capital', 'startups', 'space aliens', 'space', 'aliens', 'lisp']\n"
     ]
    }
   ],
   "source": [
    "# build keyword index\n",
    "documents = SimpleDirectoryReader('data').load_data()\n",
    "index = GPTKeywordTableIndex(documents)"
   ]
  },
  {
   "cell_type": "code",
   "execution_count": 4,
   "id": "7ec97988-0190-4df7-b19a-e3130122298f",
   "metadata": {},
   "outputs": [],
   "source": [
    "# save index\n",
    "index.save_to_disk('index_table.json')"
   ]
  },
  {
   "cell_type": "code",
   "execution_count": 8,
   "id": "d94d0fe0-43c1-41cd-901b-0d748d30f1c7",
   "metadata": {},
   "outputs": [],
   "source": [
    "# reload index\n",
    "index = GPTKeywordTableIndex.load_from_disk('index_table.json')"
   ]
  },
  {
   "cell_type": "code",
   "execution_count": 9,
   "id": "69d4f686-6825-49cf-a113-d2fdd484de77",
   "metadata": {},
   "outputs": [
    {
     "name": "stdout",
     "output_type": "stream",
     "text": [
      "> Starting query: What did the author do after his time at Y Combinator?\n",
      "Extracted keywords: ['y combinator', 'combinator']\n",
      "> Querying with idx: 7143669651211954504: of excluding them, because there were so many s...\n",
      "> Querying with idx: 4978118451876167434: browser, and then host the resulting applicatio...\n",
      "> Querying with idx: 7378313280237489139: person, and from those we picked 8 to fund. The...\n",
      "> Querying with idx: 2670584622494666310: it was like living in another country, and sinc...\n"
     ]
    }
   ],
   "source": [
    "response = index.query(\"What did the author do after his time at Y Combinator?\")"
   ]
  },
  {
   "cell_type": "code",
   "execution_count": 10,
   "id": "a483514d-4ab5-489d-8b99-7250df491ce3",
   "metadata": {},
   "outputs": [
    {
     "data": {
      "text/markdown": [
       "<b>\n",
       "\n",
       "After a few years, the author decided to step away from Y Combinator to focus on other projects, such as painting and writing essays. In 2013, he handed over control of Y Combinator to Sam Altman. The author's mother passed away in 2014, and after taking some time to grieve, he returned to writing essays and working on Lisp. He continued working on Lisp until 2019, when he finally completed the project.\n",
       "\n",
       "In 2015, the author decided to move to England with his family. They originally intended to only stay for a year, but ended up liking it so much that they remained there. The author wrote Bel while living in England. In 2019, he finally finished the project. After completing Bel, the author wrote a number of essays on various topics. He continued writing essays through 2020, but also started thinking about other things he could work on.</b>"
      ],
      "text/plain": [
       "<IPython.core.display.Markdown object>"
      ]
     },
     "metadata": {},
     "output_type": "display_data"
    }
   ],
   "source": [
    "display(Markdown(f\"<b>{response}</b>\"))"
   ]
  },
  {
   "cell_type": "markdown",
   "id": "aae1bea9-b534-430a-a52b-1f4414957ac9",
   "metadata": {},
   "source": [
    "## Using GPT Linked List Index"
   ]
  },
  {
   "cell_type": "code",
   "execution_count": 1,
   "id": "1aa8c8c1-7fce-4737-9141-d14fd37a779c",
   "metadata": {},
   "outputs": [
    {
     "name": "stderr",
     "output_type": "stream",
     "text": [
      "None of PyTorch, TensorFlow >= 2.0, or Flax have been found. Models won't be available and only tokenizers, configuration and file/data utilities can be used.\n",
      "[nltk_data] Downloading package stopwords to\n",
      "[nltk_data]     /Users/jerryliu/nltk_data...\n",
      "[nltk_data]   Package stopwords is already up-to-date!\n"
     ]
    }
   ],
   "source": [
    "from gpt_index import GPTListIndex, SimpleDirectoryReader\n",
    "from IPython.display import Markdown, display"
   ]
  },
  {
   "cell_type": "code",
   "execution_count": 2,
   "id": "191caa65-a77f-4d8c-b095-4aed61300ea5",
   "metadata": {},
   "outputs": [
    {
     "name": "stdout",
     "output_type": "stream",
     "text": [
      "> Adding chunk: \t\t\n",
      "\n",
      "What I Worked On\n",
      "\n",
      "February 2021\n",
      "\n",
      "Before col...\n",
      "> Adding chunk: Florence that the Italian students would otherw...\n",
      "> Adding chunk: Robert wrote a shopping cart, and I wrote a new...\n",
      "> Adding chunk: this idea that I couldn't think about anything ...\n",
      "> Adding chunk: luck that the first batch was so good. You had ...\n",
      "> Adding chunk: I wrote a bunch about topics I'd had stacked up...\n"
     ]
    }
   ],
   "source": [
    "# build linked list index\n",
    "documents = SimpleDirectoryReader('data').load_data()\n",
    "index = GPTListIndex(documents)\n",
    "# save index\n",
    "index.save_to_disk('index_list.json')"
   ]
  },
  {
   "cell_type": "code",
   "execution_count": 2,
   "id": "af2d049d-518d-4ec4-b84f-1fab8aece04f",
   "metadata": {},
   "outputs": [],
   "source": [
    "# load index from disk\n",
    "index = GPTListIndex.load_from_disk('index_list.json')"
   ]
  },
  {
   "cell_type": "code",
   "execution_count": null,
   "id": "1b3d4bd8-7540-4c6f-8616-ab2d8c6ae2b2",
   "metadata": {},
   "outputs": [],
   "source": [
    "response = index.query(\"What did the author do growing up?\", verbose=True)"
   ]
  },
  {
   "cell_type": "code",
   "execution_count": 4,
   "id": "5101b979-175f-490e-9b32-27689fe4b789",
   "metadata": {},
   "outputs": [
    {
     "data": {
      "text/markdown": [
       "<b>\n",
       "\n",
       "The author worked on writing and programming and also studied art in Florence. The author then got a job at Interleaf and wrote a book on Lisp before moving to New York to become a painter. The author then decided to try and write a prototype store builder on Unix with a colleague. The author had the idea to run the software on the server and let users control it by clicking on links.\n",
       "\n",
       "The author also worked on a web app that was common during the time and decided to try making a version that could be controlled through a browser. The author then started a new company called Viaweb and got $10,000 in seed funding. The company then started to grow rapidly and the author decided to leave Yahoo (after the company bought Viaweb) to pursue painting.\n",
       "\n",
       "The author then moved to Cambridge to start a new company based on the idea of letting people edit code on a server through a browser. The company grew rapidly and the author left Yahoo to pursue painting.\n",
       "\n",
       "The author then started Y Combinator, a startup accelerator, with some partners. The company grew rapidly and the author continued to write essays and work on various projects.\n",
       "\n",
       "The author then started working on a new version of Arc. This one was reasonably fast</b>"
      ],
      "text/plain": [
       "<IPython.core.display.Markdown object>"
      ]
     },
     "metadata": {},
     "output_type": "display_data"
    }
   ],
   "source": [
    "display(Markdown(f\"<b>{response}</b>\"))"
   ]
  },
  {
   "cell_type": "code",
   "execution_count": null,
   "id": "65cfce56-853e-431b-888e-946771c3b07e",
   "metadata": {},
   "outputs": [],
   "source": []
  }
 ],
 "metadata": {
  "kernelspec": {
   "display_name": "gpt_retrieve_venv",
   "language": "python",
   "name": "gpt_retrieve_venv"
  },
  "language_info": {
   "codemirror_mode": {
    "name": "ipython",
    "version": 3
   },
   "file_extension": ".py",
   "mimetype": "text/x-python",
   "name": "python",
   "nbconvert_exporter": "python",
   "pygments_lexer": "ipython3",
   "version": "3.8.4"
  }
 },
 "nbformat": 4,
 "nbformat_minor": 5
}
