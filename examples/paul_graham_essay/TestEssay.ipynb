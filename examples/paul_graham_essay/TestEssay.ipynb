{
 "cells": [
  {
   "cell_type": "code",
   "execution_count": null,
   "id": "f1a9eb90-335c-4214-8bb6-fd1edbe3ccbd",
   "metadata": {},
   "outputs": [],
   "source": [
    "# My OpenAI Key\n",
    "import os\n",
    "os.environ['OPENAI_API_KEY'] = \"INSERT OPENAI KEY\""
   ]
  },
  {
   "cell_type": "code",
   "execution_count": null,
   "id": "8d0b2364-4806-4656-81e7-3f6e4b910b5b",
   "metadata": {},
   "outputs": [],
   "source": [
    "from gpt_index import GPTTreeIndex, SimpleDirectoryReader\n",
    "from IPython.display import Markdown, display"
   ]
  },
  {
   "cell_type": "code",
   "execution_count": null,
   "id": "1298bbb4-c99e-431e-93ef-eb32c0a2fc2a",
   "metadata": {
    "tags": []
   },
   "outputs": [],
   "source": [
    "documents = SimpleDirectoryReader('data').load_data()\n",
    "index = GPTTreeIndex(documents)"
   ]
  },
  {
   "cell_type": "code",
   "execution_count": null,
   "id": "0b4fe9b6-5762-4e86-b51e-aac45d3ecdb1",
   "metadata": {},
   "outputs": [],
   "source": [
    "index.save_to_disk('index.json')"
   ]
  },
  {
   "cell_type": "code",
   "execution_count": null,
   "id": "5eec265d-211b-4f26-b05b-5b4e7072bc6e",
   "metadata": {},
   "outputs": [],
   "source": [
    "# try loading\n",
    "new_index = GPTTreeIndex.load_from_disk('index.json', child_branch_factor=1)"
   ]
  },
  {
   "cell_type": "code",
   "execution_count": null,
   "id": "bd14686d-1c53-4637-9340-3745f2121ae2",
   "metadata": {},
   "outputs": [],
   "source": [
    "# try verbose=True for more detailed outputs\n",
    "response = new_index.query(\"What did the author do growing up?\")"
   ]
  },
  {
   "cell_type": "code",
   "execution_count": null,
   "id": "b4c87d14-d2d8-4d80-89f6-1e5972973528",
   "metadata": {},
   "outputs": [],
   "source": [
    "display(Markdown(f\"<b>{response}</b>\"))"
   ]
  },
  {
   "cell_type": "code",
   "execution_count": null,
   "id": "46714db4-9592-4c55-9ca7-916758f2ce68",
   "metadata": {
    "tags": []
   },
   "outputs": [],
   "source": [
    "# try using branching factor 2\n",
    "new_index_b2 = GPTTreeIndex.load_from_disk('index.json', child_branch_factor=2)\n",
    "response_b2 = new_index_b2.query(\"What did the author do growing up?\")"
   ]
  },
  {
   "cell_type": "code",
   "execution_count": null,
   "id": "1ea7f891-b7e1-497a-a965-14201b220404",
   "metadata": {},
   "outputs": [],
   "source": [
    "display(Markdown(f\"<b>{response_b2}</b>\"))"
   ]
  },
  {
   "cell_type": "code",
   "execution_count": null,
   "id": "68c9ebfe-b1b6-4f4e-9278-174346de8c90",
   "metadata": {
    "tags": []
   },
   "outputs": [],
   "source": [
    "# try verbose=True for more detailed outputs\n",
    "new_index.query(\"What did the author do after his time at Y Combinator?\")"
   ]
  },
  {
   "cell_type": "code",
   "execution_count": null,
   "id": "73ed97cc-bc5a-48b3-b0a1-057c7fb4debb",
   "metadata": {},
   "outputs": [],
   "source": []
  }
 ],
 "metadata": {
  "kernelspec": {
   "display_name": "gpt_retrieve_venv",
   "language": "python",
   "name": "gpt_retrieve_venv"
  },
  "language_info": {
   "codemirror_mode": {
    "name": "ipython",
    "version": 3
   },
   "file_extension": ".py",
   "mimetype": "text/x-python",
   "name": "python",
   "nbconvert_exporter": "python",
   "pygments_lexer": "ipython3",
   "version": "3.8.4"
  }
 },
 "nbformat": 4,
 "nbformat_minor": 5
}
