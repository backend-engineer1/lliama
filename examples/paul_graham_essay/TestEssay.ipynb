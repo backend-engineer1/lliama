{
 "cells": [
  {
   "cell_type": "code",
   "execution_count": null,
   "id": "f1a9eb90-335c-4214-8bb6-fd1edbe3ccbd",
   "metadata": {},
   "outputs": [],
   "source": [
    "# My OpenAI Key\n",
    "import os\n",
    "os.environ['OPENAI_API_KEY'] = \"INSERT OPENAI KEY\""
   ]
  },
  {
   "cell_type": "code",
   "execution_count": 1,
   "id": "8d0b2364-4806-4656-81e7-3f6e4b910b5b",
   "metadata": {},
   "outputs": [
    {
     "name": "stderr",
     "output_type": "stream",
     "text": [
      "None of PyTorch, TensorFlow >= 2.0, or Flax have been found. Models won't be available and only tokenizers, configuration and file/data utilities can be used.\n"
     ]
    }
   ],
   "source": [
    "from gpt_index.index import GPTIndex"
   ]
  },
  {
   "cell_type": "code",
   "execution_count": null,
   "id": "1298bbb4-c99e-431e-93ef-eb32c0a2fc2a",
   "metadata": {
    "tags": []
   },
   "outputs": [],
   "source": [
    "index = GPTIndex.from_input_dir('data')"
   ]
  },
  {
   "cell_type": "code",
   "execution_count": null,
   "id": "0b4fe9b6-5762-4e86-b51e-aac45d3ecdb1",
   "metadata": {},
   "outputs": [],
   "source": [
    "index.save_to_disk('index.json')"
   ]
  },
  {
   "cell_type": "code",
   "execution_count": 2,
   "id": "5eec265d-211b-4f26-b05b-5b4e7072bc6e",
   "metadata": {},
   "outputs": [],
   "source": [
    "# try loading\n",
    "new_index = GPTIndex.load_from_disk('index.json')"
   ]
  },
  {
   "cell_type": "code",
   "execution_count": 3,
   "id": "68c9ebfe-b1b6-4f4e-9278-174346de8c90",
   "metadata": {
    "tags": []
   },
   "outputs": [
    {
     "name": "stdout",
     "output_type": "stream",
     "text": [
      "> Starting query: What did the author do after his time at Y Combinator?\n",
      "> Answer: \n",
      "ANSWER: 3, 4, 6\n",
      "\n",
      "These summaries were selected because they discuss what the author did after their time at Y Combinator. Summary 3 discusses how the author sold their company to Yahoo and then started painting. Summary 4 discusses how the author started writing essays and then eventually started their own investment firm. Summary 6 discusses how the author started working on a new programming language called Bel.\n",
      "> Node Summary text:  The individual describes their experience working on a new website generator in Lisp with a partner. They explain how they came up with the idea to run the software on a server and allow users to control it through clicking links in a browser. They recount how they started a new company, Viaweb, with the goal of being easy and inexpensive to use. They describe how they recruited additional programmers and opened for business in January 1996. They explain how they realized that growth rate is the most important metric for a startup and recount how they reached breakeven a few years later. They describe how they sold the company to Yahoo in 1998 and how they used the money to start painting. They explain how they returned to New York a year later and had the idea to build a web app for making web apps.\n",
      "> Answer: \n",
      "ANSWER: 4, 5, 8\n",
      "\n",
      "The author left Yahoo after his options vested and he made $2 million, as he had originally planned to do in order to paint. He returned to New York and picked up his old life, except now he was rich. He eventually had an idea for a new startup.\n",
      "> Node Summary text: opened for business, with 6 stores, in January 1996. It was just as well we waited a few months, because although we worried we were late, we were actually almost fatally early. There was a lot of talk in the press then about ecommerce, but not many people actually wanted online stores. [8]  There were three main parts to the software: the editor, which people used to build sites and which I wrote, the shopping cart, which Robert wrote, and the manager, which kept track of orders and statistics, and which Trevor wrote. In its time, the editor was one of the best general-purpose site builders. I kept the code tight and didn't have to integrate with any other software except Robert's and Trevor's, so it was quite fun to work on. If all I'd had to do was work on this software, the next 3 years would have been the easiest of my life. Unfortunately I had to do a lot more, all of it stuff I was worse at than programming, and the next 3 years were instead the most stressful.  There were a lot of startups making ecommerce software in the second half of the 90s. We were determined to be the Microsoft Word, not the Interleaf. Which meant being easy to use and inexpensive. It was lucky for us that we were poor, because that caused us to make Viaweb even more inexpensive than we realized. We charged $100 a month for a small store and $300 a month for a big one. This low price was a big attraction, and a constant thorn in the sides of competitors, but\n"
     ]
    },
    {
     "data": {
      "text/plain": [
       "'The author went on to work on a variety of other projects.'"
      ]
     },
     "execution_count": 3,
     "metadata": {},
     "output_type": "execute_result"
    }
   ],
   "source": [
    "# try verbose=True for more detailed outputs\n",
    "new_index.query(\"What did the author do after his time at Y Combinator?\")"
   ]
  },
  {
   "cell_type": "code",
   "execution_count": 4,
   "id": "46714db4-9592-4c55-9ca7-916758f2ce68",
   "metadata": {},
   "outputs": [
    {
     "name": "stdout",
     "output_type": "stream",
     "text": [
      "> Starting query: What did the author do growing up?\n",
      "> Answer: \n",
      "ANSWER: 1, 2, 3\n",
      "\n",
      "These summaries were selected because they discuss the author's experience growing up and how they chose what to work on in the past.\n",
      "> Node Summary text:  The individual worked on writing and programming before college. They attempted to write essays and stories, but they were not very good. In college, they studied philosophy but found it unfulfilling. They then switched to AI but realized that it was not going to work. They decided to focus on Lisp instead and wrote a book about it. They then took up art and applied to art school. They were accepted to RISD and then later to the Accademia di Belli Arti in Florence. They took the entrance exam and was accepted. They then had to learn Italian.\n",
      "> Answer: \n",
      "ANSWER: 1, 2, 3\n",
      "\n",
      "These summaries were selected because they describe the author's work and hobbies outside of school, which is what the question asks for.\n",
      "> Node Summary text: \t\t  What I Worked On  February 2021  Before college the two main things I worked on, outside of school, were writing and programming. I didn't write essays. I wrote what beginning writers were supposed to write then, and probably still are: short stories. My stories were awful. They had hardly any plot, just characters with strong feelings, which I imagined made them deep.  The first programs I tried writing were on the IBM 1401 that our school district used for what was then called \"data processing.\" This was in 9th grade, so I was 13 or 14. The school district's 1401 happened to be in the basement of our junior high school, and my friend Rich Draves and I got permission to use it. It was like a mini Bond villain's lair down there, with all these alien-looking machines — CPU, disk drives, printer, card reader — sitting up on a raised floor under bright fluorescent lights.  The language we used was an early version of Fortran. You had to type programs on punch cards, then stack them in the card reader and press a button to load the program into memory and run it. The result would ordinarily be to print something on the spectacularly loud printer.  I was puzzled by the 1401. I couldn't figure out what to do with it. And in retrospect there's not much I could have done with it. The only form of input to programs was data stored on punched cards, and I didn't have any data stored on punched\n"
     ]
    },
    {
     "data": {
      "text/plain": [
       "'The author grew up writing short stories and programming on an IBM 1401.'"
      ]
     },
     "execution_count": 4,
     "metadata": {},
     "output_type": "execute_result"
    }
   ],
   "source": [
    "# try verbose=True for more detailed outputs\n",
    "new_index.query(\"What did the author do growing up?\")"
   ]
  },
  {
   "cell_type": "code",
   "execution_count": null,
   "id": "73ed97cc-bc5a-48b3-b0a1-057c7fb4debb",
   "metadata": {},
   "outputs": [],
   "source": []
  }
 ],
 "metadata": {
  "kernelspec": {
   "display_name": "gpt_retrieve_venv",
   "language": "python",
   "name": "gpt_retrieve_venv"
  },
  "language_info": {
   "codemirror_mode": {
    "name": "ipython",
    "version": 3
   },
   "file_extension": ".py",
   "mimetype": "text/x-python",
   "name": "python",
   "nbconvert_exporter": "python",
   "pygments_lexer": "ipython3",
   "version": "3.8.4"
  }
 },
 "nbformat": 4,
 "nbformat_minor": 5
}
