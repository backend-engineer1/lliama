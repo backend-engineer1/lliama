{
 "cells": [
  {
   "cell_type": "markdown",
   "id": "cfb64210-9c6b-47d7-81f4-67dbdab68e4c",
   "metadata": {
    "tags": []
   },
   "source": [
    "# Composable Indices Demo"
   ]
  },
  {
   "cell_type": "code",
   "execution_count": 1,
   "id": "fa0e62b6",
   "metadata": {},
   "outputs": [],
   "source": [
    "import logging\n",
    "import sys\n",
    "import weaviate\n",
    "from pprint import pprint\n",
    "\n",
    "logging.basicConfig(stream=sys.stdout, level=logging.INFO)\n",
    "logging.getLogger().addHandler(logging.StreamHandler(stream=sys.stdout))\n",
    "\n",
    "from gpt_index import (\n",
    "    GPTSimpleVectorIndex, \n",
    "    GPTSimpleKeywordTableIndex, \n",
    "    GPTListIndex, \n",
    "    GPTWeaviateIndex,\n",
    "    SimpleDirectoryReader\n",
    ")"
   ]
  },
  {
   "cell_type": "code",
   "execution_count": 2,
   "id": "5b594b69-5814-4ff1-abc0-765b724f6339",
   "metadata": {},
   "outputs": [],
   "source": [
    "resource_owner_config = weaviate.AuthClientPassword(\n",
    "  username = \"<username>\", \n",
    "  password = \"<password>\", \n",
    ")"
   ]
  },
  {
   "cell_type": "code",
   "execution_count": 3,
   "id": "8d6297f6-1a78-4dc5-9d48-f3968729e273",
   "metadata": {},
   "outputs": [],
   "source": [
    "client = weaviate.Client(\"https://test-weaviate-cluster.semi.network/\", auth_client_secret=resource_owner_config)"
   ]
  },
  {
   "cell_type": "code",
   "execution_count": 4,
   "id": "5583b867-ab33-4e0e-8a38-9995615faa84",
   "metadata": {},
   "outputs": [
    {
     "data": {
      "text/plain": [
       "<weaviate.batch.crud_batch.Batch at 0x135b98310>"
      ]
     },
     "execution_count": 4,
     "metadata": {},
     "output_type": "execute_result"
    }
   ],
   "source": [
    "# [optional] set batch\n",
    "client.batch.configure(batch_size=10)"
   ]
  },
  {
   "cell_type": "markdown",
   "id": "49e0d841-680f-4a0c-b455-788b54978ebf",
   "metadata": {},
   "source": [
    "#### Load Datasets\n",
    "\n",
    "Load both the NYC Wikipedia page as well as Paul Graham's \"What I Worked On\" essay"
   ]
  },
  {
   "cell_type": "code",
   "execution_count": 7,
   "id": "9ec16a8b-6aae-4bf7-9b83-b82087b4ea52",
   "metadata": {},
   "outputs": [],
   "source": [
    "# fetch \"New York City\" page from Wikipedia\n",
    "from pathlib import Path\n",
    "\n",
    "import requests\n",
    "response = requests.get(\n",
    "    'https://en.wikipedia.org/w/api.php',\n",
    "    params={\n",
    "        'action': 'query',\n",
    "        'format': 'json',\n",
    "        'titles': 'New York City',\n",
    "        'prop': 'extracts',\n",
    "        # 'exintro': True,\n",
    "        'explaintext': True,\n",
    "    }\n",
    ").json()\n",
    "page = next(iter(response['query']['pages'].values()))\n",
    "nyc_text = page['extract']\n",
    "\n",
    "data_path = Path('data')\n",
    "if not data_path.exists():\n",
    "    Path.mkdir(data_path)\n",
    "\n",
    "with open('../test_wiki/data/nyc_text.txt', 'w') as fp:\n",
    "    fp.write(nyc_text)"
   ]
  },
  {
   "cell_type": "code",
   "execution_count": 8,
   "id": "39c00aeb-adef-4ce3-8134-031de18e64ea",
   "metadata": {},
   "outputs": [],
   "source": [
    "# load NYC dataset\n",
    "nyc_documents = SimpleDirectoryReader('../test_wiki/data/').load_data()"
   ]
  },
  {
   "cell_type": "code",
   "execution_count": 9,
   "id": "ddff8f98-e002-40c5-93ac-93aa40dca5ca",
   "metadata": {},
   "outputs": [],
   "source": [
    "# load PG's essay\n",
    "essay_documents = SimpleDirectoryReader('../paul_graham_essay/data/').load_data()"
   ]
  },
  {
   "cell_type": "markdown",
   "id": "f1782198-c0de-4679-8951-1297c21b8639",
   "metadata": {},
   "source": [
    "### Building the document indices\n",
    "Build a tree index for the NYC wiki page and PG essay"
   ]
  },
  {
   "cell_type": "code",
   "execution_count": 10,
   "id": "5431e83e-428b-4473-bad1-24b7a6c4db38",
   "metadata": {},
   "outputs": [
    {
     "name": "stdout",
     "output_type": "stream",
     "text": [
      "INFO:root:> [build_index_from_documents] Total LLM token usage: 0 tokens\n",
      "> [build_index_from_documents] Total LLM token usage: 0 tokens\n",
      "INFO:root:> [build_index_from_documents] Total embedding token usage: 28228 tokens\n",
      "> [build_index_from_documents] Total embedding token usage: 28228 tokens\n"
     ]
    }
   ],
   "source": [
    "# build NYC index\n",
    "nyc_index = GPTWeaviateIndex(nyc_documents, weaviate_client=client, class_prefix=\"Nyc_docs\")"
   ]
  },
  {
   "cell_type": "code",
   "execution_count": 11,
   "id": "6ebb00ff-e9c0-4ec9-ac05-43d4ab7a0d0e",
   "metadata": {},
   "outputs": [],
   "source": [
    "nyc_index.save_to_disk('index_nyc.json')"
   ]
  },
  {
   "cell_type": "code",
   "execution_count": 12,
   "id": "8b5aad4a-49ef-4b24-962a-0793f4f09316",
   "metadata": {},
   "outputs": [
    {
     "name": "stdout",
     "output_type": "stream",
     "text": [
      "INFO:root:> [build_index_from_documents] Total LLM token usage: 0 tokens\n",
      "> [build_index_from_documents] Total LLM token usage: 0 tokens\n",
      "INFO:root:> [build_index_from_documents] Total embedding token usage: 17598 tokens\n",
      "> [build_index_from_documents] Total embedding token usage: 17598 tokens\n"
     ]
    }
   ],
   "source": [
    "# build essay index\n",
    "essay_index = GPTWeaviateIndex(essay_documents, weaviate_client=client, class_prefix=\"Essay_docs\")"
   ]
  },
  {
   "cell_type": "code",
   "execution_count": 13,
   "id": "de0d248b-bc87-4129-a12f-c96eda46f72e",
   "metadata": {},
   "outputs": [],
   "source": [
    "essay_index.save_to_disk('index_pg.json')"
   ]
  },
  {
   "cell_type": "markdown",
   "id": "b8aaf556-df77-4fac-812b-0b6c6d1da0ef",
   "metadata": {},
   "source": [
    "### Loading the indices\n",
    "Build a tree indices for the NYC wiki page and PG essay"
   ]
  },
  {
   "cell_type": "code",
   "execution_count": 14,
   "id": "98068ef8-aead-46e7-8dac-0d05b5a86e6a",
   "metadata": {},
   "outputs": [],
   "source": [
    "# try loading\n",
    "nyc_index = GPTWeaviateIndex.load_from_disk('index_nyc.json', weaviate_client=client)\n",
    "essay_index = GPTWeaviateIndex.load_from_disk('index_pg.json', weaviate_client=client)"
   ]
  },
  {
   "cell_type": "markdown",
   "id": "bdcb22d5-4df8-4d65-aa29-6493fc027fe2",
   "metadata": {
    "tags": []
   },
   "source": [
    "### Set summaries for the indices\n",
    "\n",
    "Add text summaries to indices, so we can compose other indices on top of it"
   ]
  },
  {
   "cell_type": "code",
   "execution_count": 15,
   "id": "4149cbbd-7d0b-48c4-8c47-7d67ae0c55f0",
   "metadata": {},
   "outputs": [],
   "source": [
    "nyc_index.set_text(\"\"\"\n",
    "    New York, often called New York City or NYC, \n",
    "    is the most populous city in the United States. \n",
    "    With a 2020 population of 8,804,190 distributed over 300.46 square miles (778.2 km2), \n",
    "    New York City is also the most densely populated major city in the United States, \n",
    "    and is more than twice as populous as second-place Los Angeles. \n",
    "    New York City lies at the southern tip of New York State, and \n",
    "    constitutes the geographical and demographic center of both the \n",
    "    Northeast megalopolis and the New York metropolitan area, the \n",
    "    largest metropolitan area in the world by urban landmass.[8] With over \n",
    "    20.1 million people in its metropolitan statistical area and 23.5 million \n",
    "    in its combined statistical area as of 2020, New York is one of the world's \n",
    "    most populous megacities, and over 58 million people live within 250 mi (400 km) of \n",
    "    the city. New York City is a global cultural, financial, and media center with \n",
    "    a significant influence on commerce, health care and life sciences, entertainment, \n",
    "    research, technology, education, politics, tourism, dining, art, fashion, and sports. \n",
    "    Home to the headquarters of the United Nations, \n",
    "    New York is an important center for international diplomacy,\n",
    "    an established safe haven for global investors, and is sometimes described as the capital of the world.\n",
    "\"\"\") \n",
    "nyc_index.set_doc_id(\"nyc_index\")\n",
    "essay_index.set_text(\"\"\"\n",
    "    Author: Paul Graham. \n",
    "    The author grew up painting and writing essays. \n",
    "    He wrote a book on Lisp and did freelance Lisp hacking work to support himself. \n",
    "    He also became the de facto studio assistant for Idelle Weber, an early photorealist painter. \n",
    "    He eventually had the idea to start a company to put art galleries online, but the idea was unsuccessful. \n",
    "    He then had the idea to write software to build online stores, which became the basis for his successful company, Viaweb. \n",
    "    After Viaweb was acquired by Yahoo!, the author returned to painting and started writing essays online. \n",
    "    He wrote a book of essays, Hackers & Painters, and worked on spam filters. \n",
    "    He also bought a building in Cambridge to use as an office. \n",
    "    He then had the idea to start Y Combinator, an investment firm that would \n",
    "    make a larger number of smaller investments and help founders remain as CEO. \n",
    "    He and his partner Jessica Livingston ran Y Combinator and funded a batch of startups twice a year. \n",
    "    He also continued to write essays, cook for groups of friends, and explore the concept of invented vs discovered in software. \n",
    "\n",
    "\"\"\")\n",
    "essay_index.set_doc_id(\"essay_index\")"
   ]
  },
  {
   "cell_type": "markdown",
   "id": "d4d3cd8b-4134-4cfa-8002-e0a34694d2e1",
   "metadata": {
    "tags": []
   },
   "source": [
    "### Build Keyword Table Index on top of vector indices! \n",
    "\n",
    "We set summaries for each of the NYC and essay indices, and then compose a keyword index on top of it."
   ]
  },
  {
   "cell_type": "code",
   "execution_count": 16,
   "id": "76c251ca-b06b-42e9-ac99-aa0a0a5187d4",
   "metadata": {},
   "outputs": [],
   "source": [
    "# set query config\n",
    "query_configs = [\n",
    "    {\n",
    "        \"index_struct_id\": \"nyc_index\",\n",
    "        \"index_struct_type\": \"dict\",\n",
    "        \"query_mode\": \"default\",\n",
    "        \"query_kwargs\": {\n",
    "            \"similarity_top_k\": 1,\n",
    "            \"weaviate_client\": client,\n",
    "            \"class_prefix\": \"Nyc_docs\"\n",
    "        }\n",
    "    },\n",
    "    {\n",
    "        \"index_struct_id\": \"essay_index\",\n",
    "        \"index_struct_type\": \"dict\",\n",
    "        \"query_mode\": \"default\",\n",
    "        \"query_kwargs\": {\n",
    "            \"similarity_top_k\": 1,\n",
    "            \"weaviate_client\": client,\n",
    "            \"class_prefix\": \"Essay_docs\"\n",
    "        }\n",
    "    },\n",
    "    {\n",
    "        \"index_struct_type\": \"keyword_table\",\n",
    "        \"query_mode\": \"simple\",\n",
    "        \"query_kwargs\": {}\n",
    "    },\n",
    "]"
   ]
  },
  {
   "cell_type": "code",
   "execution_count": 17,
   "id": "f975514f-fddd-4737-91de-97bc61394ea9",
   "metadata": {},
   "outputs": [
    {
     "name": "stdout",
     "output_type": "stream",
     "text": [
      "INFO:root:> [build_index_from_documents] Total LLM token usage: 0 tokens\n",
      "> [build_index_from_documents] Total LLM token usage: 0 tokens\n",
      "INFO:root:> [build_index_from_documents] Total embedding token usage: 0 tokens\n",
      "> [build_index_from_documents] Total embedding token usage: 0 tokens\n"
     ]
    },
    {
     "name": "stderr",
     "output_type": "stream",
     "text": [
      "[nltk_data] Downloading package stopwords to\n",
      "[nltk_data]     /Users/jerryliu/nltk_data...\n",
      "[nltk_data]   Package stopwords is already up-to-date!\n"
     ]
    }
   ],
   "source": [
    "keyword_table = GPTSimpleKeywordTableIndex([nyc_index, essay_index], max_keywords_per_chunk=50)"
   ]
  },
  {
   "cell_type": "markdown",
   "id": "eebbc448-1e0b-402c-b37e-f93bfcc0bf4f",
   "metadata": {},
   "source": [
    "### Define Graph"
   ]
  },
  {
   "cell_type": "code",
   "execution_count": 18,
   "id": "6d68750c-e5ae-481a-8b03-6173020c9bf3",
   "metadata": {},
   "outputs": [],
   "source": [
    "from gpt_index.composability import ComposableGraph"
   ]
  },
  {
   "cell_type": "code",
   "execution_count": 19,
   "id": "822ada9f-fb43-472e-95ce-0036d508e528",
   "metadata": {},
   "outputs": [],
   "source": [
    "graph = ComposableGraph.build_from_index(keyword_table)"
   ]
  },
  {
   "cell_type": "code",
   "execution_count": 20,
   "id": "ae127943-afac-48b4-b22d-84a37e553e4b",
   "metadata": {},
   "outputs": [],
   "source": [
    "# [optional] save to disk\n",
    "graph.save_to_disk(\"index_graph.json\")"
   ]
  },
  {
   "cell_type": "code",
   "execution_count": 21,
   "id": "dca2b64b-9af1-456f-8dab-822bfdc5d0ac",
   "metadata": {},
   "outputs": [],
   "source": [
    "# [optional] load from disk\n",
    "graph = ComposableGraph.load_from_disk(\"index_graph.json\")"
   ]
  },
  {
   "cell_type": "code",
   "execution_count": 28,
   "id": "f3c4e58b-b153-4e43-bc02-274a85babbe8",
   "metadata": {},
   "outputs": [
    {
     "name": "stdout",
     "output_type": "stream",
     "text": [
      "INFO:root:> Starting query: What is the weather of New York City like? How cold is it during the winter?\n",
      "> Starting query: What is the weather of New York City like? How cold is it during the winter?\n",
      "INFO:root:query keywords: ['cold', 'winter', 'new', 'weather', 'york', 'like', 'city']\n",
      "query keywords: ['cold', 'winter', 'new', 'weather', 'york', 'like', 'city']\n",
      "INFO:root:> Extracted keywords: ['new', 'york', 'city']\n",
      "> Extracted keywords: ['new', 'york', 'city']\n",
      "INFO:root:> [query] Total LLM token usage: 3852 tokens\n",
      "> [query] Total LLM token usage: 3852 tokens\n",
      "INFO:root:> [query] Total embedding token usage: 18 tokens\n",
      "> [query] Total embedding token usage: 18 tokens\n",
      "INFO:root:> [query] Total LLM token usage: 3852 tokens\n",
      "> [query] Total LLM token usage: 3852 tokens\n",
      "INFO:root:> [query] Total embedding token usage: 18 tokens\n",
      "> [query] Total embedding token usage: 18 tokens\n"
     ]
    }
   ],
   "source": [
    "# set Logging to DEBUG for more detailed outputs\n",
    "# ask it a question about NYC \n",
    "response = graph.query(\n",
    "    \"What is the weather of New York City like? How cold is it during the winter?\", \n",
    "    query_configs=query_configs\n",
    ")"
   ]
  },
  {
   "cell_type": "code",
   "execution_count": 29,
   "id": "c0a43443-3e00-4e48-b3ab-f6369191d53a",
   "metadata": {},
   "outputs": [
    {
     "name": "stdout",
     "output_type": "stream",
     "text": [
      "\n",
      "\n",
      "New York City has a humid subtropical climate, with hot and humid summers and cool, damp winters. The daily mean temperature in January, the area's coldest month, is 33.3 °F (0.7 °C). Temperatures usually drop to 10 °F (−12 °C) several times per winter, yet can also reach 60 °F (16 °C) for several days even in the coldest winter month. The city of New York has a complex park system, with various lands operated by the National Park Service, the New York State Office of Parks, Recreation and Historic Preservation, and the New York City Department of Parks and Recreation. In 2021, the New York City Council banned the use of synthetic pesticides by city agencies and instead required organic lawn management.\n"
     ]
    }
   ],
   "source": [
    "print(str(response))"
   ]
  },
  {
   "cell_type": "code",
   "execution_count": 30,
   "id": "c78bc3da-6bad-4998-9a81-90a3fa9200a9",
   "metadata": {},
   "outputs": [
    {
     "name": "stdout",
     "output_type": "stream",
     "text": [
      "> Source (Doc id: nyc_index): \n",
      "    New York, often called New York City or NYC, \n",
      "    is the most populous city in the United St...\n",
      "\n",
      "> Source (Doc id: 9bc9fc8c-79a8-42d2-8cde-c6033ef2f8ac): of the city is land and 165.841 sq mi (429.53 km2) of this is water. The highest point in the cit...\n"
     ]
    }
   ],
   "source": [
    "# Get source of response\n",
    "print(response.get_formatted_sources())"
   ]
  },
  {
   "cell_type": "code",
   "execution_count": 25,
   "id": "6b53e45e-93aa-4b49-a497-ab403f6254f9",
   "metadata": {},
   "outputs": [
    {
     "name": "stdout",
     "output_type": "stream",
     "text": [
      "INFO:root:> Starting query: What did the author do growing up, before his time at Y Combinator?\n",
      "> Starting query: What did the author do growing up, before his time at Y Combinator?\n",
      "INFO:root:query keywords: ['combinator', 'growing', 'author', 'time']\n",
      "query keywords: ['combinator', 'growing', 'author', 'time']\n",
      "INFO:root:> Extracted keywords: ['combinator', 'author']\n",
      "> Extracted keywords: ['combinator', 'author']\n",
      "INFO:root:> [query] Total LLM token usage: 3879 tokens\n",
      "> [query] Total LLM token usage: 3879 tokens\n",
      "INFO:root:> [query] Total embedding token usage: 17 tokens\n",
      "> [query] Total embedding token usage: 17 tokens\n",
      "INFO:root:> [query] Total LLM token usage: 3879 tokens\n",
      "> [query] Total LLM token usage: 3879 tokens\n",
      "INFO:root:> [query] Total embedding token usage: 17 tokens\n",
      "> [query] Total embedding token usage: 17 tokens\n"
     ]
    }
   ],
   "source": [
    "# ask it a question about PG's essay\n",
    "response = graph.query(\n",
    "    \"What did the author do growing up, before his time at Y Combinator?\", \n",
    "    query_configs=query_configs\n",
    ")"
   ]
  },
  {
   "cell_type": "code",
   "execution_count": 26,
   "id": "06dc71bb-882d-49f5-8566-69b0ea5019dd",
   "metadata": {},
   "outputs": [
    {
     "name": "stdout",
     "output_type": "stream",
     "text": [
      "\n",
      "\n",
      "The author grew up in England and attended college in the United States. He studied computer science and wrote software in Lisp. He also painted and wrote essays, which he published online. After college, he worked at a software company called Interleaf and then co-founded a startup called Viaweb. He also wrote essays and worked on a project to make a programming language in itself. Through this experience, he learned the importance of customs and how they can continue to constrain you even after the restrictions that caused them have disappeared.\n"
     ]
    }
   ],
   "source": [
    "print(str(response))"
   ]
  },
  {
   "cell_type": "code",
   "execution_count": 27,
   "id": "b0894565-2b2c-4987-a891-17ba44d775b5",
   "metadata": {},
   "outputs": [
    {
     "name": "stdout",
     "output_type": "stream",
     "text": [
      "> Source (Doc id: essay_index): \n",
      "    Author: Paul Graham. \n",
      "    The author grew up painting and writing essays. \n",
      "    He wrote a bo...\n",
      "\n",
      "> Source (Doc id: b5964813-f793-4771-b06f-731ad293440f): chance it had to do with HN, and a 40% chance it had do with everything else combined. [17]\n",
      "\n",
      "As w...\n"
     ]
    }
   ],
   "source": [
    "# Get source of response\n",
    "print(response.get_formatted_sources())"
   ]
  },
  {
   "cell_type": "code",
   "execution_count": null,
   "id": "6c103b6d-0946-48ba-a875-476c706f8560",
   "metadata": {},
   "outputs": [],
   "source": []
  }
 ],
 "metadata": {
  "kernelspec": {
   "display_name": "gpt_retrieve_venv",
   "language": "python",
   "name": "gpt_retrieve_venv"
  },
  "language_info": {
   "codemirror_mode": {
    "name": "ipython",
    "version": 3
   },
   "file_extension": ".py",
   "mimetype": "text/x-python",
   "name": "python",
   "nbconvert_exporter": "python",
   "pygments_lexer": "ipython3",
   "version": "3.9.16"
  }
 },
 "nbformat": 4,
 "nbformat_minor": 5
}
