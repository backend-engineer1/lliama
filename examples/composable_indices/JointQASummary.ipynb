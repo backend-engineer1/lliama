{
    "cells": [
        {
            "cell_type": "code",
            "execution_count": 1,
            "id": "a54d1c43-4b7f-4917-939f-a964f6f3dafc",
            "metadata": {
                "tags": []
            },
            "outputs": [],
            "source": [
                "import nest_asyncio\n",
                "nest_asyncio.apply()"
            ]
        },
        {
            "cell_type": "code",
            "execution_count": 2,
            "id": "fa67fa07-1395-4aab-a356-72bdb302f6b2",
            "metadata": {
                "tags": []
            },
            "outputs": [],
            "source": [
                "import logging\n",
                "import sys\n",
                "\n",
                "logging.basicConfig(stream=sys.stdout, level=logging.INFO)\n",
                "logging.getLogger().addHandler(logging.StreamHandler(stream=sys.stdout))"
            ]
        },
        {
            "cell_type": "code",
            "execution_count": 10,
            "id": "1d12d766-3ca8-4012-9da2-248be80bb6ab",
            "metadata": {
                "tags": []
            },
            "outputs": [],
            "source": [
                "from llama_index.composability.joint_qa_summary import QASummaryQueryEngineBuilder\n",
                "from llama_index import SimpleDirectoryReader, ServiceContext, LLMPredictor\n",
                "from llama_index.response.notebook_utils import display_response\n",
                "from langchain.chat_models import ChatOpenAI"
            ]
        },
        {
            "cell_type": "code",
            "execution_count": 4,
            "id": "e7cdaf9d-cfbd-4ced-8d4e-6eef8508224d",
            "metadata": {
                "tags": []
            },
            "outputs": [],
            "source": [
                "reader = SimpleDirectoryReader('../paul_graham_essay/data')\n",
                "documents = reader.load_data()"
            ]
        },
        {
            "cell_type": "code",
            "execution_count": 5,
            "id": "9bba68f3-2743-437e-93b6-ce9ba92e40c3",
            "metadata": {
                "tags": []
            },
            "outputs": [
                {
                    "name": "stdout",
                    "output_type": "stream",
                    "text": [
                        "WARNING:llama_index.llm_predictor.base:Unknown max input size for gpt-3.5-turbo, using defaults.\n",
                        "Unknown max input size for gpt-3.5-turbo, using defaults.\n"
                    ]
                }
            ],
            "source": [
                "llm_predictor_gpt4 = LLMPredictor(llm=ChatOpenAI(temperature=0, model_name=\"gpt-4\"))\n",
                "service_context_gpt4 = ServiceContext.from_defaults(llm_predictor=llm_predictor_gpt4, chunk_size_limit=1024)\n",
                "\n",
                "llm_predictor_chatgpt = LLMPredictor(llm=ChatOpenAI(temperature=0, model_name=\"gpt-3.5-turbo\"))\n",
                "service_context_chatgpt = ServiceContext.from_defaults(llm_predictor=llm_predictor_chatgpt, chunk_size_limit=1024)"
            ]
        },
        {
            "cell_type": "code",
            "execution_count": 6,
            "id": "16216dfb-35ea-49ac-b651-2e8a9e423512",
            "metadata": {
                "tags": []
            },
            "outputs": [
                {
                    "name": "stdout",
                    "output_type": "stream",
                    "text": [
                        "INFO:llama_index.token_counter.token_counter:> [build_index_from_nodes] Total LLM token usage: 0 tokens\n",
                        "> [build_index_from_nodes] Total LLM token usage: 0 tokens\n",
                        "INFO:llama_index.token_counter.token_counter:> [build_index_from_nodes] Total embedding token usage: 20729 tokens\n",
                        "> [build_index_from_nodes] Total embedding token usage: 20729 tokens\n",
                        "INFO:llama_index.token_counter.token_counter:> [build_index_from_nodes] Total LLM token usage: 0 tokens\n",
                        "> [build_index_from_nodes] Total LLM token usage: 0 tokens\n",
                        "INFO:llama_index.token_counter.token_counter:> [build_index_from_nodes] Total embedding token usage: 0 tokens\n",
                        "> [build_index_from_nodes] Total embedding token usage: 0 tokens\n"
                    ]
                }
            ],
            "source": [
                "# NOTE: can also specify an existing docstore, service context, summary text, qa_text, etc.\n",
                "query_engine_builder = QASummaryQueryEngineBuilder(service_context=service_context_gpt4)\n",
                "query_engine = query_engine_builder.build_from_documents(documents)"
            ]
        },
        {
            "cell_type": "code",
            "execution_count": 14,
            "id": "ae60000b-403c-4350-af32-71e26cc68a75",
            "metadata": {
                "scrolled": true,
                "tags": []
            },
            "outputs": [
                {
                    "name": "stdout",
                    "output_type": "stream",
                    "text": [
                        "INFO:llama_index.query_engine.router_query_engine:Selecting query engine 1 because: This choice is relevant because it is specifically for summarization queries, which matches the request for a summary of the author's life..\n",
                        "Selecting query engine 1 because: This choice is relevant because it is specifically for summarization queries, which matches the request for a summary of the author's life..\n",
                        "INFO:llama_index.indices.common_tree.base:> Building index from nodes: 6 chunks\n",
                        "> Building index from nodes: 6 chunks\n",
                        "INFO:llama_index.token_counter.token_counter:> [get_response] Total LLM token usage: 1012 tokens\n",
                        "> [get_response] Total LLM token usage: 1012 tokens\n",
                        "INFO:llama_index.token_counter.token_counter:> [get_response] Total embedding token usage: 0 tokens\n",
                        "> [get_response] Total embedding token usage: 0 tokens\n",
                        "INFO:llama_index.token_counter.token_counter:> [get_response] Total LLM token usage: 23485 tokens\n",
                        "> [get_response] Total LLM token usage: 23485 tokens\n",
                        "INFO:llama_index.token_counter.token_counter:> [get_response] Total embedding token usage: 0 tokens\n",
                        "> [get_response] Total embedding token usage: 0 tokens\n"
                    ]
                }
            ],
            "source": [
                "response = query_engine.query(\n",
                "    \"Can you give me a summary of the author's life?\", \n",
                ")"
            ]
        },
        {
            "cell_type": "code",
            "execution_count": 15,
            "id": "ca12b3ac-fcc2-4998-917a-16f568b59623",
            "metadata": {
                "tags": []
            },
            "outputs": [
                {
                    "data": {
                        "text/markdown": [
                            "**`Final Response:`** The author's life has been a series of diverse experiences and accomplishments, starting with an interest in programming and writing short stories. They studied Artificial Intelligence in college and later developed an interest in art, studying at RISD and the Accademia in Florence, Italy. They worked at a software company called Interleaf and co-founded a startup called Viaweb, which was eventually sold to Yahoo. The author then began writing essays, co-founded Y Combinator, a startup accelerator, and developed a programming language called Arc. Throughout their life, the author has navigated various fields, including art, software, entrepreneurship, and essay writing."
                        ],
                        "text/plain": [
                            "<IPython.core.display.Markdown object>"
                        ]
                    },
                    "metadata": {},
                    "output_type": "display_data"
                },
                {
                    "data": {
                        "text/markdown": [
                            "---"
                        ],
                        "text/plain": [
                            "<IPython.core.display.Markdown object>"
                        ]
                    },
                    "metadata": {},
                    "output_type": "display_data"
                },
                {
                    "data": {
                        "text/markdown": [
                            "**`Source Node 1/24`**"
                        ],
                        "text/plain": [
                            "<IPython.core.display.Markdown object>"
                        ]
                    },
                    "metadata": {},
                    "output_type": "display_data"
                },
                {
                    "data": {
                        "text/markdown": [
                            "**Document ID:** 36cbb5a0-9b49-4c50-aa4c-b8839ecd3237<br>**Similarity:** None<br>**Text:** What I Worked On\n",
                            "\n",
                            "February 2021\n",
                            "\n",
                            "Before college the two main things I worked on, outside of schoo...<br>"
                        ],
                        "text/plain": [
                            "<IPython.core.display.Markdown object>"
                        ]
                    },
                    "metadata": {},
                    "output_type": "display_data"
                },
                {
                    "data": {
                        "text/markdown": [
                            "---"
                        ],
                        "text/plain": [
                            "<IPython.core.display.Markdown object>"
                        ]
                    },
                    "metadata": {},
                    "output_type": "display_data"
                },
                {
                    "data": {
                        "text/markdown": [
                            "**`Source Node 2/24`**"
                        ],
                        "text/plain": [
                            "<IPython.core.display.Markdown object>"
                        ]
                    },
                    "metadata": {},
                    "output_type": "display_data"
                },
                {
                    "data": {
                        "text/markdown": [
                            "**Document ID:** b3acf71e-ffb6-46ff-b5e5-4985dc7671a7<br>**Similarity:** None<br>**Text:** fields would be mere domain knowledge. What I discovered when I got to college was that the other...<br>"
                        ],
                        "text/plain": [
                            "<IPython.core.display.Markdown object>"
                        ]
                    },
                    "metadata": {},
                    "output_type": "display_data"
                },
                {
                    "data": {
                        "text/markdown": [
                            "---"
                        ],
                        "text/plain": [
                            "<IPython.core.display.Markdown object>"
                        ]
                    },
                    "metadata": {},
                    "output_type": "display_data"
                },
                {
                    "data": {
                        "text/markdown": [
                            "**`Source Node 3/24`**"
                        ],
                        "text/plain": [
                            "<IPython.core.display.Markdown object>"
                        ]
                    },
                    "metadata": {},
                    "output_type": "display_data"
                },
                {
                    "data": {
                        "text/markdown": [
                            "**Document ID:** bf07251f-6d6c-48cf-814f-386ff529c6fa<br>**Similarity:** None<br>**Text:** mean the sort of AI in which a program that's told \"the dog is sitting on the chair\" translates t...<br>"
                        ],
                        "text/plain": [
                            "<IPython.core.display.Markdown object>"
                        ]
                    },
                    "metadata": {},
                    "output_type": "display_data"
                },
                {
                    "data": {
                        "text/markdown": [
                            "---"
                        ],
                        "text/plain": [
                            "<IPython.core.display.Markdown object>"
                        ]
                    },
                    "metadata": {},
                    "output_type": "display_data"
                },
                {
                    "data": {
                        "text/markdown": [
                            "**`Source Node 4/24`**"
                        ],
                        "text/plain": [
                            "<IPython.core.display.Markdown object>"
                        ]
                    },
                    "metadata": {},
                    "output_type": "display_data"
                },
                {
                    "data": {
                        "text/markdown": [
                            "**Document ID:** bb833522-2dc0-4d3d-92eb-b3d7dc08e5e8<br>**Similarity:** None<br>**Text:** make enough to survive. And as an artist you could be truly independent. You wouldn't have a boss...<br>"
                        ],
                        "text/plain": [
                            "<IPython.core.display.Markdown object>"
                        ]
                    },
                    "metadata": {},
                    "output_type": "display_data"
                },
                {
                    "data": {
                        "text/markdown": [
                            "---"
                        ],
                        "text/plain": [
                            "<IPython.core.display.Markdown object>"
                        ]
                    },
                    "metadata": {},
                    "output_type": "display_data"
                },
                {
                    "data": {
                        "text/markdown": [
                            "**`Source Node 5/24`**"
                        ],
                        "text/plain": [
                            "<IPython.core.display.Markdown object>"
                        ]
                    },
                    "metadata": {},
                    "output_type": "display_data"
                },
                {
                    "data": {
                        "text/markdown": [
                            "**Document ID:** 516a0e65-7ec0-4cce-bd20-ba31db5ef326<br>**Similarity:** None<br>**Text:** fall. This was now only weeks away. My nice landlady let me leave my stuff in her attic. I had so...<br>"
                        ],
                        "text/plain": [
                            "<IPython.core.display.Markdown object>"
                        ]
                    },
                    "metadata": {},
                    "output_type": "display_data"
                },
                {
                    "data": {
                        "text/markdown": [
                            "---"
                        ],
                        "text/plain": [
                            "<IPython.core.display.Markdown object>"
                        ]
                    },
                    "metadata": {},
                    "output_type": "display_data"
                },
                {
                    "data": {
                        "text/markdown": [
                            "**`Source Node 6/24`**"
                        ],
                        "text/plain": [
                            "<IPython.core.display.Markdown object>"
                        ]
                    },
                    "metadata": {},
                    "output_type": "display_data"
                },
                {
                    "data": {
                        "text/markdown": [
                            "**Document ID:** c08df16f-c5c4-4526-a727-90518545deb4<br>**Similarity:** None<br>**Text:** information-theoretic sense. [4]\n",
                            "\n",
                            "I liked painting still lives because I was curious about what I...<br>"
                        ],
                        "text/plain": [
                            "<IPython.core.display.Markdown object>"
                        ]
                    },
                    "metadata": {},
                    "output_type": "display_data"
                },
                {
                    "data": {
                        "text/markdown": [
                            "---"
                        ],
                        "text/plain": [
                            "<IPython.core.display.Markdown object>"
                        ]
                    },
                    "metadata": {},
                    "output_type": "display_data"
                },
                {
                    "data": {
                        "text/markdown": [
                            "**`Source Node 7/24`**"
                        ],
                        "text/plain": [
                            "<IPython.core.display.Markdown object>"
                        ]
                    },
                    "metadata": {},
                    "output_type": "display_data"
                },
                {
                    "data": {
                        "text/markdown": [
                            "**Document ID:** 0a79f1c1-378c-4879-af47-2ec70a1c8c92<br>**Similarity:** None<br>**Text:** people than sales people (though sales is a real skill and people who are good at it are really g...<br>"
                        ],
                        "text/plain": [
                            "<IPython.core.display.Markdown object>"
                        ]
                    },
                    "metadata": {},
                    "output_type": "display_data"
                },
                {
                    "data": {
                        "text/markdown": [
                            "---"
                        ],
                        "text/plain": [
                            "<IPython.core.display.Markdown object>"
                        ]
                    },
                    "metadata": {},
                    "output_type": "display_data"
                },
                {
                    "data": {
                        "text/markdown": [
                            "**`Source Node 8/24`**"
                        ],
                        "text/plain": [
                            "<IPython.core.display.Markdown object>"
                        ]
                    },
                    "metadata": {},
                    "output_type": "display_data"
                },
                {
                    "data": {
                        "text/markdown": [
                            "**Document ID:** e3c462dc-6b59-4dda-9669-75ede12417df<br>**Similarity:** None<br>**Text:** at RISD, but otherwise I was basically teaching myself to paint, and I could do that for free. So...<br>"
                        ],
                        "text/plain": [
                            "<IPython.core.display.Markdown object>"
                        ]
                    },
                    "metadata": {},
                    "output_type": "display_data"
                },
                {
                    "data": {
                        "text/markdown": [
                            "---"
                        ],
                        "text/plain": [
                            "<IPython.core.display.Markdown object>"
                        ]
                    },
                    "metadata": {},
                    "output_type": "display_data"
                },
                {
                    "data": {
                        "text/markdown": [
                            "**`Source Node 9/24`**"
                        ],
                        "text/plain": [
                            "<IPython.core.display.Markdown object>"
                        ]
                    },
                    "metadata": {},
                    "output_type": "display_data"
                },
                {
                    "data": {
                        "text/markdown": [
                            "**Document ID:** cd9a32c6-a162-4ca4-a44e-5c0609d69c2f<br>**Similarity:** None<br>**Text:** and Robert wrote some to resize images and set up an http server to serve the pages. Then we trie...<br>"
                        ],
                        "text/plain": [
                            "<IPython.core.display.Markdown object>"
                        ]
                    },
                    "metadata": {},
                    "output_type": "display_data"
                },
                {
                    "data": {
                        "text/markdown": [
                            "---"
                        ],
                        "text/plain": [
                            "<IPython.core.display.Markdown object>"
                        ]
                    },
                    "metadata": {},
                    "output_type": "display_data"
                },
                {
                    "data": {
                        "text/markdown": [
                            "**`Source Node 10/24`**"
                        ],
                        "text/plain": [
                            "<IPython.core.display.Markdown object>"
                        ]
                    },
                    "metadata": {},
                    "output_type": "display_data"
                },
                {
                    "data": {
                        "text/markdown": [
                            "**Document ID:** 09552906-ef35-4613-8c10-1bce29a18fdd<br>**Similarity:** None<br>**Text:** in September, but we got more ambitious about the software as we worked on it. Eventually we mana...<br>"
                        ],
                        "text/plain": [
                            "<IPython.core.display.Markdown object>"
                        ]
                    },
                    "metadata": {},
                    "output_type": "display_data"
                },
                {
                    "data": {
                        "text/markdown": [
                            "---"
                        ],
                        "text/plain": [
                            "<IPython.core.display.Markdown object>"
                        ]
                    },
                    "metadata": {},
                    "output_type": "display_data"
                },
                {
                    "data": {
                        "text/markdown": [
                            "**`Source Node 11/24`**"
                        ],
                        "text/plain": [
                            "<IPython.core.display.Markdown object>"
                        ]
                    },
                    "metadata": {},
                    "output_type": "display_data"
                },
                {
                    "data": {
                        "text/markdown": [
                            "**Document ID:** a9a2707b-5128-4df8-ab00-552b353bae02<br>**Similarity:** None<br>**Text:** of some clever insight that we set the price low. We had no idea what businesses paid for things....<br>"
                        ],
                        "text/plain": [
                            "<IPython.core.display.Markdown object>"
                        ]
                    },
                    "metadata": {},
                    "output_type": "display_data"
                },
                {
                    "data": {
                        "text/markdown": [
                            "---"
                        ],
                        "text/plain": [
                            "<IPython.core.display.Markdown object>"
                        ]
                    },
                    "metadata": {},
                    "output_type": "display_data"
                },
                {
                    "data": {
                        "text/markdown": [
                            "**`Source Node 12/24`**"
                        ],
                        "text/plain": [
                            "<IPython.core.display.Markdown object>"
                        ]
                    },
                    "metadata": {},
                    "output_type": "display_data"
                },
                {
                    "data": {
                        "text/markdown": [
                            "**Document ID:** 9972da57-9b47-4703-a58e-399c0ddc4ac3<br>**Similarity:** None<br>**Text:** bought us it felt like going from rags to riches. Since we were going to California, I bought a c...<br>"
                        ],
                        "text/plain": [
                            "<IPython.core.display.Markdown object>"
                        ]
                    },
                    "metadata": {},
                    "output_type": "display_data"
                },
                {
                    "data": {
                        "text/markdown": [
                            "---"
                        ],
                        "text/plain": [
                            "<IPython.core.display.Markdown object>"
                        ]
                    },
                    "metadata": {},
                    "output_type": "display_data"
                },
                {
                    "data": {
                        "text/markdown": [
                            "**`Source Node 13/24`**"
                        ],
                        "text/plain": [
                            "<IPython.core.display.Markdown object>"
                        ]
                    },
                    "metadata": {},
                    "output_type": "display_data"
                },
                {
                    "data": {
                        "text/markdown": [
                            "**Document ID:** eaf7f9a5-4c68-4f2b-903c-16ac1fb10a7a<br>**Similarity:** None<br>**Text:** old patterns, except now there were doors where there hadn't been. Now when I was tired of walkin...<br>"
                        ],
                        "text/plain": [
                            "<IPython.core.display.Markdown object>"
                        ]
                    },
                    "metadata": {},
                    "output_type": "display_data"
                },
                {
                    "data": {
                        "text/markdown": [
                            "---"
                        ],
                        "text/plain": [
                            "<IPython.core.display.Markdown object>"
                        ]
                    },
                    "metadata": {},
                    "output_type": "display_data"
                },
                {
                    "data": {
                        "text/markdown": [
                            "**`Source Node 14/24`**"
                        ],
                        "text/plain": [
                            "<IPython.core.display.Markdown object>"
                        ]
                    },
                    "metadata": {},
                    "output_type": "display_data"
                },
                {
                    "data": {
                        "text/markdown": [
                            "**Document ID:** 3957e728-5d15-4a17-93e5-f127aacf64d9<br>**Similarity:** None<br>**Text:** I doing this? If this vision had to be realized as a company, then screw the vision. I'd build a ...<br>"
                        ],
                        "text/plain": [
                            "<IPython.core.display.Markdown object>"
                        ]
                    },
                    "metadata": {},
                    "output_type": "display_data"
                },
                {
                    "data": {
                        "text/markdown": [
                            "---"
                        ],
                        "text/plain": [
                            "<IPython.core.display.Markdown object>"
                        ]
                    },
                    "metadata": {},
                    "output_type": "display_data"
                },
                {
                    "data": {
                        "text/markdown": [
                            "**`Source Node 15/24`**"
                        ],
                        "text/plain": [
                            "<IPython.core.display.Markdown object>"
                        ]
                    },
                    "metadata": {},
                    "output_type": "display_data"
                },
                {
                    "data": {
                        "text/markdown": [
                            "**Document ID:** c73a147a-5e7e-41a6-866c-6e5b2c1fa8cb<br>**Similarity:** None<br>**Text:** of the most conspicuous patterns I've noticed in my life is how well it has worked, for me at lea...<br>"
                        ],
                        "text/plain": [
                            "<IPython.core.display.Markdown object>"
                        ]
                    },
                    "metadata": {},
                    "output_type": "display_data"
                },
                {
                    "data": {
                        "text/markdown": [
                            "---"
                        ],
                        "text/plain": [
                            "<IPython.core.display.Markdown object>"
                        ]
                    },
                    "metadata": {},
                    "output_type": "display_data"
                },
                {
                    "data": {
                        "text/markdown": [
                            "**`Source Node 16/24`**"
                        ],
                        "text/plain": [
                            "<IPython.core.display.Markdown object>"
                        ]
                    },
                    "metadata": {},
                    "output_type": "display_data"
                },
                {
                    "data": {
                        "text/markdown": [
                            "**Document ID:** 4d28c767-892b-40b4-bc01-bbe53650d5a9<br>**Similarity:** None<br>**Text:** start a startup. Maybe they'd be able to avoid the worst of the mistakes we'd made.\n",
                            "\n",
                            "So I gave th...<br>"
                        ],
                        "text/plain": [
                            "<IPython.core.display.Markdown object>"
                        ]
                    },
                    "metadata": {},
                    "output_type": "display_data"
                },
                {
                    "data": {
                        "text/markdown": [
                            "---"
                        ],
                        "text/plain": [
                            "<IPython.core.display.Markdown object>"
                        ]
                    },
                    "metadata": {},
                    "output_type": "display_data"
                },
                {
                    "data": {
                        "text/markdown": [
                            "**`Source Node 17/24`**"
                        ],
                        "text/plain": [
                            "<IPython.core.display.Markdown object>"
                        ]
                    },
                    "metadata": {},
                    "output_type": "display_data"
                },
                {
                    "data": {
                        "text/markdown": [
                            "**Document ID:** a0d065dc-a6e4-4e52-8e13-f3031c6e1a9e<br>**Similarity:** None<br>**Text:** due to our ignorance about investing. We needed to get experience as investors. What better way, ...<br>"
                        ],
                        "text/plain": [
                            "<IPython.core.display.Markdown object>"
                        ]
                    },
                    "metadata": {},
                    "output_type": "display_data"
                },
                {
                    "data": {
                        "text/markdown": [
                            "---"
                        ],
                        "text/plain": [
                            "<IPython.core.display.Markdown object>"
                        ]
                    },
                    "metadata": {},
                    "output_type": "display_data"
                },
                {
                    "data": {
                        "text/markdown": [
                            "**`Source Node 18/24`**"
                        ],
                        "text/plain": [
                            "<IPython.core.display.Markdown object>"
                        ]
                    },
                    "metadata": {},
                    "output_type": "display_data"
                },
                {
                    "data": {
                        "text/markdown": [
                            "**Document ID:** 6a603dd2-5d09-4870-b04f-0e0e183c86cd<br>**Similarity:** None<br>**Text:** in. We also noticed that the startups were becoming one another's customers. We used to refer jok...<br>"
                        ],
                        "text/plain": [
                            "<IPython.core.display.Markdown object>"
                        ]
                    },
                    "metadata": {},
                    "output_type": "display_data"
                },
                {
                    "data": {
                        "text/markdown": [
                            "---"
                        ],
                        "text/plain": [
                            "<IPython.core.display.Markdown object>"
                        ]
                    },
                    "metadata": {},
                    "output_type": "display_data"
                },
                {
                    "data": {
                        "text/markdown": [
                            "**`Source Node 19/24`**"
                        ],
                        "text/plain": [
                            "<IPython.core.display.Markdown object>"
                        ]
                    },
                    "metadata": {},
                    "output_type": "display_data"
                },
                {
                    "data": {
                        "text/markdown": [
                            "**Document ID:** 25582ee7-6f67-4efe-bcff-0bf81bb17b7f<br>**Similarity:** None<br>**Text:** day in 2010, when he was visiting California for interviews, Robert Morris did something astonish...<br>"
                        ],
                        "text/plain": [
                            "<IPython.core.display.Markdown object>"
                        ]
                    },
                    "metadata": {},
                    "output_type": "display_data"
                },
                {
                    "data": {
                        "text/markdown": [
                            "---"
                        ],
                        "text/plain": [
                            "<IPython.core.display.Markdown object>"
                        ]
                    },
                    "metadata": {},
                    "output_type": "display_data"
                },
                {
                    "data": {
                        "text/markdown": [
                            "**`Source Node 20/24`**"
                        ],
                        "text/plain": [
                            "<IPython.core.display.Markdown object>"
                        ]
                    },
                    "metadata": {},
                    "output_type": "display_data"
                },
                {
                    "data": {
                        "text/markdown": [
                            "**Document ID:** 00847b3d-eb10-4b3e-b97c-c0674bcebb6d<br>**Similarity:** None<br>**Text:** took a while to get back into shape, but it was at least completely engaging. [18]\n",
                            "\n",
                            "I spent most ...<br>"
                        ],
                        "text/plain": [
                            "<IPython.core.display.Markdown object>"
                        ]
                    },
                    "metadata": {},
                    "output_type": "display_data"
                },
                {
                    "data": {
                        "text/markdown": [
                            "---"
                        ],
                        "text/plain": [
                            "<IPython.core.display.Markdown object>"
                        ]
                    },
                    "metadata": {},
                    "output_type": "display_data"
                },
                {
                    "data": {
                        "text/markdown": [
                            "**`Source Node 21/24`**"
                        ],
                        "text/plain": [
                            "<IPython.core.display.Markdown object>"
                        ]
                    },
                    "metadata": {},
                    "output_type": "display_data"
                },
                {
                    "data": {
                        "text/markdown": [
                            "**Document ID:** 9a964817-3224-4e6c-950e-e1a908fd3f7c<br>**Similarity:** None<br>**Text:** 2019. It was fortunate that I had a precisely defined goal, or it would have been hard to keep at...<br>"
                        ],
                        "text/plain": [
                            "<IPython.core.display.Markdown object>"
                        ]
                    },
                    "metadata": {},
                    "output_type": "display_data"
                },
                {
                    "data": {
                        "text/markdown": [
                            "---"
                        ],
                        "text/plain": [
                            "<IPython.core.display.Markdown object>"
                        ]
                    },
                    "metadata": {},
                    "output_type": "display_data"
                },
                {
                    "data": {
                        "text/markdown": [
                            "**`Source Node 22/24`**"
                        ],
                        "text/plain": [
                            "<IPython.core.display.Markdown object>"
                        ]
                    },
                    "metadata": {},
                    "output_type": "display_data"
                },
                {
                    "data": {
                        "text/markdown": [
                            "**Document ID:** 324c3d08-f3b9-4db2-ab78-1445114fa543<br>**Similarity:** None<br>**Text:** Italian words for abstract concepts can nearly always be predicted from their English cognates (e...<br>"
                        ],
                        "text/plain": [
                            "<IPython.core.display.Markdown object>"
                        ]
                    },
                    "metadata": {},
                    "output_type": "display_data"
                },
                {
                    "data": {
                        "text/markdown": [
                            "---"
                        ],
                        "text/plain": [
                            "<IPython.core.display.Markdown object>"
                        ]
                    },
                    "metadata": {},
                    "output_type": "display_data"
                },
                {
                    "data": {
                        "text/markdown": [
                            "**`Source Node 23/24`**"
                        ],
                        "text/plain": [
                            "<IPython.core.display.Markdown object>"
                        ]
                    },
                    "metadata": {},
                    "output_type": "display_data"
                },
                {
                    "data": {
                        "text/markdown": [
                            "**Document ID:** 7eb1a631-d012-45a5-87c8-05b9d88ab493<br>**Similarity:** None<br>**Text:** that our experience with Y Combinator also teaches: Customs continue to constrain you long after ...<br>"
                        ],
                        "text/plain": [
                            "<IPython.core.display.Markdown object>"
                        ]
                    },
                    "metadata": {},
                    "output_type": "display_data"
                },
                {
                    "data": {
                        "text/markdown": [
                            "---"
                        ],
                        "text/plain": [
                            "<IPython.core.display.Markdown object>"
                        ]
                    },
                    "metadata": {},
                    "output_type": "display_data"
                },
                {
                    "data": {
                        "text/markdown": [
                            "**`Source Node 24/24`**"
                        ],
                        "text/plain": [
                            "<IPython.core.display.Markdown object>"
                        ]
                    },
                    "metadata": {},
                    "output_type": "display_data"
                },
                {
                    "data": {
                        "text/markdown": [
                            "**Document ID:** 7d15111e-6ba2-459d-9936-1026764887ad<br>**Similarity:** None<br>**Text:** up a deeply rooted tree.\n",
                            "\n",
                            "[19] One way to get more precise about the concept of invented vs disco...<br>"
                        ],
                        "text/plain": [
                            "<IPython.core.display.Markdown object>"
                        ]
                    },
                    "metadata": {},
                    "output_type": "display_data"
                },
                {
                    "data": {
                        "text/plain": [
                            "{'36cbb5a0-9b49-4c50-aa4c-b8839ecd3237': None,\n",
                            " 'b3acf71e-ffb6-46ff-b5e5-4985dc7671a7': None,\n",
                            " 'bf07251f-6d6c-48cf-814f-386ff529c6fa': None,\n",
                            " 'bb833522-2dc0-4d3d-92eb-b3d7dc08e5e8': None,\n",
                            " '516a0e65-7ec0-4cce-bd20-ba31db5ef326': None,\n",
                            " 'c08df16f-c5c4-4526-a727-90518545deb4': None,\n",
                            " '0a79f1c1-378c-4879-af47-2ec70a1c8c92': None,\n",
                            " 'e3c462dc-6b59-4dda-9669-75ede12417df': None,\n",
                            " 'cd9a32c6-a162-4ca4-a44e-5c0609d69c2f': None,\n",
                            " '09552906-ef35-4613-8c10-1bce29a18fdd': None,\n",
                            " 'a9a2707b-5128-4df8-ab00-552b353bae02': None,\n",
                            " '9972da57-9b47-4703-a58e-399c0ddc4ac3': None,\n",
                            " 'eaf7f9a5-4c68-4f2b-903c-16ac1fb10a7a': None,\n",
                            " '3957e728-5d15-4a17-93e5-f127aacf64d9': None,\n",
                            " 'c73a147a-5e7e-41a6-866c-6e5b2c1fa8cb': None,\n",
                            " '4d28c767-892b-40b4-bc01-bbe53650d5a9': None,\n",
                            " 'a0d065dc-a6e4-4e52-8e13-f3031c6e1a9e': None,\n",
                            " '6a603dd2-5d09-4870-b04f-0e0e183c86cd': None,\n",
                            " '25582ee7-6f67-4efe-bcff-0bf81bb17b7f': None,\n",
                            " '00847b3d-eb10-4b3e-b97c-c0674bcebb6d': None,\n",
                            " '9a964817-3224-4e6c-950e-e1a908fd3f7c': None,\n",
                            " '324c3d08-f3b9-4db2-ab78-1445114fa543': None,\n",
                            " '7eb1a631-d012-45a5-87c8-05b9d88ab493': None,\n",
                            " '7d15111e-6ba2-459d-9936-1026764887ad': None}"
                        ]
                    },
                    "metadata": {},
                    "output_type": "display_data"
                }
            ],
            "source": [
                "display_response(response)"
            ]
        },
        {
            "cell_type": "code",
            "execution_count": 20,
            "id": "4488669d-0f67-48c9-994c-bd7a42498ecb",
            "metadata": {
                "tags": []
            },
            "outputs": [
                {
                    "name": "stdout",
                    "output_type": "stream",
                    "text": [
                        "INFO:llama_index.query_engine.router_query_engine:Selecting query engine 0 because: This choice is relevant because it involves retrieving specific context from documents, which is needed to answer the question about the author's activities growing up..\n",
                        "Selecting query engine 0 because: This choice is relevant because it involves retrieving specific context from documents, which is needed to answer the question about the author's activities growing up..\n",
                        "INFO:llama_index.token_counter.token_counter:> [retrieve] Total LLM token usage: 0 tokens\n",
                        "> [retrieve] Total LLM token usage: 0 tokens\n",
                        "INFO:llama_index.token_counter.token_counter:> [retrieve] Total embedding token usage: 8 tokens\n",
                        "> [retrieve] Total embedding token usage: 8 tokens\n",
                        "INFO:llama_index.token_counter.token_counter:> [get_response] Total LLM token usage: 1893 tokens\n",
                        "> [get_response] Total LLM token usage: 1893 tokens\n",
                        "INFO:llama_index.token_counter.token_counter:> [get_response] Total embedding token usage: 0 tokens\n",
                        "> [get_response] Total embedding token usage: 0 tokens\n"
                    ]
                }
            ],
            "source": [
                "response = query_engine.query(\n",
                "    \"What did the author do growing up?\", \n",
                ")"
            ]
        },
        {
            "cell_type": "code",
            "execution_count": 21,
            "id": "1004bedc-f3c9-4643-9e65-f869a08dec32",
            "metadata": {
                "tags": []
            },
            "outputs": [
                {
                    "data": {
                        "text/markdown": [
                            "**`Final Response:`** Growing up, the author worked on writing short stories and programming. They started programming on an IBM 1401 in 9th grade, using an early version of Fortran. Later, they got a TRS-80 microcomputer and wrote simple games, a program to predict model rocket flight, and a word processor."
                        ],
                        "text/plain": [
                            "<IPython.core.display.Markdown object>"
                        ]
                    },
                    "metadata": {},
                    "output_type": "display_data"
                },
                {
                    "data": {
                        "text/markdown": [
                            "---"
                        ],
                        "text/plain": [
                            "<IPython.core.display.Markdown object>"
                        ]
                    },
                    "metadata": {},
                    "output_type": "display_data"
                },
                {
                    "data": {
                        "text/markdown": [
                            "**`Source Node 1/2`**"
                        ],
                        "text/plain": [
                            "<IPython.core.display.Markdown object>"
                        ]
                    },
                    "metadata": {},
                    "output_type": "display_data"
                },
                {
                    "data": {
                        "text/markdown": [
                            "**Document ID:** 36cbb5a0-9b49-4c50-aa4c-b8839ecd3237<br>**Similarity:** 0.8085773050574637<br>**Text:** What I Worked On\n",
                            "\n",
                            "February 2021\n",
                            "\n",
                            "Before college the two main things I worked on, outside of schoo...<br>"
                        ],
                        "text/plain": [
                            "<IPython.core.display.Markdown object>"
                        ]
                    },
                    "metadata": {},
                    "output_type": "display_data"
                },
                {
                    "data": {
                        "text/markdown": [
                            "---"
                        ],
                        "text/plain": [
                            "<IPython.core.display.Markdown object>"
                        ]
                    },
                    "metadata": {},
                    "output_type": "display_data"
                },
                {
                    "data": {
                        "text/markdown": [
                            "**`Source Node 2/2`**"
                        ],
                        "text/plain": [
                            "<IPython.core.display.Markdown object>"
                        ]
                    },
                    "metadata": {},
                    "output_type": "display_data"
                },
                {
                    "data": {
                        "text/markdown": [
                            "**Document ID:** bb833522-2dc0-4d3d-92eb-b3d7dc08e5e8<br>**Similarity:** 0.806118318463326<br>**Text:** make enough to survive. And as an artist you could be truly independent. You wouldn't have a boss...<br>"
                        ],
                        "text/plain": [
                            "<IPython.core.display.Markdown object>"
                        ]
                    },
                    "metadata": {},
                    "output_type": "display_data"
                },
                {
                    "data": {
                        "text/plain": [
                            "{'36cbb5a0-9b49-4c50-aa4c-b8839ecd3237': None,\n",
                            " 'bb833522-2dc0-4d3d-92eb-b3d7dc08e5e8': None}"
                        ]
                    },
                    "metadata": {},
                    "output_type": "display_data"
                }
            ],
            "source": [
                "display_response(response)"
            ]
        },
        {
            "cell_type": "code",
            "execution_count": 17,
            "id": "ff95db5f-7cbe-4ed7-83ff-27e00b94e7da",
            "metadata": {
                "tags": []
            },
            "outputs": [
                {
                    "name": "stdout",
                    "output_type": "stream",
                    "text": [
                        "INFO:llama_index.query_engine.router_query_engine:Selecting query engine 0 because: This choice is relevant because it involves retrieving specific context from documents, which is needed to answer the question about the author's activities in art school..\n",
                        "Selecting query engine 0 because: This choice is relevant because it involves retrieving specific context from documents, which is needed to answer the question about the author's activities in art school..\n",
                        "INFO:llama_index.token_counter.token_counter:> [retrieve] Total LLM token usage: 0 tokens\n",
                        "> [retrieve] Total LLM token usage: 0 tokens\n",
                        "INFO:llama_index.token_counter.token_counter:> [retrieve] Total embedding token usage: 12 tokens\n",
                        "> [retrieve] Total embedding token usage: 12 tokens\n",
                        "INFO:llama_index.token_counter.token_counter:> [get_response] Total LLM token usage: 1883 tokens\n",
                        "> [get_response] Total LLM token usage: 1883 tokens\n",
                        "INFO:llama_index.token_counter.token_counter:> [get_response] Total embedding token usage: 0 tokens\n",
                        "> [get_response] Total embedding token usage: 0 tokens\n"
                    ]
                }
            ],
            "source": [
                "response = query_engine.query(\n",
                "    \"What did the author do during his time in art school?\", \n",
                ")"
            ]
        },
        {
            "cell_type": "code",
            "execution_count": 19,
            "id": "75d4f291-88fe-4a51-8650-af77ed35766e",
            "metadata": {
                "tags": []
            },
            "outputs": [
                {
                    "data": {
                        "text/markdown": [
                            "**`Final Response:`** During his time in art school, the author attended the Accademia di Belli Arti in Florence, took painting classes, and painted still lives in his bedroom at night. He also spent time observing and learning from his fellow students and faculty, although he found the teaching and learning arrangement at the school to be somewhat lacking."
                        ],
                        "text/plain": [
                            "<IPython.core.display.Markdown object>"
                        ]
                    },
                    "metadata": {},
                    "output_type": "display_data"
                },
                {
                    "data": {
                        "text/markdown": [
                            "---"
                        ],
                        "text/plain": [
                            "<IPython.core.display.Markdown object>"
                        ]
                    },
                    "metadata": {},
                    "output_type": "display_data"
                },
                {
                    "data": {
                        "text/markdown": [
                            "**`Source Node 1/2`**"
                        ],
                        "text/plain": [
                            "<IPython.core.display.Markdown object>"
                        ]
                    },
                    "metadata": {},
                    "output_type": "display_data"
                },
                {
                    "data": {
                        "text/markdown": [
                            "**Document ID:** bb833522-2dc0-4d3d-92eb-b3d7dc08e5e8<br>**Similarity:** 0.859983360121018<br>**Text:** make enough to survive. And as an artist you could be truly independent. You wouldn't have a boss...<br>"
                        ],
                        "text/plain": [
                            "<IPython.core.display.Markdown object>"
                        ]
                    },
                    "metadata": {},
                    "output_type": "display_data"
                },
                {
                    "data": {
                        "text/markdown": [
                            "---"
                        ],
                        "text/plain": [
                            "<IPython.core.display.Markdown object>"
                        ]
                    },
                    "metadata": {},
                    "output_type": "display_data"
                },
                {
                    "data": {
                        "text/markdown": [
                            "**`Source Node 2/2`**"
                        ],
                        "text/plain": [
                            "<IPython.core.display.Markdown object>"
                        ]
                    },
                    "metadata": {},
                    "output_type": "display_data"
                },
                {
                    "data": {
                        "text/markdown": [
                            "**Document ID:** 516a0e65-7ec0-4cce-bd20-ba31db5ef326<br>**Similarity:** 0.8319605972897547<br>**Text:** fall. This was now only weeks away. My nice landlady let me leave my stuff in her attic. I had so...<br>"
                        ],
                        "text/plain": [
                            "<IPython.core.display.Markdown object>"
                        ]
                    },
                    "metadata": {},
                    "output_type": "display_data"
                },
                {
                    "data": {
                        "text/plain": [
                            "{'bb833522-2dc0-4d3d-92eb-b3d7dc08e5e8': None,\n",
                            " '516a0e65-7ec0-4cce-bd20-ba31db5ef326': None}"
                        ]
                    },
                    "metadata": {},
                    "output_type": "display_data"
                }
            ],
            "source": [
                "display_response(response)"
            ]
        },
        {
            "cell_type": "code",
            "execution_count": null,
            "id": "3da9bf34-d242-4fbd-b67a-1dc99b387a13",
            "metadata": {},
            "outputs": [],
            "source": []
        }
    ],
    "metadata": {
        "kernelspec": {
            "display_name": "llama",
            "language": "python",
            "name": "python3"
        },
        "language_info": {
            "codemirror_mode": {
                "name": "ipython",
                "version": 3
            },
            "file_extension": ".py",
            "mimetype": "text/x-python",
            "name": "python",
            "nbconvert_exporter": "python",
            "pygments_lexer": "ipython3",
            "version": "3.9.16"
        }
    },
    "nbformat": 4,
    "nbformat_minor": 5
}