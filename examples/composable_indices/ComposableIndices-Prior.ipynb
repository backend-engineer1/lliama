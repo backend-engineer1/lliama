{
 "cells": [
  {
   "cell_type": "markdown",
   "id": "cfb64210-9c6b-47d7-81f4-67dbdab68e4c",
   "metadata": {
    "tags": []
   },
   "source": [
    "# Composable Indices Demo"
   ]
  },
  {
   "cell_type": "code",
   "execution_count": 1,
   "id": "fa0e62b6",
   "metadata": {},
   "outputs": [],
   "source": [
    "import logging\n",
    "import sys\n",
    "\n",
    "logging.basicConfig(stream=sys.stdout, level=logging.INFO)\n",
    "logging.getLogger().addHandler(logging.StreamHandler(stream=sys.stdout))"
   ]
  },
  {
   "cell_type": "code",
   "execution_count": 2,
   "id": "e27b0473-4bda-47f0-b6ed-fd482eac1a13",
   "metadata": {},
   "outputs": [],
   "source": [
    "from llama_index import (\n",
    "    GPTSimpleVectorIndex,\n",
    "    GPTEmptyIndex,\n",
    "    GPTTreeIndex,\n",
    "    GPTListIndex,\n",
    "    SimpleDirectoryReader\n",
    ")"
   ]
  },
  {
   "cell_type": "markdown",
   "id": "49e0d841-680f-4a0c-b455-788b54978ebf",
   "metadata": {},
   "source": [
    "### Load Datasets\n",
    "\n",
    "Load PG's essay"
   ]
  },
  {
   "cell_type": "code",
   "execution_count": 3,
   "id": "ddff8f98-e002-40c5-93ac-93aa40dca5ca",
   "metadata": {},
   "outputs": [],
   "source": [
    "# load PG's essay\n",
    "essay_documents = SimpleDirectoryReader('../paul_graham_essay/data/').load_data()"
   ]
  },
  {
   "cell_type": "markdown",
   "id": "f1782198-c0de-4679-8951-1297c21b8639",
   "metadata": {
    "tags": []
   },
   "source": [
    "### Building the document indices\n",
    "- Build a vector index for PG's essay\n",
    "- Also build an empty index (to store prior knowledge)"
   ]
  },
  {
   "cell_type": "code",
   "execution_count": null,
   "id": "8b5aad4a-49ef-4b24-962a-0793f4f09316",
   "metadata": {},
   "outputs": [],
   "source": [
    "# build essay index\n",
    "essay_index = GPTSimpleVectorIndex(essay_documents, chunk_size_limit=512)\n",
    "empty_index = GPTEmptyIndex()"
   ]
  },
  {
   "cell_type": "code",
   "execution_count": 5,
   "id": "de0d248b-bc87-4129-a12f-c96eda46f72e",
   "metadata": {},
   "outputs": [],
   "source": [
    "essay_index.save_to_disk('index_pg.json')"
   ]
  },
  {
   "cell_type": "markdown",
   "id": "b8aaf556-df77-4fac-812b-0b6c6d1da0ef",
   "metadata": {},
   "source": [
    "### Loading the indices\n",
    "Build a vector index for PG's essay, build empty index."
   ]
  },
  {
   "cell_type": "code",
   "execution_count": null,
   "id": "98068ef8-aead-46e7-8dac-0d05b5a86e6a",
   "metadata": {},
   "outputs": [],
   "source": [
    "# try loading\n",
    "essay_index = GPTSimpleVectorIndex.load_from_disk('index_pg.json')\n",
    "empty_index = GPTEmptyIndex()"
   ]
  },
  {
   "cell_type": "markdown",
   "id": "bdcb22d5-4df8-4d65-aa29-6493fc027fe2",
   "metadata": {
    "tags": []
   },
   "source": [
    "### Set summaries for the indices\n",
    "\n",
    "Add text summaries to indices, so we can compose other indices on top of it"
   ]
  },
  {
   "cell_type": "code",
   "execution_count": 7,
   "id": "4149cbbd-7d0b-48c4-8c47-7d67ae0c55f0",
   "metadata": {},
   "outputs": [],
   "source": [
    "essay_index.set_text( \n",
    "    \"This document describes Paul Graham's life, from early adulthood to the present day.\"\n",
    ")\n",
    "\n",
    "empty_index.set_text(\"This can be used for general knowledge purposes.\")"
   ]
  },
  {
   "cell_type": "markdown",
   "id": "4ee2ed80-fa2a-477b-835c-464c6fc1d973",
   "metadata": {},
   "source": [
    "### Query Indices\n",
    "See the response of querying each index"
   ]
  },
  {
   "cell_type": "code",
   "execution_count": null,
   "id": "df22aada-bd3c-48e8-98dd-ec38691a6414",
   "metadata": {
    "tags": []
   },
   "outputs": [],
   "source": [
    "response = essay_index.query(\n",
    "    \"Tell me about what Sam Altman did during his time in YC\",\n",
    "    similarity_top_k=3,\n",
    "    response_mode=\"tree_summarize\"\n",
    ")"
   ]
  },
  {
   "cell_type": "code",
   "execution_count": 9,
   "id": "718f0063-e41c-42da-a6f5-3cae90f7c6d3",
   "metadata": {
    "tags": []
   },
   "outputs": [
    {
     "name": "stdout",
     "output_type": "stream",
     "text": [
      "\n",
      "During his time in YC, Sam Altman reorganized the company to ensure its longevity, implemented the batch model of funding startups twice a year, and organized weekly dinners at the YC headquarters in Cambridge. At these dinners, experts on startups would give talks. He also spent time helping the startups through Demo Day.\n"
     ]
    }
   ],
   "source": [
    "print(str(response))"
   ]
  },
  {
   "cell_type": "code",
   "execution_count": null,
   "id": "1b934abf-bb30-4d86-b0ba-3dc60666b798",
   "metadata": {
    "tags": []
   },
   "outputs": [],
   "source": [
    "response = empty_index.query(\n",
    "    \"Tell me about what Sam Altman did during his time in YC\",\n",
    ")"
   ]
  },
  {
   "cell_type": "code",
   "execution_count": 11,
   "id": "f677f144-549c-404f-aafb-5ce8fa295146",
   "metadata": {
    "tags": []
   },
   "outputs": [
    {
     "name": "stdout",
     "output_type": "stream",
     "text": [
      "\n",
      "\n",
      "Sam Altman was the President of Y Combinator from 2014 to 2020. During his time at YC, he oversaw the growth of the accelerator from a small startup incubator to a global network of over 2,000 companies. He also helped launch YC's Fellowship program, which provides early-stage funding to promising startups. He also helped launch YC's Growth program, which provides late-stage funding to companies that have already achieved product-market fit. Altman also helped launch YC's Research program, which provides grants to researchers working on projects related to technology and entrepreneurship. He also helped launch YC's Startup School, which provides free online courses to help entrepreneurs launch their own startups. Altman also helped launch YC's Demo Day, which provides a platform for startups to pitch their ideas to investors. Finally, Altman helped launch YC's Women in Tech program, which provides mentorship and resources to female founders.\n"
     ]
    }
   ],
   "source": [
    "print(str(response))"
   ]
  },
  {
   "cell_type": "markdown",
   "id": "eebbc448-1e0b-402c-b37e-f93bfcc0bf4f",
   "metadata": {},
   "source": [
    "### Define Graph (List Index as Parent Index)\n",
    "\n",
    "This allows us to synthesize responses both using a knowledge corpus as well as prior knowledge."
   ]
  },
  {
   "cell_type": "code",
   "execution_count": 12,
   "id": "c0580ff9-ca0a-4ac1-93ef-b570903ea404",
   "metadata": {
    "tags": []
   },
   "outputs": [],
   "source": [
    "from llama_index.composability import ComposableGraph"
   ]
  },
  {
   "cell_type": "code",
   "execution_count": 13,
   "id": "ef2ba5c2-5fcd-41c7-bb70-ec7d72e4fd9c",
   "metadata": {
    "tags": []
   },
   "outputs": [],
   "source": [
    "# set query config\n",
    "query_configs = [\n",
    "    {\n",
    "        \"index_struct_type\": \"simple_dict\",\n",
    "        \"query_mode\": \"default\",\n",
    "        \"query_kwargs\": {\n",
    "            \"similarity_top_k\": 3,\n",
    "            \"response_mode\": \"tree_summarize\"\n",
    "        }\n",
    "    },\n",
    "]"
   ]
  },
  {
   "cell_type": "code",
   "execution_count": null,
   "id": "eb064bf2-77f5-4205-bd1e-ec7de40a6f7f",
   "metadata": {
    "tags": []
   },
   "outputs": [],
   "source": [
    "list_index = GPTListIndex([essay_index, empty_index])"
   ]
  },
  {
   "cell_type": "code",
   "execution_count": 15,
   "id": "822ada9f-fb43-472e-95ce-0036d508e528",
   "metadata": {},
   "outputs": [],
   "source": [
    "graph = ComposableGraph.build_from_index(list_index)"
   ]
  },
  {
   "cell_type": "code",
   "execution_count": 16,
   "id": "ae127943-afac-48b4-b22d-84a37e553e4b",
   "metadata": {},
   "outputs": [],
   "source": [
    "# [optional] save to disk\n",
    "graph.save_to_disk(\"index_graph.json\")"
   ]
  },
  {
   "cell_type": "code",
   "execution_count": 17,
   "id": "dca2b64b-9af1-456f-8dab-822bfdc5d0ac",
   "metadata": {},
   "outputs": [],
   "source": [
    "# [optional] load from disk\n",
    "graph = ComposableGraph.load_from_disk(\"index_graph.json\")"
   ]
  },
  {
   "cell_type": "code",
   "execution_count": null,
   "id": "f3c4e58b-b153-4e43-bc02-274a85babbe8",
   "metadata": {},
   "outputs": [],
   "source": [
    "# set Logging to DEBUG for more detailed outputs\n",
    "# ask it a question about Sam Altman\n",
    "response = graph.query(\n",
    "    \"Tell me about what Sam Altman did during his time in YC\", \n",
    "    query_configs=query_configs\n",
    ")"
   ]
  },
  {
   "cell_type": "code",
   "execution_count": 19,
   "id": "c0a43443-3e00-4e48-b3ab-f6369191d53a",
   "metadata": {},
   "outputs": [
    {
     "name": "stdout",
     "output_type": "stream",
     "text": [
      "\n",
      "\n",
      "During his time in YC, Sam Altman reorganized the company to ensure its longevity, implemented the batch model of funding startups twice a year, and organized weekly dinners at the YC headquarters in Cambridge. At these dinners, experts on startups would give talks. He also spent time helping the startups through Demo Day and taking over more and more of the running of YC. He also oversaw the growth of the accelerator from a small startup incubator to a global network of over 2,000 companies. He also helped launch YC's Fellowship program, which provides early-stage funding to promising startups, YC's Growth program, which provides late-stage funding to companies that have already achieved product-market fit, YC's Research program, which provides grants to researchers working on projects related to technology and entrepreneurship, YC's Startup School, which provides free online courses to help entrepreneurs launch and grow their businesses, and YC's Women in Tech program, which provides mentorship and resources to female founders.\n"
     ]
    }
   ],
   "source": [
    "print(str(response))"
   ]
  },
  {
   "cell_type": "code",
   "execution_count": 20,
   "id": "c78bc3da-6bad-4998-9a81-90a3fa9200a9",
   "metadata": {},
   "outputs": [
    {
     "name": "stdout",
     "output_type": "stream",
     "text": [
      "> Source (Doc id: 081e45f9-9dfd-4425-82c6-6eb81cc75bff): This document describes Paul Graham's life, from early adulthood to the present day....\n",
      "\n",
      "> Source (Doc id: 9268910d-4749-46a8-847d-1279ea88737b): one of them I realized I was ready to hand YC over to someone else.\n",
      "\n",
      "I asked Jessica if she wante...\n",
      "\n",
      "> Source (Doc id: 9268910d-4749-46a8-847d-1279ea88737b): one works harder than the boss.\" He meant it both descriptively and prescriptively, and it was th...\n",
      "\n",
      "> Source (Doc id: 9268910d-4749-46a8-847d-1279ea88737b): had done for us that seemed to us like magic was to get us set up as a company. We were fine writ...\n",
      "\n",
      "> Source (Doc id: 4bfea35b-864a-41d9-a69c-a63fae2f2a8d): This can be used for general knowledge purposes....\n"
     ]
    }
   ],
   "source": [
    "# Get source of response\n",
    "print(response.get_formatted_sources())"
   ]
  },
  {
   "cell_type": "markdown",
   "id": "f437c6df-31b1-40d9-9b57-70f7e0318eb7",
   "metadata": {
    "tags": []
   },
   "source": [
    "### Define Graph (Tree Index as Parent Index)\n",
    "\n",
    "This allows us to \"route\" a query to either a knowledge-augmented index, or to the LLM itself."
   ]
  },
  {
   "cell_type": "code",
   "execution_count": 21,
   "id": "d0c05040-0f6c-4e9d-bf08-4e5207ea2774",
   "metadata": {
    "tags": []
   },
   "outputs": [],
   "source": [
    "from llama_index.composability import ComposableGraph"
   ]
  },
  {
   "cell_type": "code",
   "execution_count": 22,
   "id": "a6c1b887-9cb5-49db-a9c7-5cb348beff58",
   "metadata": {
    "tags": []
   },
   "outputs": [],
   "source": [
    "# set query config\n",
    "query_configs = [\n",
    "    {\n",
    "        \"index_struct_type\": \"simple_dict\",\n",
    "        \"query_mode\": \"default\",\n",
    "        \"query_kwargs\": {\n",
    "            \"similarity_top_k\": 3,\n",
    "            \"response_mode\": \"tree_summarize\"\n",
    "        }\n",
    "    },\n",
    "]"
   ]
  },
  {
   "cell_type": "code",
   "execution_count": 23,
   "id": "d5579f16-cee5-4287-b89e-635d161bdfb5",
   "metadata": {
    "tags": []
   },
   "outputs": [
    {
     "name": "stdout",
     "output_type": "stream",
     "text": [
      "INFO:root:> Building index from nodes: 0 chunks\n",
      "> Building index from nodes: 0 chunks\n",
      "INFO:root:> [build_index_from_documents] Total LLM token usage: 245 tokens\n",
      "> [build_index_from_documents] Total LLM token usage: 245 tokens\n",
      "INFO:root:> [build_index_from_documents] Total embedding token usage: 0 tokens\n",
      "> [build_index_from_documents] Total embedding token usage: 0 tokens\n"
     ]
    }
   ],
   "source": [
    "tree_index = GPTTreeIndex([essay_index, empty_index])"
   ]
  },
  {
   "cell_type": "code",
   "execution_count": 24,
   "id": "8cc956fc-f007-4f8f-8907-f6153b2cbce0",
   "metadata": {
    "tags": []
   },
   "outputs": [],
   "source": [
    "graph2 = ComposableGraph.build_from_index(tree_index)"
   ]
  },
  {
   "cell_type": "code",
   "execution_count": 25,
   "id": "1c4fca3c-4bb4-4743-b185-9495acb1d8e7",
   "metadata": {
    "tags": []
   },
   "outputs": [],
   "source": [
    "# [optional] save to disk\n",
    "graph2.save_to_disk(\"index_graph2.json\")"
   ]
  },
  {
   "cell_type": "code",
   "execution_count": 26,
   "id": "1a202c1f-318c-4267-b86d-be347abc082a",
   "metadata": {
    "tags": []
   },
   "outputs": [],
   "source": [
    "# [optional] load from disk\n",
    "graph2 = ComposableGraph.load_from_disk(\"index_graph2.json\")"
   ]
  },
  {
   "cell_type": "code",
   "execution_count": null,
   "id": "c57d370f-59af-4a2d-8fc6-05cf93d958e5",
   "metadata": {
    "tags": []
   },
   "outputs": [],
   "source": [
    "# set Logging to DEBUG for more detailed outputs\n",
    "# ask it a question about NYC \n",
    "response = graph2.query(\n",
    "    \"Tell me about what Paul Graham did growing up?\", \n",
    "    query_configs=query_configs\n",
    ")"
   ]
  },
  {
   "cell_type": "code",
   "execution_count": 28,
   "id": "1d99502a-ab3c-48da-bfb1-c54a95dadbb5",
   "metadata": {
    "tags": []
   },
   "outputs": [
    {
     "data": {
      "text/plain": [
       "'Paul Graham grew up in England and was interested in writing and coding from a young age. He spent much of his time writing essays and working on coding projects, such as an interpreter written in itself and a project called Bel. He also worked on an application builder, network infrastructure, and two services (images and phone calls).'"
      ]
     },
     "execution_count": 28,
     "metadata": {},
     "output_type": "execute_result"
    }
   ],
   "source": [
    "str(response)"
   ]
  },
  {
   "cell_type": "code",
   "execution_count": 29,
   "id": "997498a9-128d-4c0b-8826-c6d6871571f5",
   "metadata": {
    "tags": []
   },
   "outputs": [
    {
     "name": "stdout",
     "output_type": "stream",
     "text": [
      "> Source (Doc id: 081e45f9-9dfd-4425-82c6-6eb81cc75bff): This document describes Paul Graham's life, from early adulthood to the present day....\n",
      "\n",
      "> Source (Doc id: 9268910d-4749-46a8-847d-1279ea88737b): from writing essays during most of this time, or I'd never have finished. In late 2015 I spent 3 ...\n",
      "\n",
      "> Source (Doc id: 9268910d-4749-46a8-847d-1279ea88737b): Aspra.\n",
      "\n",
      "I started working on the application builder, Dan worked on network infrastructure, and t...\n",
      "\n",
      "> Source (Doc id: 9268910d-4749-46a8-847d-1279ea88737b): one party. So for every guest, two thirds of the other guests would be people they didn't know bu...\n"
     ]
    }
   ],
   "source": [
    "print(response.get_formatted_sources())"
   ]
  },
  {
   "cell_type": "code",
   "execution_count": null,
   "id": "8dc10463-ca79-4b47-83d6-217bd186d822",
   "metadata": {
    "tags": []
   },
   "outputs": [],
   "source": [
    "response = graph2.query(\n",
    "    \"Tell me about Barack Obama\", \n",
    "    query_configs=query_configs\n",
    ")"
   ]
  },
  {
   "cell_type": "code",
   "execution_count": 31,
   "id": "9b8411a0-f9a8-4f1b-a476-03e746ec8ab3",
   "metadata": {
    "tags": []
   },
   "outputs": [
    {
     "data": {
      "text/plain": [
       "'Barack Obama is an American politician who served as the 44th President of the United States from 2009 to 2017. He is the first African American to have held the office. Obama previously served as a U.S. Senator from Illinois from 2005 to 2008 and in the Illinois State Senate from 1997 to 2004. He was born in Honolulu, Hawaii, and is a graduate of Columbia University and Harvard Law School. Obama was a community organizer in Chicago before earning his law degree. He worked as a civil rights attorney and taught constitutional law at the University of Chicago Law School from 1992 to 2004. He was elected president in 2008 and re-elected in 2012. During his two terms, Obama signed the Affordable Care Act, ended the military\\'s \"Don\\'t Ask, Don\\'t Tell\" policy, and ordered U.S. military involvement in the 2011 Libyan civil war. He also oversaw the economic stimulus package of 2009 and the American Recovery and Reinvestment Act of 2009.'"
      ]
     },
     "execution_count": 31,
     "metadata": {},
     "output_type": "execute_result"
    }
   ],
   "source": [
    "str(response)"
   ]
  },
  {
   "cell_type": "code",
   "execution_count": 43,
   "id": "749625a3-722c-4bf4-b4ef-55b00f20ef20",
   "metadata": {
    "tags": []
   },
   "outputs": [
    {
     "data": {
      "text/plain": [
       "'> Source (Doc id: 8a2fa560-e31e-4066-a3de-6d1259c6c886): This can be used for general knowledge purposes....'"
      ]
     },
     "execution_count": 43,
     "metadata": {},
     "output_type": "execute_result"
    }
   ],
   "source": [
    "response.get_formatted_sources()"
   ]
  }
 ],
 "metadata": {
  "kernelspec": {
   "display_name": "llama_index",
   "language": "python",
   "name": "llama_index"
  },
  "language_info": {
   "codemirror_mode": {
    "name": "ipython",
    "version": 3
   },
   "file_extension": ".py",
   "mimetype": "text/x-python",
   "name": "python",
   "nbconvert_exporter": "python",
   "pygments_lexer": "ipython3",
   "version": "3.10.10"
  }
 },
 "nbformat": 4,
 "nbformat_minor": 5
}
