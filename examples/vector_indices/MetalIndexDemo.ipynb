
{
  "nbformat": 4,
  "nbformat_minor": 0,
  "metadata": {
    "colab": {
      "provenance": []
    },
    "kernelspec": {
      "name": "python3",
      "display_name": "Python 3"
    },
    "language_info": {
      "name": "python"
    }
  },
  "cells": [
    {
      "cell_type": "markdown",
      "source": [
        "# Metal Index Demo"
      ],
      "metadata": {
        "id": "EuGbkREYqu6n"
      }
    },
    {
      "cell_type": "markdown",
      "source": [
        "## Creating a Metal Index"
      ],
      "metadata": {
        "id": "_D2M6RiFq3zp"
      }
    },
    {
      "cell_type": "markdown",
      "source": [
        "1. Register an account for [Metal](https://app.getmetal.io/)\n",
        "2. Generate an API key in [Metal's Settings](https://app.getmetal.io/settings/organization). Save the `api_key` + `client_id`\n",
        "3. Generate an Index in [Metal's Dashboard](https://app.getmetal.io/). Save the `index_id`"
      ],
      "metadata": {
        "id": "3iAr1k9Rrjg1"
      }
    },
    {
      "cell_type": "markdown",
      "source": [
        "## Load data into your Index"
      ],
      "metadata": {
        "id": "EUPtAhnGsQ7I"
      }
    },
    {
      "cell_type": "code",
      "source": [
        "import logging\n",
        "import sys\n",
        "\n",
        "logging.basicConfig(stream=sys.stdout, level=logging.INFO)\n",
        "logging.getLogger().addHandler(logging.StreamHandler(stream=sys.stdout))"
      ],
      "metadata": {
        "id": "lJ3PobNlq8PC"
      },
      "execution_count": null,
      "outputs": []
    },
    {
      "cell_type": "code",
      "source": [
        "from gpt_index import GPTVectorStoreIndex, SimpleDirectoryReader\n",
        "from gpt_index.vector_stores import MetalVectorStore\n",
        "from IPython.display import Markdown, display"
      ],
      "metadata": {
        "id": "aQb6tXm4sxMZ"
      },
      "execution_count": null,
      "outputs": []
    },
    {
      "cell_type": "code",
      "source": [
        "# load documents\n",
        "documents = SimpleDirectoryReader('../paul_graham_essay/data').load_data()"
      ],
      "metadata": {
        "id": "a8ae33cFszV7"
      },
      "execution_count": null,
      "outputs": []
    },
    {
      "cell_type": "code",
      "source": [
        "# initialize Metal Vector Store\n",
        "from gpt_index.storage.storage_context import StorageContext\n",
        "\n",
        "api_key = \"api key\"\n",
        "client_id = \"client id\"\n",
        "index_id = \"index id\"\n",
        "\n",
        "vector_store = MetalVectorStore(\n",
        "    api_key=api_key,\n",
        "    client_id=client_id,\n",
        "    index_id=index_id,\n",
        ")\n",
        "storage_context = StorageContext.from_defaults(vector_store=vector_store)\n",
        "index = GPTVectorStoreIndex.from_documents(documents, storage_context=storage_context)"
      ],
      "metadata": {
        "id": "AOcOxebas1We"
      },
      "execution_count": null,
      "outputs": []
    },
    {
      "cell_type": "markdown",
      "source": [
        "## Query Index"
      ],
      "metadata": {
        "id": "cVz4ADaFtxgg"
      }
    },
    {
      "cell_type": "code",
      "source": [
        "# set Logging to DEBUG for more detailed outputs\n",
        "query_engine = index.as_query_engine()\n",
        "response = query_engine.query(\"What did the author do growing up?\")"
      ],
      "metadata": {
        "id": "dIgc_nA-tzzZ"
      },
      "execution_count": null,
      "outputs": []
    },
    {
      "cell_type": "code",
      "source": [
        "display(Markdown(f\"<b>{response}</b>\"))\n"
      ],
      "metadata": {
        "id": "7vbx3mBkt3V8"
      },
      "execution_count": null,
      "outputs": []
    }
  ]
}
