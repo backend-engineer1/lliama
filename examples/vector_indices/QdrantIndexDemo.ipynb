{
 "cells": [
  {
   "cell_type": "markdown",
   "id": "307804a3-c02b-4a57-ac0d-172c30ddc851",
   "metadata": {},
   "source": [
    "# Qdrant Index Demo"
   ]
  },
  {
   "cell_type": "markdown",
   "id": "f7010b1d-d1bb-4f08-9309-a328bb4ea396",
   "metadata": {},
   "source": [
    "#### Creating a Qdrant client"
   ]
  },
  {
   "cell_type": "code",
   "execution_count": null,
   "id": "47264e32",
   "metadata": {},
   "outputs": [],
   "source": [
    "import logging\n",
    "import sys\n",
    "\n",
    "logging.basicConfig(stream=sys.stdout, level=logging.INFO)\n",
    "logging.getLogger().addHandler(logging.StreamHandler(stream=sys.stdout))"
   ]
  },
  {
   "cell_type": "code",
   "execution_count": 1,
   "id": "0c9f4d21-145a-401e-95ff-ccb259e8ef84",
   "metadata": {
    "ExecuteTime": {
     "end_time": "2023-01-30T18:22:07.383871Z",
     "start_time": "2023-01-30T18:22:06.922046Z"
    },
    "pycharm": {
     "is_executing": true
    }
   },
   "outputs": [],
   "source": [
    "import qdrant_client"
   ]
  },
  {
   "cell_type": "code",
   "execution_count": 2,
   "id": "b1757e8a",
   "metadata": {
    "ExecuteTime": {
     "end_time": "2023-01-30T18:22:07.509759Z",
     "start_time": "2023-01-30T18:22:07.385881Z"
    },
    "pycharm": {
     "is_executing": true
    }
   },
   "outputs": [],
   "source": [
    "client = qdrant_client.QdrantClient(\n",
    "    host=\"<qdrant-host>\",\n",
    "    api_key=\"<qdrant-api-key>\", # For Qdrant Cloud, None for local instance\n",
    "    https=True, # True if using Qdrant Cloud\n",
    ")"
   ]
  },
  {
   "cell_type": "markdown",
   "id": "8ee4473a-094f-4d0a-a825-e1213db07240",
   "metadata": {},
   "source": [
    "#### Load documents, build the GPTQdrantIndex"
   ]
  },
  {
   "cell_type": "code",
   "execution_count": 3,
   "id": "0a2bcc07",
   "metadata": {
    "ExecuteTime": {
     "end_time": "2023-01-30T18:22:08.604548Z",
     "start_time": "2023-01-30T18:22:07.512307Z"
    },
    "pycharm": {
     "is_executing": true
    }
   },
   "outputs": [],
   "source": [
    "from gpt_index import GPTQdrantIndex, SimpleDirectoryReader\n",
    "from IPython.display import Markdown, display"
   ]
  },
  {
   "cell_type": "code",
   "execution_count": 4,
   "id": "68cbd239-880e-41a3-98d8-dbb3fab55431",
   "metadata": {
    "ExecuteTime": {
     "end_time": "2023-01-30T18:22:08.611152Z",
     "start_time": "2023-01-30T18:22:08.608198Z"
    },
    "pycharm": {
     "is_executing": true
    }
   },
   "outputs": [],
   "source": [
    "# load documents\n",
    "documents = SimpleDirectoryReader('../paul_graham_essay/data').load_data()"
   ]
  },
  {
   "cell_type": "code",
   "execution_count": 5,
   "id": "ba1558b3",
   "metadata": {
    "ExecuteTime": {
     "end_time": "2023-01-30T18:22:20.150199Z",
     "start_time": "2023-01-30T18:22:08.613561Z"
    },
    "pycharm": {
     "is_executing": true
    }
   },
   "outputs": [
    {
     "name": "stdout",
     "output_type": "stream",
     "text": [
      "> Adding chunk: \t\t\n",
      "\n",
      "What I Worked On\n",
      "\n",
      "February 2021\n",
      "\n",
      "Before col...\n",
      "> Adding chunk: only up to age 25 and already there are such co...\n",
      "> Adding chunk: clear that it was even possible. To find out, w...\n",
      "> Adding chunk: a name for the kind of company Viaweb was, an \"...\n",
      "> Adding chunk: get their initial set of customers almost entir...\n",
      "> Adding chunk: had smart people and built impressive technolog...\n",
      "> [build_index_from_documents] Total LLM token usage: 0 tokens\n",
      "> [build_index_from_documents] Total embedding token usage: 17621 tokens\n"
     ]
    }
   ],
   "source": [
    "index = GPTQdrantIndex(documents, client=client, collection_name=\"paul_graham\")"
   ]
  },
  {
   "cell_type": "code",
   "execution_count": 6,
   "id": "c36cadc1",
   "metadata": {
    "ExecuteTime": {
     "end_time": "2023-01-30T18:22:20.231198Z",
     "start_time": "2023-01-30T18:22:20.156095Z"
    }
   },
   "outputs": [],
   "source": [
    "# save index to disk\n",
    "index.save_to_disk(\"index_qdrant.json\")"
   ]
  },
  {
   "cell_type": "code",
   "execution_count": 7,
   "id": "70b372a7",
   "metadata": {
    "ExecuteTime": {
     "end_time": "2023-01-30T18:22:20.497373Z",
     "start_time": "2023-01-30T18:22:20.238928Z"
    }
   },
   "outputs": [],
   "source": [
    "# load index from disk\n",
    "index = GPTQdrantIndex.load_from_disk(\"index_qdrant.json\", client=client)"
   ]
  },
  {
   "cell_type": "markdown",
   "id": "04304299-fc3e-40a0-8600-f50c3292767e",
   "metadata": {},
   "source": [
    "#### Query Index"
   ]
  },
  {
   "cell_type": "code",
   "execution_count": 8,
   "id": "35369eda",
   "metadata": {
    "ExecuteTime": {
     "end_time": "2023-01-30T18:22:22.963556Z",
     "start_time": "2023-01-30T18:22:20.504119Z"
    }
   },
   "outputs": [
    {
     "name": "stdout",
     "output_type": "stream",
     "text": [
      "> Top 1 nodes:\n",
      "> [Node 95fda200-57a3-4ec2-ad2d-32da0564ce4d] [Similarity score: 0.777002] had smart people and built impressive technology, and yet got crushed by Moore's Law. In the 1990...\n",
      "> Searching in chunk: doc_id: 33bf1319-d69c-48a5-a451-7a88751ce99b\n",
      "te...\n",
      "> Initial response: \n",
      "The author does not provide any information about what they did growing up.\n",
      "> [query] Total LLM token usage: 2829 tokens\n",
      "> [query] Total embedding token usage: 8 tokens\n"
     ]
    }
   ],
   "source": [
    "# set Logging to DEBUG for more detailed outputs\n",
    "response = index.query(\"What did the author do growing up?\")"
   ]
  },
  {
   "cell_type": "code",
   "execution_count": 9,
   "id": "bedbb693-725f-478f-be26-fa7180ea38b2",
   "metadata": {
    "ExecuteTime": {
     "end_time": "2023-01-30T18:22:22.990701Z",
     "start_time": "2023-01-30T18:22:22.969707Z"
    }
   },
   "outputs": [
    {
     "data": {
      "text/markdown": [
       "<b>\n",
       "The author does not provide any information about what they did growing up.</b>"
      ],
      "text/plain": [
       "<IPython.core.display.Markdown object>"
      ]
     },
     "metadata": {},
     "output_type": "display_data"
    }
   ],
   "source": [
    "display(Markdown(f\"<b>{response}</b>\"))"
   ]
  },
  {
   "cell_type": "code",
   "execution_count": 10,
   "id": "99212d33",
   "metadata": {
    "ExecuteTime": {
     "end_time": "2023-01-30T18:22:26.533275Z",
     "start_time": "2023-01-30T18:22:23.000258Z"
    }
   },
   "outputs": [
    {
     "name": "stdout",
     "output_type": "stream",
     "text": [
      "> Top 1 nodes:\n",
      "> [Node 95fda200-57a3-4ec2-ad2d-32da0564ce4d] [Similarity score: 0.815135] had smart people and built impressive technology, and yet got crushed by Moore's Law. In the 1990...\n",
      "> Searching in chunk: doc_id: 33bf1319-d69c-48a5-a451-7a88751ce99b\n",
      "te...\n",
      "> Initial response: \n",
      "After his time at Y Combinator, the author wrote essays and ran a forum. He also wrote about the concept of invented versus discovered and talked about space aliens. He also thanked those who read drafts of his work.\n",
      "> [query] Total LLM token usage: 2866 tokens\n",
      "> [query] Total embedding token usage: 14 tokens\n"
     ]
    }
   ],
   "source": [
    "# set Logging to DEBUG for more detailed outputs\n",
    "response = index.query(\"What did the author do after his time at Y Combinator?\")"
   ]
  },
  {
   "cell_type": "code",
   "execution_count": 11,
   "id": "1a720ad6",
   "metadata": {
    "ExecuteTime": {
     "end_time": "2023-01-30T18:22:26.553482Z",
     "start_time": "2023-01-30T18:22:26.539893Z"
    }
   },
   "outputs": [
    {
     "data": {
      "text/markdown": [
       "<b>\n",
       "After his time at Y Combinator, the author wrote essays and ran a forum. He also wrote about the concept of invented versus discovered and talked about space aliens. He also thanked those who read drafts of his work.</b>"
      ],
      "text/plain": [
       "<IPython.core.display.Markdown object>"
      ]
     },
     "metadata": {},
     "output_type": "display_data"
    }
   ],
   "source": [
    "display(Markdown(f\"<b>{response}</b>\"))"
   ]
  },
  {
   "cell_type": "code",
   "execution_count": null,
   "id": "b0b6d770",
   "metadata": {},
   "outputs": [],
   "source": []
  }
 ],
 "metadata": {
  "kernelspec": {
   "display_name": "Python 3 (ipykernel)",
   "language": "python",
   "name": "python3"
  },
  "language_info": {
   "codemirror_mode": {
    "name": "ipython",
    "version": 3
   },
   "file_extension": ".py",
   "mimetype": "text/x-python",
   "name": "python",
   "nbconvert_exporter": "python",
   "pygments_lexer": "ipython3",
   "version": "3.11.1"
  }
 },
 "nbformat": 4,
 "nbformat_minor": 5
}
