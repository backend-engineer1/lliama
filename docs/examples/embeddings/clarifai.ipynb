{
 "cells": [
  {
   "cell_type": "markdown",
   "metadata": {},
   "source": [
    "# Embeddings with Clarifai\n",
    "\n",
    "LlamaIndex has support for Clarifai embeddings models."
   ]
  },
  {
   "cell_type": "markdown",
   "metadata": {},
   "source": [
    "You must have a Clarifai account and a Personal Access Token (PAT) key. \n",
    "[Check here](https://clarifai.com/settings/security) to get or create a PAT.\n",
    "\n",
    "Set CLARIFAI_PAT as an environment variable."
   ]
  },
  {
   "cell_type": "code",
   "execution_count": null,
   "metadata": {},
   "outputs": [],
   "source": [
    "!export CLARIFAI_PAT=YOUR_KEY"
   ]
  },
  {
   "cell_type": "markdown",
   "metadata": {},
   "source": [
    "Models can be referenced either by the full URL or by the model_name, user ID, and app ID combination."
   ]
  },
  {
   "cell_type": "code",
   "execution_count": null,
   "metadata": {},
   "outputs": [],
   "source": [
    "from llama_index.embeddings import ClarifaiEmbedding\n",
    "\n",
    "embed_model = ClarifaiEmbedding(\n",
    "    model_url=\"https://clarifai.com/clarifai/main/models/BAAI-bge-base-en\"\n",
    ")\n",
    "\n",
    "# Alternatively\n",
    "embed_model = ClarifaiEmbedding(\n",
    "    model_name=\"BAAI-bge-base-en\", user_id=\"clarifai\", app_id=\"main\"\n",
    ")"
   ]
  },
  {
   "cell_type": "code",
   "execution_count": null,
   "metadata": {},
   "outputs": [],
   "source": [
    "embeddings = embed_model.get_text_embedding(\"Hello World!\")\n",
    "print(len(embeddings))\n",
    "print(embeddings[:5])"
   ]
  }
 ],
 "metadata": {
  "language_info": {
   "name": "python"
  }
 },
 "nbformat": 4,
 "nbformat_minor": 2
}
