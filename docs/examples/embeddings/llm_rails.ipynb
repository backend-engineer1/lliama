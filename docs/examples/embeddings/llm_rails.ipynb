{
 "cells": [
  {
   "attachments": {},
   "cell_type": "markdown",
   "metadata": {},
   "source": [
    "# LLMRails Embeddings"
   ]
  },
  {
   "cell_type": "code",
   "execution_count": null,
   "metadata": {},
   "outputs": [],
   "source": [
    "# imports\n",
    "\n",
    "from llama_index.embeddings.llm_rails import LLMRailsEmbeddings"
   ]
  },
  {
   "cell_type": "code",
   "execution_count": null,
   "metadata": {},
   "outputs": [],
   "source": [
    "# get credentials and create embeddings\n",
    "\n",
    "import os\n",
    "\n",
    "api_key = os.environ.get(\"API_KEY\", \"your-api-key\")\n",
    "model_id = os.environ.get(\"MODEL_ID\", \"your-model-id\")\n",
    "\n",
    "\n",
    "embed_model = LLMRailsEmbeddings(model_id=model_id, api_key=api_key)\n",
    "\n",
    "embeddings = embed_model.get_text_embedding(\n",
    "    \"It is raining cats and dogs here!\"\n",
    ")"
   ]
  }
 ],
 "metadata": {
  "kernelspec": {
   "display_name": "Python 3",
   "language": "python",
   "name": "python3"
  },
  "language_info": {
   "codemirror_mode": {
    "name": "ipython",
    "version": 3
   },
   "file_extension": ".py",
   "mimetype": "text/x-python",
   "name": "python",
   "nbconvert_exporter": "python",
   "pygments_lexer": "ipython3"
  }
 },
 "nbformat": 4,
 "nbformat_minor": 2
}
