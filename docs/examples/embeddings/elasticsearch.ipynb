{
 "cells": [
  {
   "attachments": {},
   "cell_type": "markdown",
   "metadata": {},
   "source": [
    "# Elasticsearch Embeddings"
   ]
  },
  {
   "cell_type": "code",
   "execution_count": null,
   "metadata": {},
   "outputs": [],
   "source": [
    "# imports\n",
    "\n",
    "from llama_index.embeddings.elasticsearch import ElasticsearchEmbeddings\n",
    "from llama_index.vector_stores import ElasticsearchStore\n",
    "from llama_index import ServiceContext, StorageContext, VectorStoreIndex"
   ]
  },
  {
   "cell_type": "code",
   "execution_count": null,
   "metadata": {},
   "outputs": [],
   "source": [
    "# get credentials and create embeddings\n",
    "\n",
    "import os\n",
    "\n",
    "host = os.environ.get(\"ES_HOST\", \"localhost:9200\")\n",
    "username = os.environ.get(\"ES_USERNAME\", \"elastic\")\n",
    "password = os.environ.get(\"ES_PASSWORD\", \"changeme\")\n",
    "index_name = os.environ.get(\"INDEX_NAME\", \"your-index-name\")\n",
    "model_id = os.environ.get(\"MODEL_ID\", \"your-model-id\")\n",
    "\n",
    "\n",
    "embeddings = ElasticsearchEmbeddings.from_credentials(\n",
    "    model_id=model_id, es_url=host, es_username=username, es_password=password\n",
    ")"
   ]
  },
  {
   "cell_type": "code",
   "execution_count": null,
   "metadata": {},
   "outputs": [],
   "source": [
    "# create service context using the embeddings\n",
    "\n",
    "service_context = ServiceContext(embed_model=embeddings, chunk_size=512)"
   ]
  },
  {
   "cell_type": "code",
   "execution_count": null,
   "metadata": {},
   "outputs": [],
   "source": [
    "# usage with elasticsearch vector store\n",
    "\n",
    "vector_store = ElasticsearchStore(\n",
    "    index_name=index_name, es_url=host, es_user=username, es_password=password\n",
    ")\n",
    "\n",
    "storage_context = StorageContext.from_defaults(vector_store=vector_store)\n",
    "\n",
    "index = VectorStoreIndex.from_vector_store(\n",
    "    vector_store=vector_store,\n",
    "    storage_context=storage_context,\n",
    "    service_context=service_context,\n",
    ")\n",
    "\n",
    "query_engine = index.as_query_engine()\n",
    "\n",
    "\n",
    "response = query_engine.query(\"hello world\")"
   ]
  }
 ],
 "metadata": {
  "kernelspec": {
   "display_name": "Python 3",
   "language": "python",
   "name": "python3"
  },
  "language_info": {
   "codemirror_mode": {
    "name": "ipython",
    "version": 3
   },
   "file_extension": ".py",
   "mimetype": "text/x-python",
   "name": "python",
   "nbconvert_exporter": "python",
   "pygments_lexer": "ipython3",
   "version": "3.11.3"
  },
  "orig_nbformat": 4
 },
 "nbformat": 4,
 "nbformat_minor": 2
}
