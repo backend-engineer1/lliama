{
 "cells": [
  {
   "attachments": {},
   "cell_type": "markdown",
   "metadata": {},
   "source": [
    "# Metadata Extraction and Augmentation w/ Marvin\n",
    "\n",
    "This notebook walks through using [`Marvin`](https://github.com/PrefectHQ/marvin) to extract and augment metadata from text. Marvin uses the LLM to identify and extract metadata.  Metadata can be anything from additional and enhanced questions and answers to business object identification and elaboration.  This notebook will demonstrate pulling out and elaborating on Sports Supplement information in a csv document.\n",
    "\n",
    "Note: You will need to supply a valid open ai key below to run this notebook."
   ]
  },
  {
   "attachments": {},
   "cell_type": "markdown",
   "metadata": {},
   "source": [
    "## Setup"
   ]
  },
  {
   "cell_type": "code",
   "execution_count": null,
   "metadata": {},
   "outputs": [],
   "source": [
    "# !pip install marvin"
   ]
  },
  {
   "cell_type": "code",
   "execution_count": null,
   "metadata": {},
   "outputs": [],
   "source": [
    "from llama_index import SimpleDirectoryReader\n",
    "from llama_index.indices.service_context import ServiceContext\n",
    "from llama_index.llms import OpenAI\n",
    "from llama_index.node_parser import SimpleNodeParser\n",
    "from llama_index.node_parser.extractors import (\n",
    "    MetadataExtractor,\n",
    ")\n",
    "from llama_index.text_splitter import TokenTextSplitter\n",
    "from llama_index.node_parser.extractors.marvin_metadata_extractor import (\n",
    "    MarvinMetadataExtractor,\n",
    ")"
   ]
  },
  {
   "cell_type": "code",
   "execution_count": null,
   "metadata": {},
   "outputs": [],
   "source": [
    "import os\n",
    "import openai\n",
    "\n",
    "os.environ[\"OPENAI_API_KEY\"] = \"sk-...\"\n",
    "openai.api_key = os.environ[\"OPENAI_API_KEY\"]"
   ]
  },
  {
   "cell_type": "code",
   "execution_count": null,
   "metadata": {},
   "outputs": [],
   "source": [
    "documents = SimpleDirectoryReader(\"data\").load_data()\n",
    "\n",
    "# limit document text length\n",
    "documents[0].text = documents[0].text[:10000]"
   ]
  },
  {
   "cell_type": "code",
   "execution_count": null,
   "metadata": {},
   "outputs": [],
   "source": [
    "import marvin\n",
    "from marvin import ai_model\n",
    "\n",
    "from llama_index.bridge.pydantic import BaseModel, Field\n",
    "\n",
    "marvin.settings.openai.api_key = os.environ[\"OPENAI_API_KEY\"]\n",
    "\n",
    "\n",
    "@ai_model\n",
    "class SportsSupplement(BaseModel):\n",
    "    name: str = Field(..., description=\"The name of the sports supplement\")\n",
    "    description: str = Field(\n",
    "        ..., description=\"A description of the sports supplement\"\n",
    "    )\n",
    "    pros_cons: str = Field(\n",
    "        ..., description=\"The pros and cons of the sports supplement\"\n",
    "    )"
   ]
  },
  {
   "cell_type": "code",
   "execution_count": null,
   "metadata": {},
   "outputs": [],
   "source": [
    "llm_model = \"gpt-3.5-turbo\"\n",
    "\n",
    "llm = OpenAI(temperature=0.1, model_name=llm_model, max_tokens=512)\n",
    "service_context = ServiceContext.from_defaults(llm=llm)\n",
    "\n",
    "# construct text splitter to split texts into chunks for processing\n",
    "# this takes a while to process, you can increase processing time by using larger chunk_size\n",
    "# file size is a factor too of course\n",
    "text_splitter = TokenTextSplitter(\n",
    "    separator=\" \", chunk_size=512, chunk_overlap=128\n",
    ")\n",
    "\n",
    "# set the global service context object, avoiding passing service_context when building the index\n",
    "from llama_index import set_global_service_context\n",
    "\n",
    "set_global_service_context(service_context)\n",
    "\n",
    "# create metadata extractor\n",
    "metadata_extractor = MetadataExtractor(\n",
    "    extractors=[\n",
    "        MarvinMetadataExtractor(\n",
    "            marvin_model=SportsSupplement, llm_model_string=llm_model\n",
    "        ),  # let's extract custom entities for each node.\n",
    "    ],\n",
    ")\n",
    "\n",
    "# create node parser to parse nodes from document\n",
    "node_parser = SimpleNodeParser(\n",
    "    text_splitter=text_splitter,\n",
    "    metadata_extractor=metadata_extractor,\n",
    ")\n",
    "\n",
    "# use node_parser to get nodes from the documents\n",
    "nodes = node_parser.get_nodes_from_documents(documents)"
   ]
  },
  {
   "cell_type": "code",
   "execution_count": null,
   "metadata": {},
   "outputs": [
    {
     "name": "stdout",
     "output_type": "stream",
     "text": [
      "{'marvin_metadata': {'description': 'L-arginine alpha-ketoglutarate',\n",
      "                     'name': 'AAKG',\n",
      "                     'pros_cons': '1.0, peak power output, strength–power, '\n",
      "                                  'weight training, OTW, 242, 1, 20, nan, A '\n",
      "                                  '2006 study found AAKG supplementation '\n",
      "                                  'improved maximum effort 1-repetition bench '\n",
      "                                  'press and Wingate peak power performance.'}}\n",
      "{'marvin_metadata': {'description': 'Gulping down baking soda (sodium '\n",
      "                                    'bicarbonate) makes the blood more '\n",
      "                                    'alkaline, improving performance in '\n",
      "                                    'lactic-acid-fueled events like the 800m '\n",
      "                                    'sprint.',\n",
      "                     'name': 'Baking soda',\n",
      "                     'pros_cons': 'Downside: a badly upset stomach.'}}\n",
      "{'marvin_metadata': {'description': 'Branched-chain amino acids (BCAAs) are a '\n",
      "                                    'group of essential amino acids that '\n",
      "                                    'include leucine, isoleucine, and valine. '\n",
      "                                    'They are commonly used as a sports '\n",
      "                                    'supplement to improve fatigue resistance '\n",
      "                                    'and aerobic endurance during activities '\n",
      "                                    'such as cycling and circuit training.',\n",
      "                     'name': 'BCAAs',\n",
      "                     'pros_cons': 'Pros: BCAAs can improve fatigue resistance '\n",
      "                                  'and enhance aerobic endurance. Cons: '\n",
      "                                  'Limited evidence on their effectiveness and '\n",
      "                                  'potential side effects.'}}\n",
      "{'marvin_metadata': {'description': 'Branched-chain amino acids (BCAAs) are a '\n",
      "                                    'group of three essential amino acids: '\n",
      "                                    'leucine, isoleucine, and valine. They are '\n",
      "                                    'commonly used as a sports supplement to '\n",
      "                                    'improve aerobic performance, endurance, '\n",
      "                                    'power, and strength. BCAAs can be '\n",
      "                                    'beneficial for both aerobic-endurance and '\n",
      "                                    'strength-power activities, such as '\n",
      "                                    'cycling and circuit training.',\n",
      "                     'name': 'Branched-chain amino acids',\n",
      "                     'pros_cons': 'Pros: BCAAs have been shown to improve '\n",
      "                                  'aerobic performance, reduce muscle '\n",
      "                                  'soreness, and enhance muscle protein '\n",
      "                                  'synthesis. Cons: BCAAs may not be effective '\n",
      "                                  'for everyone, and excessive intake can lead '\n",
      "                                  'to an imbalance in amino acids.'}}\n",
      "{'marvin_metadata': {'description': 'Branched-chain amino acids (BCAAs) are a '\n",
      "                                    'group of three essential amino acids: '\n",
      "                                    'leucine, isoleucine, and valine. They are '\n",
      "                                    'commonly used as a sports supplement to '\n",
      "                                    'improve immune defenses in athletes and '\n",
      "                                    'promote general fitness. BCAAs are often '\n",
      "                                    'used by runners and athletes in other '\n",
      "                                    'sports.',\n",
      "                     'name': 'BCAAs',\n",
      "                     'pros_cons': 'Pros: - Can enhance immune defenses in '\n",
      "                                  'athletes\\n'\n",
      "                                  '- May improve general fitness\\n'\n",
      "                                  'Cons: - Limited evidence for their '\n",
      "                                  'effectiveness\\n'\n",
      "                                  '- Potential side effects'}}\n"
     ]
    }
   ],
   "source": [
    "from pprint import pprint\n",
    "\n",
    "for i in range(5):\n",
    "    pprint(nodes[i].metadata)"
   ]
  }
 ],
 "metadata": {
  "kernelspec": {
   "display_name": ".venv",
   "language": "python",
   "name": "python3"
  },
  "language_info": {
   "codemirror_mode": {
    "name": "ipython",
    "version": 3
   },
   "file_extension": ".py",
   "mimetype": "text/x-python",
   "name": "python",
   "nbconvert_exporter": "python",
   "pygments_lexer": "ipython3"
  }
 },
 "nbformat": 4,
 "nbformat_minor": 2
}
