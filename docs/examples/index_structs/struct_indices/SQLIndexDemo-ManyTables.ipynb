{
 "cells": [
  {
   "attachments": {},
   "cell_type": "markdown",
   "id": "e45f9b60-cd6b-4c15-958f-1feca5438128",
   "metadata": {},
   "source": [
    "# SQL Index Guide (Many Tables)\n",
    "\n",
    "This guide is an extension to the [core SQL guide](SQLIndexDemo.ipynb). In this guide, we tackle the setting where you have a large number of tables in your database, and putting all the table schemas into the prompt may overflow the text-to-SQL prompt. We make use of our `SQLContextContainerBuilder` to store your table schemas within a LlamaIndex data structure.\n",
    "\n",
    "We can then query this data structure for the appropriate context."
   ]
  },
  {
   "cell_type": "code",
   "execution_count": 1,
   "id": "fbd7317b",
   "metadata": {
    "tags": []
   },
   "outputs": [],
   "source": [
    "import logging\n",
    "import sys\n",
    "\n",
    "logging.basicConfig(stream=sys.stdout, level=logging.INFO)\n",
    "logging.getLogger().addHandler(logging.StreamHandler(stream=sys.stdout))"
   ]
  },
  {
   "cell_type": "code",
   "execution_count": 2,
   "id": "107396a9-4aa7-49b3-9f0f-a755726c19ba",
   "metadata": {
    "tags": []
   },
   "outputs": [
    {
     "name": "stdout",
     "output_type": "stream",
     "text": [
      "INFO:numexpr.utils:Note: NumExpr detected 12 cores but \"NUMEXPR_MAX_THREADS\" not set, so enforcing safe limit of 8.\n",
      "Note: NumExpr detected 12 cores but \"NUMEXPR_MAX_THREADS\" not set, so enforcing safe limit of 8.\n",
      "INFO:numexpr.utils:NumExpr defaulting to 8 threads.\n",
      "NumExpr defaulting to 8 threads.\n"
     ]
    },
    {
     "name": "stderr",
     "output_type": "stream",
     "text": [
      "/Users/jerryliu/Programming/gpt_index/.venv/lib/python3.10/site-packages/tqdm/auto.py:21: TqdmWarning: IProgress not found. Please update jupyter and ipywidgets. See https://ipywidgets.readthedocs.io/en/stable/user_install.html\n",
      "  from .autonotebook import tqdm as notebook_tqdm\n"
     ]
    }
   ],
   "source": [
    "from llama_index import SQLDatabase, SimpleDirectoryReader, WikipediaReader, Document\n",
    "from llama_index.indices.struct_store import SQLContextContainerBuilder\n",
    "from IPython.display import Markdown, display"
   ]
  },
  {
   "attachments": {},
   "cell_type": "markdown",
   "id": "461438c8-302d-45c5-8e69-16ad604686d1",
   "metadata": {},
   "source": [
    "### Create Database Schema + Test Data\n",
    "\n",
    "Here we introduce a toy scenario where there are 100 tables (too big to fit into the prompt)"
   ]
  },
  {
   "cell_type": "code",
   "execution_count": 3,
   "id": "a370b266-66f5-4624-bbf9-2ad57f0511f8",
   "metadata": {
    "tags": []
   },
   "outputs": [],
   "source": [
    "from sqlalchemy import create_engine, MetaData, Table, Column, String, Integer, select, column"
   ]
  },
  {
   "cell_type": "code",
   "execution_count": 4,
   "id": "ea24f794-f10b-42e6-922d-9258b7167405",
   "metadata": {
    "tags": []
   },
   "outputs": [],
   "source": [
    "engine = create_engine(\"sqlite:///:memory:\")\n",
    "metadata_obj = MetaData()"
   ]
  },
  {
   "cell_type": "code",
   "execution_count": 5,
   "id": "b4154b29-7e23-4c26-a507-370a66186ae7",
   "metadata": {
    "tags": []
   },
   "outputs": [],
   "source": [
    "# create city SQL table\n",
    "table_name = \"city_stats\"\n",
    "city_stats_table = Table(\n",
    "    table_name,\n",
    "    metadata_obj,\n",
    "    Column(\"city_name\", String(16), primary_key=True),\n",
    "    Column(\"population\", Integer),\n",
    "    Column(\"country\", String(16), nullable=False),\n",
    ")\n",
    "all_table_names = [\"city_stats\"]\n",
    "# create a ton of dummy tables\n",
    "n = 100\n",
    "for i in range(n):\n",
    "    tmp_table_name = f\"tmp_table_{i}\"\n",
    "    tmp_table = Table(\n",
    "        tmp_table_name,\n",
    "        metadata_obj,\n",
    "        Column(f\"tmp_field_{i}_1\", String(16), primary_key=True),\n",
    "        Column(f\"tmp_field_{i}_2\", Integer),\n",
    "        Column(f\"tmp_field_{i}_3\", String(16), nullable=False),\n",
    "    )\n",
    "    all_table_names.append(f\"tmp_table_{i}\")\n",
    "\n",
    "metadata_obj.create_all(engine)"
   ]
  },
  {
   "cell_type": "code",
   "execution_count": 6,
   "id": "4768bcb4-c40e-4d5d-8d70-7cb3228b50ab",
   "metadata": {
    "tags": []
   },
   "outputs": [
    {
     "data": {
      "text/plain": [
       "dict_keys(['city_stats', 'tmp_table_0', 'tmp_table_1', 'tmp_table_2', 'tmp_table_3', 'tmp_table_4', 'tmp_table_5', 'tmp_table_6', 'tmp_table_7', 'tmp_table_8', 'tmp_table_9', 'tmp_table_10', 'tmp_table_11', 'tmp_table_12', 'tmp_table_13', 'tmp_table_14', 'tmp_table_15', 'tmp_table_16', 'tmp_table_17', 'tmp_table_18', 'tmp_table_19', 'tmp_table_20', 'tmp_table_21', 'tmp_table_22', 'tmp_table_23', 'tmp_table_24', 'tmp_table_25', 'tmp_table_26', 'tmp_table_27', 'tmp_table_28', 'tmp_table_29', 'tmp_table_30', 'tmp_table_31', 'tmp_table_32', 'tmp_table_33', 'tmp_table_34', 'tmp_table_35', 'tmp_table_36', 'tmp_table_37', 'tmp_table_38', 'tmp_table_39', 'tmp_table_40', 'tmp_table_41', 'tmp_table_42', 'tmp_table_43', 'tmp_table_44', 'tmp_table_45', 'tmp_table_46', 'tmp_table_47', 'tmp_table_48', 'tmp_table_49', 'tmp_table_50', 'tmp_table_51', 'tmp_table_52', 'tmp_table_53', 'tmp_table_54', 'tmp_table_55', 'tmp_table_56', 'tmp_table_57', 'tmp_table_58', 'tmp_table_59', 'tmp_table_60', 'tmp_table_61', 'tmp_table_62', 'tmp_table_63', 'tmp_table_64', 'tmp_table_65', 'tmp_table_66', 'tmp_table_67', 'tmp_table_68', 'tmp_table_69', 'tmp_table_70', 'tmp_table_71', 'tmp_table_72', 'tmp_table_73', 'tmp_table_74', 'tmp_table_75', 'tmp_table_76', 'tmp_table_77', 'tmp_table_78', 'tmp_table_79', 'tmp_table_80', 'tmp_table_81', 'tmp_table_82', 'tmp_table_83', 'tmp_table_84', 'tmp_table_85', 'tmp_table_86', 'tmp_table_87', 'tmp_table_88', 'tmp_table_89', 'tmp_table_90', 'tmp_table_91', 'tmp_table_92', 'tmp_table_93', 'tmp_table_94', 'tmp_table_95', 'tmp_table_96', 'tmp_table_97', 'tmp_table_98', 'tmp_table_99'])"
      ]
     },
     "execution_count": 6,
     "metadata": {},
     "output_type": "execute_result"
    }
   ],
   "source": [
    "# print tables\n",
    "metadata_obj.tables.keys()"
   ]
  },
  {
   "attachments": {},
   "cell_type": "markdown",
   "id": "4c0eb518-5da3-4215-8280-0776d07806a0",
   "metadata": {},
   "source": [
    "We introduce some test data into the `city_stats` table"
   ]
  },
  {
   "cell_type": "code",
   "execution_count": 7,
   "id": "d15192b6-99f9-4f72-b637-82e885ea057f",
   "metadata": {
    "tags": []
   },
   "outputs": [],
   "source": [
    "from sqlalchemy import insert\n",
    "rows = [\n",
    "    {\"city_name\": \"Toronto\", \"population\": 2930000, \"country\": \"Canada\"},\n",
    "    {\"city_name\": \"Tokyo\", \"population\": 13960000, \"country\": \"Japan\"},\n",
    "    {\"city_name\": \"Chicago\", \"population\": 2679000, \"country\": \"United States\"},\n",
    "    {\"city_name\": \"Seoul\", \"population\": 9776000, \"country\": \"South Korea\"},\n",
    "]\n",
    "for row in rows:\n",
    "    stmt = insert(city_stats_table).values(**row)\n",
    "    with engine.connect() as connection:\n",
    "        cursor = connection.execute(stmt)\n",
    "        connection.commit()"
   ]
  },
  {
   "cell_type": "code",
   "execution_count": 8,
   "id": "bfc2e4a4-e11d-4d8f-bf1f-7f777a1dc6e2",
   "metadata": {
    "tags": []
   },
   "outputs": [
    {
     "name": "stdout",
     "output_type": "stream",
     "text": [
      "[('Toronto', 2930000, 'Canada'), ('Tokyo', 13960000, 'Japan'), ('Chicago', 2679000, 'United States'), ('Seoul', 9776000, 'South Korea')]\n"
     ]
    }
   ],
   "source": [
    "with engine.connect() as connection:\n",
    "    cursor = connection.exec_driver_sql(\"SELECT * FROM city_stats\")\n",
    "    print(cursor.fetchall())"
   ]
  },
  {
   "attachments": {},
   "cell_type": "markdown",
   "id": "1c09089a-6bcd-48db-8120-a84c8da3f82e",
   "metadata": {
    "tags": []
   },
   "source": [
    "### Using LlamaIndex to Store Table Schema Context"
   ]
  },
  {
   "cell_type": "code",
   "execution_count": 9,
   "id": "611319e5-d3c2-4286-a84f-ed2459896c58",
   "metadata": {
    "tags": []
   },
   "outputs": [],
   "source": [
    "from llama_index.indices.struct_store import SQLTableRetrieverQueryEngine\n",
    "from llama_index.objects import SQLTableNodeMapping, ObjectIndex, SQLTableSchema\n",
    "from llama_index import VectorStoreIndex"
   ]
  },
  {
   "cell_type": "code",
   "execution_count": 10,
   "id": "3fc2dfab-90ea-4f01-9e28-d21fdc5f0758",
   "metadata": {
    "tags": []
   },
   "outputs": [],
   "source": [
    "sql_database = SQLDatabase(engine)"
   ]
  },
  {
   "cell_type": "code",
   "execution_count": null,
   "id": "89f6f1d1-a022-43d7-b135-a79ec9407956",
   "metadata": {
    "tags": []
   },
   "outputs": [],
   "source": [
    "sql_database.table_info"
   ]
  },
  {
   "attachments": {},
   "cell_type": "markdown",
   "id": "331ff0ce-9131-4680-a5f2-3f41c73e018e",
   "metadata": {},
   "source": [
    "We dump the table schema information into a vector index. The vector index is stored within the context builder for future use."
   ]
  },
  {
   "cell_type": "code",
   "execution_count": 12,
   "id": "1e86d548-a3f4-436a-a754-5247871ebe55",
   "metadata": {
    "scrolled": true,
    "tags": []
   },
   "outputs": [
    {
     "name": "stdout",
     "output_type": "stream",
     "text": [
      "INFO:llama_index.token_counter.token_counter:> [build_index_from_nodes] Total LLM token usage: 0 tokens\n",
      "> [build_index_from_nodes] Total LLM token usage: 0 tokens\n",
      "INFO:llama_index.token_counter.token_counter:> [build_index_from_nodes] Total embedding token usage: 6848 tokens\n",
      "> [build_index_from_nodes] Total embedding token usage: 6848 tokens\n"
     ]
    }
   ],
   "source": [
    "table_node_mapping = SQLTableNodeMapping(sql_database)\n",
    "\n",
    "table_schema_objs = []\n",
    "for table_name in all_table_names:\n",
    "    table_schema_objs.append(SQLTableSchema(table_name=table_name))\n",
    "\n",
    "obj_index = ObjectIndex.from_objects(\n",
    "    table_schema_objs,\n",
    "    table_node_mapping,\n",
    "    VectorStoreIndex, \n",
    ")"
   ]
  },
  {
   "attachments": {},
   "cell_type": "markdown",
   "id": "051a171f-8c97-40ed-ae17-4e3fa3785487",
   "metadata": {},
   "source": [
    "### Query Index"
   ]
  },
  {
   "attachments": {},
   "cell_type": "markdown",
   "id": "91139712-f232-47e1-9683-cbbd49cd331b",
   "metadata": {},
   "source": [
    "Here we show a natural language query. \n",
    "1. We construct a `SQLTableRetrieverQueryEngine`. Note that we pass in the `ObjectRetriever` so that we can dynamically retrieve the table during query-time.\n",
    "2. We run queries against the query engine."
   ]
  },
  {
   "cell_type": "code",
   "execution_count": 13,
   "id": "cdb58997-2258-4305-98a1-4a7178c30210",
   "metadata": {
    "tags": []
   },
   "outputs": [],
   "source": [
    "query_engine = SQLTableRetrieverQueryEngine(\n",
    "    sql_database,\n",
    "    obj_index.as_retriever(similarity_top_k=1),\n",
    ")"
   ]
  },
  {
   "cell_type": "code",
   "execution_count": 14,
   "id": "eabededd-3c17-45b7-aabc-06a2457bc3cb",
   "metadata": {
    "tags": []
   },
   "outputs": [
    {
     "name": "stdout",
     "output_type": "stream",
     "text": [
      "INFO:llama_index.token_counter.token_counter:> [retrieve] Total LLM token usage: 0 tokens\n",
      "> [retrieve] Total LLM token usage: 0 tokens\n",
      "INFO:llama_index.token_counter.token_counter:> [retrieve] Total embedding token usage: 7 tokens\n",
      "> [retrieve] Total embedding token usage: 7 tokens\n",
      "INFO:llama_index.indices.struct_store.sql_query:> Table desc str: Table 'city_stats' has columns: city_name (VARCHAR(16)), population (INTEGER), country (VARCHAR(16)) and foreign keys: .\n",
      "> Table desc str: Table 'city_stats' has columns: city_name (VARCHAR(16)), population (INTEGER), country (VARCHAR(16)) and foreign keys: .\n",
      "INFO:llama_index.token_counter.token_counter:> [query] Total LLM token usage: 335 tokens\n",
      "> [query] Total LLM token usage: 335 tokens\n",
      "INFO:llama_index.token_counter.token_counter:> [query] Total embedding token usage: 0 tokens\n",
      "> [query] Total embedding token usage: 0 tokens\n"
     ]
    }
   ],
   "source": [
    "response = query_engine.query(\"Which city has the highest population?\")"
   ]
  },
  {
   "cell_type": "code",
   "execution_count": 15,
   "id": "25c11645-56bd-433a-85f4-420413f8970d",
   "metadata": {
    "tags": []
   },
   "outputs": [
    {
     "data": {
      "text/plain": [
       "' Tokyo has the highest population with 13,960,000 people.'"
      ]
     },
     "execution_count": 15,
     "metadata": {},
     "output_type": "execute_result"
    }
   ],
   "source": [
    "str(response)"
   ]
  },
  {
   "cell_type": "code",
   "execution_count": 16,
   "id": "3f72abc6-54d7-4f85-abf8-32978d94f558",
   "metadata": {
    "tags": []
   },
   "outputs": [
    {
     "data": {
      "text/plain": [
       "{'result': [('Tokyo', 13960000)],\n",
       " 'sql_query': 'SELECT city_name, population \\nFROM city_stats \\nORDER BY population DESC \\nLIMIT 1;'}"
      ]
     },
     "execution_count": 16,
     "metadata": {},
     "output_type": "execute_result"
    }
   ],
   "source": [
    "response.metadata"
   ]
  },
  {
   "cell_type": "code",
   "execution_count": null,
   "id": "9e154441-d40f-4e23-bdb4-6887ed882b4f",
   "metadata": {},
   "outputs": [],
   "source": []
  }
 ],
 "metadata": {
  "kernelspec": {
   "display_name": "llama_index_v2",
   "language": "python",
   "name": "llama_index_v2"
  },
  "language_info": {
   "codemirror_mode": {
    "name": "ipython",
    "version": 3
   },
   "file_extension": ".py",
   "mimetype": "text/x-python",
   "name": "python",
   "nbconvert_exporter": "python",
   "pygments_lexer": "ipython3",
   "version": "3.10.10"
  }
 },
 "nbformat": 4,
 "nbformat_minor": 5
}
