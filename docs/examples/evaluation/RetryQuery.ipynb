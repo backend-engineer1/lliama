{
 "cells": [
  {
   "attachments": {},
   "cell_type": "markdown",
   "metadata": {},
   "source": [
    "# Retry Query Engine"
   ]
  },
  {
   "cell_type": "code",
   "execution_count": 1,
   "metadata": {},
   "outputs": [],
   "source": [
    "# My OpenAI Key\n",
    "import os\n",
    "os.environ['OPENAI_API_KEY'] = \"INSERT OPENAI KEY\"\n",
    "\n",
    "# import logging\n",
    "# import sys\n",
    "\n",
    "# logging.basicConfig(stream=sys.stdout, level=logging.DEBUG)\n",
    "# logging.getLogger().addHandler(logging.StreamHandler(stream=sys.stdout))"
   ]
  },
  {
   "cell_type": "code",
   "execution_count": 2,
   "metadata": {},
   "outputs": [
    {
     "name": "stderr",
     "output_type": "stream",
     "text": [
      "/Users/hongyishi/Documents/GitHub/gpt_index/.venv/lib/python3.9/site-packages/tqdm/auto.py:21: TqdmWarning: IProgress not found. Please update jupyter and ipywidgets. See https://ipywidgets.readthedocs.io/en/stable/user_install.html\n",
      "  from .autonotebook import tqdm as notebook_tqdm\n"
     ]
    },
    {
     "name": "stdout",
     "output_type": "stream",
     "text": [
      "Default query engine response: \n",
      "It is not possible to answer this question with the given context information.\n",
      "Query engine with retry response: \n",
      "Here is a better answer.\n",
      "\n",
      "It is not possible to determine the exact number of drivers Uber has with the given context information. However, it is known that Uber has more than 70,000 Mobility drivers in the UK and has extended offers to all eligible drivers who are not already represented by an attorney. Additionally, it is known that in October and November of 2016, outside actors downloaded the personal data of approximately 57 million Drivers and consumers worldwide.\n",
      "Query engine with retry guideline response: \n",
      "According to Uber's 2020 Annual Report, there were 3.9 million active drivers on the Uber platform worldwide as of December 31, 2020.\n"
     ]
    }
   ],
   "source": [
    "from llama_index.indices.vector_store.base import VectorStoreIndex\n",
    "from llama_index.query_engine.retriever_query_engine import RetrieverQueryEngine\n",
    "from llama_index.query_engine.retry_query_engine import (\n",
    "    RetryQueryEngine,\n",
    "    RetryGuidelineQueryEngine,\n",
    ")\n",
    "from llama_index.query_engine.retry_source_query_engine import RetrySourceQueryEngine\n",
    "from llama_index.readers.file.base import SimpleDirectoryReader\n",
    "from llama_index.evaluation.base import QueryResponseEvaluator\n",
    "from llama_index.evaluation.guideline_eval import GuidelineEvaluator\n",
    "from llama_index.response.schema import Response\n",
    "from llama_index.indices.query.query_transform.feedback_transform import (\n",
    "    FeedbackQueryTransformation,\n",
    ")\n",
    "from typing import cast\n",
    "\n",
    "\n",
    "uber_docs = SimpleDirectoryReader(input_files=[\"../data/10k/uber_2021.pdf\"]).load_data()\n",
    "index = VectorStoreIndex.from_documents(uber_docs)\n",
    "query = \"How many drivers does Uber have?\"\n",
    "\n",
    "# Default query engine\n",
    "default_query_engine = index.as_query_engine()\n",
    "response = default_query_engine.query(query)\n",
    "print(f\"Default query engine response: {response}\")\n",
    "\n",
    "# Query engine with retry\n",
    "query_response_evaluator = QueryResponseEvaluator()\n",
    "retry_query_engine = RetryQueryEngine(index.as_query_engine(), query_response_evaluator)\n",
    "retry_response = retry_query_engine.query(query)\n",
    "print(f\"Query engine with retry response: {retry_response}\")\n",
    "\n",
    "# retry_source_query_engine = RetrySourceQueryEngine(index.as_query_engine(), query_response_evaluator)\n",
    "# retry_source_response = retry_source_query_engine.query(query)\n",
    "# print(f\"Query engine with retry source response: {retry_source_response}\")\n",
    "\n",
    "# Guideline eval\n",
    "guideline_eval = GuidelineEvaluator()\n",
    "# typed_response = response if isinstance(response, Response) else response.get_response()\n",
    "# eval = guideline_eval.evaluate_response(query, typed_response)\n",
    "# print(eval)\n",
    "# feedback_query_transform = FeedbackQueryTransformation(evaluation=eval, resynthesize_query=True)\n",
    "# transformed_query = feedback_query_transform.run(query)\n",
    "# print(transformed_query)\n",
    "retry_guideline_query_engine = RetryGuidelineQueryEngine(index.as_query_engine(), guideline_eval, resynthesize_query=True)\n",
    "retry_guideline_response = retry_guideline_query_engine.query(query)\n",
    "print(f\"Query engine with retry guideline response: {retry_guideline_response}\")"
   ]
  }
 ],
 "metadata": {
  "kernelspec": {
   "display_name": ".venv",
   "language": "python",
   "name": "python3"
  },
  "language_info": {
   "codemirror_mode": {
    "name": "ipython",
    "version": 3
   },
   "file_extension": ".py",
   "mimetype": "text/x-python",
   "name": "python",
   "nbconvert_exporter": "python",
   "pygments_lexer": "ipython3",
   "version": "3.9.6"
  },
  "orig_nbformat": 4
 },
 "nbformat": 4,
 "nbformat_minor": 2
}
