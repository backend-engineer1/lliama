{
 "cells": [
  {
   "cell_type": "markdown",
   "id": "f866cc0a-460e-4dbf-91b7-f541a4c0eda6",
   "metadata": {
    "tags": []
   },
   "source": [
    "# FLARE Query Engine\n",
    "\n",
    "Adapted from the paper \"Active Retrieval Augmented Generation\"\n",
    "\n",
    "Currently implements FLARE Instruct, which tells the LLM to generate retrieval instructions.\n",
    "\n",
    "We create an adapted implementation:\n",
    "- At the beginning, feed in user query and the existing answer.\n",
    "- Generate a \"lookahead\" sentence that contains \"search\" tags. Parse this lookahead sentence and extract the search tags, and run those against a query engine to extract the answers. Insert into the lookahead template for an actual answer.\n",
    "\n",
    "\n",
    "**NOTE**: this is a beta feature. The interface might change, and features may not be guaranteed to work. We're very open to feedback + suggestions!"
   ]
  },
  {
   "cell_type": "code",
   "execution_count": 6,
   "id": "920e6742-5296-46ed-83f5-8b0d999b88a3",
   "metadata": {
    "tags": []
   },
   "outputs": [],
   "source": [
    "import os\n",
    "from langchain.llms import OpenAI\n",
    "from langchain.chat_models import ChatOpenAI\n",
    "from llama_index.query_engine import FLAREInstructQueryEngine\n",
    "from llama_index import (\n",
    "    VectorStoreIndex,\n",
    "    SimpleDirectoryReader,\n",
    "    StorageContext,\n",
    "    LLMPredictor,\n",
    "    ServiceContext,\n",
    ")"
   ]
  },
  {
   "cell_type": "markdown",
   "id": "d72dddf8-af18-420d-b578-27585d97b424",
   "metadata": {},
   "source": [
    "## Setup - Load in Data, Define Index, Configure ServiceContext"
   ]
  },
  {
   "cell_type": "code",
   "execution_count": 7,
   "id": "507256f4-7831-4ad3-8bdd-c19ad6623d6d",
   "metadata": {
    "tags": []
   },
   "outputs": [],
   "source": [
    "service_context = ServiceContext.from_defaults(\n",
    "    llm_predictor=LLMPredictor(llm=ChatOpenAI(model_name='gpt-3.5-turbo', temperature=0)),\n",
    "    chunk_size=512\n",
    ")"
   ]
  },
  {
   "cell_type": "code",
   "execution_count": 8,
   "id": "5dac4df9-a42f-4cc5-a708-542e3c33f3d2",
   "metadata": {
    "tags": []
   },
   "outputs": [],
   "source": [
    "documents = SimpleDirectoryReader(\"../data/paul_graham\").load_data()\n",
    "index = VectorStoreIndex.from_documents(documents, service_context=service_context)"
   ]
  },
  {
   "cell_type": "markdown",
   "id": "41d4e4f4-323c-4ff0-a9a6-bad5be13f2c9",
   "metadata": {},
   "source": [
    "## Define FLAREInstructQueryEngine\n",
    "\n",
    "The FLAREInstructQueryEngine takes in an existing query engine as input."
   ]
  },
  {
   "cell_type": "code",
   "execution_count": 9,
   "id": "8a749d71-2ad5-4ee3-aa1e-48e9567b706d",
   "metadata": {
    "tags": []
   },
   "outputs": [],
   "source": [
    "index_query_engine = index.as_query_engine(similarity_top_k=2)"
   ]
  },
  {
   "cell_type": "code",
   "execution_count": 10,
   "id": "91fcdbcd-f0f6-4580-9016-d89394e05aab",
   "metadata": {
    "tags": []
   },
   "outputs": [],
   "source": [
    "flare_query_engine = FLAREInstructQueryEngine(\n",
    "    query_engine=index_query_engine,\n",
    "    service_context=service_context,\n",
    "    verbose=True\n",
    ")"
   ]
  },
  {
   "cell_type": "code",
   "execution_count": 11,
   "id": "6a6dcb43-8854-481a-8d6e-62e2c355b72c",
   "metadata": {
    "tags": []
   },
   "outputs": [
    {
     "data": {
      "text/plain": [
       "<llama_index.query_engine.flare_query_engine.FLAREInstructQueryEngine at 0x12d6fb7f0>"
      ]
     },
     "execution_count": 11,
     "metadata": {},
     "output_type": "execute_result"
    }
   ],
   "source": [
    "flare_query_engine"
   ]
  },
  {
   "cell_type": "markdown",
   "id": "cfd34b53-6d3d-4d5c-a146-63419b8bf500",
   "metadata": {},
   "source": [
    "## Try running some queries! \n",
    "\n",
    "We showcase the sequential generation capabilities of the FLARE query engine.\n",
    "\n",
    "We compare these queries against a naive vector-store-based query engine."
   ]
  },
  {
   "cell_type": "code",
   "execution_count": 12,
   "id": "e1ca238e-884b-4221-b3a8-0bb106fa0de9",
   "metadata": {
    "tags": []
   },
   "outputs": [
    {
     "name": "stdout",
     "output_type": "stream",
     "text": [
      "\u001b[32;1m\u001b[1;3mQuery: Can you tell me about the author's trajectory in the startup world?\n",
      "\u001b[0m\u001b[36;1m\u001b[1;3mCurrent response: \n",
      "\u001b[0m\u001b[38;5;200m\u001b[1;3mLookahead response: The author began his career in the startup world by [Search(What was the author's first startup venture?)]. After that, he went on to [Search(What other startups did the author work on?)]. He eventually became a successful entrepreneur, founding his own company [Search(What is the name of the author's company?)].\n",
      "\u001b[0m\u001b[38;5;200m\u001b[1;3mUpdated lookahead response: The author began his career in the startup world by \n",
      "\u001b[0m\u001b[36;1m\u001b[1;3mCurrent response:  The author began his career in the startup world by\n",
      "\u001b[0m\u001b[38;5;200m\u001b[1;3mLookahead response: [Search(How did the author start his career in the startup world?)]. He then went on to found his own startup, which [Search(What was the author's startup and what did it do?)]. After the success of his startup, the author became a well-known figure in the startup community and began [Search(What other activities did the author engage in within the startup world?)].\n",
      "\u001b[0m\u001b[38;5;200m\u001b[1;3mUpdated lookahead response:  writing essays and working on spam filters. He also hosted dinners for friends and bought a building in Cambridge to use as an office. He met Jessica Livingston at a party in 2003 and later discussed with her the need for changes in venture capital. Together, they founded Y Combinator, a startup accelerator that funds and mentors early-stage startups. After the success of Y Combinator, the author became a well-known figure in the startup community and began investing in startups and writing books on entrepreneurship.\n",
      "\u001b[0m\u001b[36;1m\u001b[1;3mCurrent response: The author began his career in the startup world by writing essays and working on spam filters. He also hosted dinners for friends and bought a building in Cambridge to use as an office. He met Jessica Livingston at a party in 2003 and later discussed with her the need for changes in venture capital. Together, they founded Y Combinator, a startup accelerator that funds and mentors early-stage startups. After the success of Y Combinator, the author became a well-known figure in the startup community and began investing in startups and writing books on entrepreneurship.\n",
      "\u001b[0m\u001b[38;5;200m\u001b[1;3mLookahead response: done\n",
      "\u001b[0m"
     ]
    }
   ],
   "source": [
    "# flare query engine\n",
    "response = flare_query_engine.query(\"Can you tell me about the author's trajectory in the startup world?\")"
   ]
  },
  {
   "cell_type": "code",
   "execution_count": 13,
   "id": "78085cc6-d9b7-486b-8c6c-5ad092678642",
   "metadata": {
    "tags": []
   },
   "outputs": [
    {
     "name": "stdout",
     "output_type": "stream",
     "text": [
      "The author began his career in the startup world by writing essays and working on spam filters. He also hosted dinners for friends and bought a building in Cambridge to use as an office. He met Jessica Livingston at a party in 2003 and later discussed with her the need for changes in venture capital. Together, they founded Y Combinator, a startup accelerator that funds and mentors early-stage startups. After the success of Y Combinator, the author became a well-known figure in the startup community and began investing in startups and writing books on entrepreneurship. \n"
     ]
    }
   ],
   "source": [
    "print(response)"
   ]
  },
  {
   "cell_type": "code",
   "execution_count": 17,
   "id": "15859629-ed96-421f-ba28-a3908823787c",
   "metadata": {
    "tags": []
   },
   "outputs": [],
   "source": [
    "# (baseline) vector index query engine\n",
    "response = index_query_engine.query(\"Can you tell me about the author's trajectory in the startup world?\")"
   ]
  },
  {
   "cell_type": "code",
   "execution_count": 16,
   "id": "748e9d04-f089-4f75-b7a8-c5204e3e4d03",
   "metadata": {
    "tags": []
   },
   "outputs": [
    {
     "name": "stdout",
     "output_type": "stream",
     "text": [
      "The author has written essays on various topics, worked on spam filters, and bought a building in Cambridge to use as an office. They met Jessica Livingston at a party and later discussed the need for improvements in venture capital. The author gave a talk on starting a startup and realized they should stop procrastinating about angel investing. They then decided to start their own investment firm with Jessica and two other partners. They had no prior experience in angel investing but made what seemed like obvious choices and some of their actions turned out to be novel.\n"
     ]
    }
   ],
   "source": [
    "print(response)"
   ]
  },
  {
   "cell_type": "code",
   "execution_count": 12,
   "id": "6e3645ac-2220-4b32-80a6-0b82d2ec7e38",
   "metadata": {
    "tags": []
   },
   "outputs": [
    {
     "name": "stdout",
     "output_type": "stream",
     "text": [
      "\u001b[32;1m\u001b[1;3mQuery: Can you tell me about the author's journey in college and art school\n",
      "\u001b[0m\u001b[36;1m\u001b[1;3mCurrent response: \n",
      "\u001b[0m\u001b[38;5;200m\u001b[1;3mLookahead response: The author attended college and art school. During college, he took classes in [Search(What classes did the author take in college?)]. After college, he attended art school where he studied [Search(What did the author study in art school?)].\n",
      "\u001b[0m\u001b[38;5;200m\u001b[1;3mUpdated lookahead response: The author attended college and art school. During college, he took classes in drawing, color, and design as part of the foundation program at RISD. After college, he attended art school where he studied \n",
      "\u001b[0m\u001b[36;1m\u001b[1;3mCurrent response:  The author attended college and art school. During college, he took classes in drawing, color, and design as part of the foundation program at RISD. After college, he attended art school where he studied\n",
      "\u001b[0m\u001b[38;5;200m\u001b[1;3mLookahead response: [Search(What did the author study in art school?)].\n",
      "\u001b[0m\u001b[38;5;200m\u001b[1;3mUpdated lookahead response:  painting.\n",
      "\u001b[0m\u001b[36;1m\u001b[1;3mCurrent response: The author attended college and art school. During college, he took classes in drawing, color, and design as part of the foundation program at RISD. After college, he attended art school where he studied painting.\n",
      "\u001b[0m\u001b[38;5;200m\u001b[1;3mLookahead response: [Search(What college did the author attend?), Search(What classes did the author take in college?), Search(What art school did the author attend?), Search(What did the author study in art school?)]\n",
      "\u001b[0m\u001b[38;5;200m\u001b[1;3mUpdated lookahead response: at RISD.\n",
      "\u001b[0m\u001b[36;1m\u001b[1;3mCurrent response: The author attended college and art school. During college, he took classes in drawing, color, and design as part of the foundation program at RISD. After college, he attended art school where he studied painting. at RISD.\n",
      "\u001b[0m\u001b[38;5;200m\u001b[1;3mLookahead response: [Search(What classes did the author take in college?)]. He then went on to attend art school where he studied painting.\n",
      "\u001b[0m\u001b[38;5;200m\u001b[1;3mUpdated lookahead response: or took fundamental classes like drawing, color, and design as part of the foundation program at RISD. He then went on to attend art school where he studied painting.\n",
      "\u001b[0m\u001b[36;1m\u001b[1;3mCurrent response: The author attended college and art school. During college, he took classes in drawing, color, and design as part of the foundation program at RISD. After college, he attended art school where he studied painting. at RISD. or took fundamental classes like drawing, color, and design as part of the foundation program at RISD. He then went on to attend art school where he studied painting.\n",
      "\u001b[0m\u001b[38;5;200m\u001b[1;3mLookahead response: done\n",
      "\u001b[0m"
     ]
    }
   ],
   "source": [
    "# flare query engine\n",
    "response = flare_query_engine.query(\"Can you tell me about the author's journey in college and art school\")"
   ]
  },
  {
   "cell_type": "code",
   "execution_count": 13,
   "id": "31279b2f-7cc9-4e10-962f-e37cbe5e2d31",
   "metadata": {
    "tags": []
   },
   "outputs": [
    {
     "name": "stdout",
     "output_type": "stream",
     "text": [
      "The author attended college and art school. During college, he took classes in drawing, color, and design as part of the foundation program at RISD. After college, he attended art school where he studied painting. at RISD. or took fundamental classes like drawing, color, and design as part of the foundation program at RISD. He then went on to attend art school where he studied painting. \n"
     ]
    }
   ],
   "source": [
    "print(response)"
   ]
  },
  {
   "cell_type": "code",
   "execution_count": 18,
   "id": "a5c86772-be9c-4a8f-8720-8a62ae9a7d1d",
   "metadata": {},
   "outputs": [],
   "source": [
    "# (baseline) vector index query engine\n",
    "response = index_query_engine.query(\"Can you tell me about the author's journey in college and art school\")"
   ]
  },
  {
   "cell_type": "code",
   "execution_count": 19,
   "id": "cd7ffaf9-55ee-4d87-8411-ed5f1e93a84f",
   "metadata": {
    "tags": []
   },
   "outputs": [
    {
     "name": "stdout",
     "output_type": "stream",
     "text": [
      "Yes, the author applied to two art schools, RISD in the US and the Accademia di Belli Arti in Florence. They were accepted to RISD and had to do the foundation classes that summer. Later, they received a delayed invitation from the Accademia to take the entrance exam in Florence. The author decided to go to Florence and learn Italian, and eventually passed the entrance exam. They also took art classes at Harvard while still in a PhD program in computer science. The author struggled with wanting to be an artist but also being interested in computer science. They eventually found a way out of grad school by writing their dissertation in five weeks and reusing parts of their work on Lisp.\n"
     ]
    }
   ],
   "source": [
    "print(response)"
   ]
  },
  {
   "cell_type": "code",
   "execution_count": null,
   "id": "92a23862-41cd-4f5b-a84f-781e66c25948",
   "metadata": {},
   "outputs": [],
   "source": []
  }
 ],
 "metadata": {
  "kernelspec": {
   "display_name": "llama_index_v2",
   "language": "python",
   "name": "llama_index_v2"
  },
  "language_info": {
   "codemirror_mode": {
    "name": "ipython",
    "version": 3
   },
   "file_extension": ".py",
   "mimetype": "text/x-python",
   "name": "python",
   "nbconvert_exporter": "python",
   "pygments_lexer": "ipython3",
   "version": "3.10.10"
  }
 },
 "nbformat": 4,
 "nbformat_minor": 5
}
