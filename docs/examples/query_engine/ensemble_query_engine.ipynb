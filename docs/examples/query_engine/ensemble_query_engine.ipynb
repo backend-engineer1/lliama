{
 "cells": [
  {
   "cell_type": "markdown",
   "id": "5bf1de44-4047-46cf-a04c-dbf910d9e179",
   "metadata": {},
   "source": [
    "# Ensemble Query Engine Guide\n",
    "\n",
    "Oftentimes when building a RAG application there are different query pipelines you need to experiment with (e.g. top-k retrieval, keyword search, knowledge graphs).\n",
    "\n",
    "Thought: what if we could try a bunch of strategies at once, and have the LLM 1) rate the relevance of each query, and 2) synthesize the results?\n",
    "\n",
    "This guide showcases this over the Great Gatsby. We do ensemble retrieval over different chunk sizes and also different indices.\n",
    "\n",
    "**NOTE**: Please also see our closely-related [Ensemble Retrieval Guide](https://gpt-index.readthedocs.io/en/stable/examples/retrievers/ensemble_retrieval.html)!"
   ]
  },
  {
   "cell_type": "markdown",
   "id": "6e73fead-ec2c-4346-bd08-e183c13c7e29",
   "metadata": {},
   "source": [
    "## Setup"
   ]
  },
  {
   "cell_type": "code",
   "execution_count": 1,
   "id": "a2d59778-4cda-47b5-8cd0-b80fee91d1e4",
   "metadata": {
    "tags": []
   },
   "outputs": [],
   "source": [
    "# NOTE: This is ONLY necessary in jupyter notebook.\n",
    "# Details: Jupyter runs an event-loop behind the scenes.\n",
    "#          This results in nested event-loops when we start an event-loop to make async queries.\n",
    "#          This is normally not allowed, we use nest_asyncio to allow it for convenience.\n",
    "import nest_asyncio\n",
    "\n",
    "nest_asyncio.apply()"
   ]
  },
  {
   "cell_type": "code",
   "execution_count": 2,
   "id": "c628448c-573c-4eeb-a7e1-707fe8cc575c",
   "metadata": {
    "tags": []
   },
   "outputs": [
    {
     "name": "stdout",
     "output_type": "stream",
     "text": [
      "Note: NumExpr detected 12 cores but \"NUMEXPR_MAX_THREADS\" not set, so enforcing safe limit of 8.\n",
      "NumExpr defaulting to 8 threads.\n"
     ]
    }
   ],
   "source": [
    "import logging\n",
    "import sys\n",
    "\n",
    "logging.basicConfig(stream=sys.stdout, level=logging.INFO)\n",
    "logging.getLogger().handlers = []\n",
    "logging.getLogger().addHandler(logging.StreamHandler(stream=sys.stdout))\n",
    "\n",
    "from llama_index import (\n",
    "    VectorStoreIndex,\n",
    "    SimpleDirectoryReader,\n",
    "    ServiceContext,\n",
    "    StorageContext,\n",
    "    SimpleKeywordTableIndex,\n",
    "    KnowledgeGraphIndex,\n",
    ")\n",
    "from llama_index.response.notebook_utils import display_response\n",
    "from llama_index.llms import OpenAI"
   ]
  },
  {
   "cell_type": "markdown",
   "id": "787174ed-10ce-47d7-82fd-9ca7f891eea7",
   "metadata": {},
   "source": [
    "## Load Data\n",
    "\n",
    "We first show how to convert a Document into a set of Nodes, and insert into a DocumentStore."
   ]
  },
  {
   "cell_type": "code",
   "execution_count": 3,
   "id": "7b16c74c-213d-413f-916f-158189fe29a5",
   "metadata": {
    "tags": []
   },
   "outputs": [],
   "source": [
    "from llama_index import SimpleDirectoryReader\n",
    "\n",
    "# try loading great gatsby\n",
    "\n",
    "documents = SimpleDirectoryReader(\n",
    "    input_files=[\"../../../examples/gatsby/gatsby_full.txt\"]\n",
    ").load_data()"
   ]
  },
  {
   "cell_type": "markdown",
   "id": "aba2c77c-0621-4239-922d-31b976b48efe",
   "metadata": {},
   "source": [
    "## Define Query Engines"
   ]
  },
  {
   "cell_type": "code",
   "execution_count": 4,
   "id": "ebc46e63-c5fd-4ea2-b3ff-3d2a8660ad44",
   "metadata": {
    "tags": []
   },
   "outputs": [],
   "source": [
    "# initialize service context (set chunk size)\n",
    "from llama_index.llms import OpenAI\n",
    "\n",
    "llm = OpenAI(model=\"gpt-3.5-turbo\")\n",
    "service_context = ServiceContext.from_defaults(chunk_size=1024, llm=llm)\n",
    "nodes = service_context.node_parser.get_nodes_from_documents(documents)"
   ]
  },
  {
   "cell_type": "code",
   "execution_count": 5,
   "id": "d3bb1738-51c1-4079-885c-ad78ec10683d",
   "metadata": {
    "tags": []
   },
   "outputs": [],
   "source": [
    "# initialize storage context (by default it's in-memory)\n",
    "storage_context = StorageContext.from_defaults()\n",
    "storage_context.docstore.add_documents(nodes)"
   ]
  },
  {
   "cell_type": "code",
   "execution_count": 6,
   "id": "cc201fb0-abc9-443d-be77-5a084797bae7",
   "metadata": {
    "tags": []
   },
   "outputs": [
    {
     "data": {
      "application/vnd.jupyter.widget-view+json": {
       "model_id": "ac6abedbc02d4335b73045d056a8e0b7",
       "version_major": 2,
       "version_minor": 0
      },
      "text/plain": [
       "Extracting keywords from nodes:   0%|          | 0/77 [00:00<?, ?it/s]"
      ]
     },
     "metadata": {},
     "output_type": "display_data"
    },
    {
     "data": {
      "application/vnd.jupyter.widget-view+json": {
       "model_id": "33cf0bc8c99942249d7b0268a02a82ad",
       "version_major": 2,
       "version_minor": 0
      },
      "text/plain": [
       "Generating embeddings:   0%|          | 0/77 [00:00<?, ?it/s]"
      ]
     },
     "metadata": {},
     "output_type": "display_data"
    }
   ],
   "source": [
    "keyword_index = SimpleKeywordTableIndex(\n",
    "    nodes,\n",
    "    storage_context=storage_context,\n",
    "    service_context=service_context,\n",
    "    show_progress=True,\n",
    ")\n",
    "vector_index = VectorStoreIndex(\n",
    "    nodes,\n",
    "    storage_context=storage_context,\n",
    "    service_context=service_context,\n",
    "    show_progress=True,\n",
    ")\n",
    "# graph_index = KnowledgeGraphIndex(nodes, storage_context=storage_context, service_context=service_context, show_progress=True)"
   ]
  },
  {
   "cell_type": "code",
   "execution_count": 7,
   "id": "b58db24b-8c38-42df-9e0f-bfb91c1d4f0a",
   "metadata": {
    "tags": []
   },
   "outputs": [],
   "source": [
    "from llama_index.prompts import PromptTemplate\n",
    "\n",
    "QA_PROMPT_TMPL = (\n",
    "    \"Context information is below.\\n\"\n",
    "    \"---------------------\\n\"\n",
    "    \"{context_str}\\n\"\n",
    "    \"---------------------\\n\"\n",
    "    \"Given the context information and not prior knowledge, \"\n",
    "    \"answer the question. If the answer is not in the context, inform \"\n",
    "    \"the user that you can't answer the question - DO NOT MAKE UP AN ANSWER.\\n\"\n",
    "    \"In addition to returning the answer, also return a relevance score as to \"\n",
    "    \"how relevant the answer is to the question. \"\n",
    "    \"Question: {query_str}\\n\"\n",
    "    \"Answer (including relevance score): \"\n",
    ")\n",
    "QA_PROMPT = PromptTemplate(QA_PROMPT_TMPL)\n",
    "\n",
    "keyword_query_engine = keyword_index.as_query_engine(text_qa_template=QA_PROMPT)\n",
    "vector_query_engine = vector_index.as_query_engine(text_qa_template=QA_PROMPT)"
   ]
  },
  {
   "cell_type": "code",
   "execution_count": 8,
   "id": "a6b79668-8ca6-45fd-8f3b-dffe986040f8",
   "metadata": {
    "tags": []
   },
   "outputs": [],
   "source": [
    "response = vector_query_engine.query(\n",
    "    \"Describe and summarize the interactions between Gatsby and Daisy\"\n",
    ")"
   ]
  },
  {
   "cell_type": "code",
   "execution_count": 9,
   "id": "0124f5b9-b2df-4fcf-828a-d8c12339f01a",
   "metadata": {
    "tags": []
   },
   "outputs": [
    {
     "name": "stdout",
     "output_type": "stream",
     "text": [
      "Gatsby and Daisy's interactions are described as intimate and conspiring. They sit opposite each other at a kitchen table, with Gatsby's hand covering Daisy's hand. They communicate through nods and seem to have a natural intimacy. Gatsby waits for Daisy to go to bed and is reluctant to leave until he knows what she will do. They have a conversation in which Gatsby tells the story of his youth with Dan Cody. Daisy's face is smeared with tears, but Gatsby glows with a new well-being. Gatsby invites Daisy to his house and expresses his desire for her to come. They admire Gatsby's house together and discuss the interesting people who visit. The relevance score of this answer is 10/10.\n"
     ]
    }
   ],
   "source": [
    "print(response)"
   ]
  },
  {
   "cell_type": "code",
   "execution_count": 43,
   "id": "7bf73d14-451f-4854-a899-7100dfe12fa2",
   "metadata": {
    "tags": []
   },
   "outputs": [
    {
     "name": "stdout",
     "output_type": "stream",
     "text": [
      "> Starting query: Describe and summarize the interactions between Gatsby and Daisy\n",
      "query keywords: ['describe', 'interactions', 'gatsby', 'summarize', 'daisy']\n",
      "> Extracted keywords: ['gatsby', 'daisy']\n"
     ]
    }
   ],
   "source": [
    "response = keyword_query_engine.query(\n",
    "    \"Describe and summarize the interactions between Gatsby and Daisy\"\n",
    ")"
   ]
  },
  {
   "cell_type": "code",
   "execution_count": 44,
   "id": "32ef656b-f477-4851-8a70-4071e38735ee",
   "metadata": {
    "tags": []
   },
   "outputs": [
    {
     "name": "stdout",
     "output_type": "stream",
     "text": [
      "The interactions between Gatsby and Daisy are characterized by a sense of tension and longing. Gatsby is visibly disappointed when Daisy expresses her dissatisfaction with their time together and insists that she didn't have a good time. He feels distant from her and struggles to make her understand his emotions. Gatsby dismisses the significance of the dance and instead focuses on his desire for Daisy to confess her love for him and leave Tom. He yearns for a deep connection with Daisy, but feels that she doesn't fully comprehend his feelings. These interactions highlight the complexities of their relationship and the challenges they face in rekindling their romance. The relevance score for these interactions is 8 out of 10.\n"
     ]
    }
   ],
   "source": [
    "print(response)"
   ]
  },
  {
   "cell_type": "markdown",
   "id": "65212ae9-7ac3-4d90-a9b7-0950e040ebdd",
   "metadata": {},
   "source": [
    "## Define Router Query Engine"
   ]
  },
  {
   "cell_type": "code",
   "execution_count": 11,
   "id": "ea43a659-3bde-4fb8-a534-36ba3b48406a",
   "metadata": {
    "tags": []
   },
   "outputs": [],
   "source": [
    "from llama_index.tools.query_engine import QueryEngineTool\n",
    "\n",
    "\n",
    "keyword_tool = QueryEngineTool.from_defaults(\n",
    "    query_engine=keyword_query_engine,\n",
    "    description=\"Useful for answering questions about this essay\",\n",
    ")\n",
    "\n",
    "vector_tool = QueryEngineTool.from_defaults(\n",
    "    query_engine=vector_query_engine,\n",
    "    description=\"Useful for answering questions about this essay\",\n",
    ")"
   ]
  },
  {
   "cell_type": "code",
   "execution_count": 12,
   "id": "c962d312-1d2d-4396-8e1a-071df493ebce",
   "metadata": {
    "tags": []
   },
   "outputs": [],
   "source": [
    "from llama_index.query_engine.router_query_engine import RouterQueryEngine\n",
    "from llama_index.selectors.llm_selectors import LLMSingleSelector, LLMMultiSelector\n",
    "from llama_index.selectors.pydantic_selectors import (\n",
    "    PydanticMultiSelector,\n",
    "    PydanticSingleSelector,\n",
    ")\n",
    "from llama_index.response_synthesizers import TreeSummarize\n",
    "\n",
    "TREE_SUMMARIZE_PROMPT_TMPL = (\n",
    "    \"Context information from multiple sources is below. Each source may or may not have \\n\"\n",
    "    \"a relevance score attached to it.\\n\"\n",
    "    \"---------------------\\n\"\n",
    "    \"{context_str}\\n\"\n",
    "    \"---------------------\\n\"\n",
    "    \"Given the information from multiple sources and their associated relevance scores (if provided) and not prior knowledge, \"\n",
    "    \"answer the question. If the answer is not in the context, inform \"\n",
    "    \"the user that you can't answer the question.\\n\"\n",
    "    \"Question: {query_str}\\n\"\n",
    "    \"Answer: \"\n",
    ")\n",
    "\n",
    "tree_summarize = TreeSummarize(\n",
    "    summary_template=PromptTemplate(TREE_SUMMARIZE_PROMPT_TMPL)\n",
    ")\n",
    "\n",
    "query_engine = RouterQueryEngine(\n",
    "    selector=LLMMultiSelector.from_defaults(),\n",
    "    query_engine_tools=[\n",
    "        keyword_tool,\n",
    "        vector_tool,\n",
    "    ],\n",
    "    summarizer=tree_summarize,\n",
    ")"
   ]
  },
  {
   "cell_type": "markdown",
   "id": "94e3310d-bfb3-4b12-b158-b905c01cb802",
   "metadata": {},
   "source": [
    "## Experiment with Queries"
   ]
  },
  {
   "cell_type": "code",
   "execution_count": 13,
   "id": "c8b29879-0f9d-463c-a710-dd8dbf58ec20",
   "metadata": {
    "tags": []
   },
   "outputs": [
    {
     "name": "stdout",
     "output_type": "stream",
     "text": [
      "message='OpenAI API response' path=https://api.openai.com/v1/chat/completions processing_ms=1590 request_id=b049001384d0e2f2d96e308903351ca3 response_code=200\n",
      "Selecting query engine 0: Useful for answering questions about this essay.\n",
      "Selecting query engine 1: Useful for answering questions about this essay.\n",
      "> Starting query: Describe and summarize the interactions between Gatsby and Daisy\n",
      "query keywords: ['interactions', 'summarize', 'describe', 'daisy', 'gatsby']\n",
      "> Extracted keywords: ['daisy', 'gatsby']\n",
      "message='OpenAI API response' path=https://api.openai.com/v1/embeddings processing_ms=75 request_id=3f76f611bb063605c3c2365437480f87 response_code=200\n",
      "message='OpenAI API response' path=https://api.openai.com/v1/chat/completions processing_ms=4482 request_id=597221bd776638356f16034c4d8ad2f6 response_code=200\n",
      "message='OpenAI API response' path=https://api.openai.com/v1/chat/completions processing_ms=5773 request_id=50a6030879054f470a1e45952b4b80b3 response_code=200\n",
      "message='OpenAI API response' path=https://api.openai.com/v1/chat/completions processing_ms=6478 request_id=9171e42c7ced18baedc77cc89ec7478c response_code=200\n",
      "message='OpenAI API response' path=https://api.openai.com/v1/chat/completions processing_ms=6166 request_id=f3218012e3f9a12e00daeee0b9b06f67 response_code=200\n",
      "message='OpenAI API response' path=https://api.openai.com/v1/chat/completions processing_ms=4808 request_id=ab6887cbec9a44c2342d6402e28129d6 response_code=200\n",
      "Combining responses from multiple query engines.\n",
      "message='OpenAI API response' path=https://api.openai.com/v1/chat/completions processing_ms=4506 request_id=5fd128dab043f58111521d19e7c4f59a response_code=200\n",
      "The interactions between Gatsby and Daisy are portrayed as intense, passionate, and filled with longing and desire. Gatsby is deeply in love with Daisy and throws extravagant parties in the hopes of winning her back. Despite Daisy's marriage to Tom Buchanan, they reconnect and begin an affair. They spend time together at Gatsby's lavish house and even plan to run away together. However, their relationship ends tragically when Daisy accidentally kills Tom's mistress, Myrtle, while driving Gatsby's car. Gatsby takes the blame for the accident and is later killed by Myrtle's husband. Overall, their interactions explore themes of love, wealth, and the pursuit of happiness.\n"
     ]
    }
   ],
   "source": [
    "response = await query_engine.aquery(\n",
    "    \"Describe and summarize the interactions between Gatsby and Daisy\"\n",
    ")\n",
    "print(response)"
   ]
  },
  {
   "cell_type": "code",
   "execution_count": 14,
   "id": "48a13f7d-4073-4fdd-b783-cb62f5b28014",
   "metadata": {
    "tags": []
   },
   "outputs": [
    {
     "data": {
      "text/plain": [
       "[]"
      ]
     },
     "execution_count": 14,
     "metadata": {},
     "output_type": "execute_result"
    }
   ],
   "source": [
    "response.source_nodes"
   ]
  },
  {
   "cell_type": "code",
   "execution_count": 48,
   "id": "d30f30e6-d34e-4c0e-aa22-c72ec6dc1c57",
   "metadata": {
    "tags": []
   },
   "outputs": [
    {
     "name": "stdout",
     "output_type": "stream",
     "text": [
      "Selecting query engine 0: Keywords: Gatsby, past, recapture.\n",
      "> Starting query: What part of his past is Gatsby trying to recapture?\n",
      "query keywords: ['gatsby', 'past', 'recapture']\n",
      "> Extracted keywords: ['gatsby', 'past']\n"
     ]
    },
    {
     "name": "stderr",
     "output_type": "stream",
     "text": [
      "\n",
      "KeyboardInterrupt\n",
      "\n"
     ]
    }
   ],
   "source": [
    "response = await query_engine.aquery(\n",
    "    \"What part of his past is Gatsby trying to recapture?\"\n",
    ")\n",
    "print(response)"
   ]
  },
  {
   "cell_type": "markdown",
   "id": "b27a2f3c-55ce-4fa6-a15a-be539723a967",
   "metadata": {},
   "source": [
    "## Compare Against Baseline\n",
    "\n",
    "Compare against a baseline of chunk size 1024 (k=2)"
   ]
  },
  {
   "cell_type": "code",
   "execution_count": 15,
   "id": "a4d66b14-4f38-4b61-809c-f603d7e09ef9",
   "metadata": {
    "tags": []
   },
   "outputs": [],
   "source": [
    "query_engine_1024 = query_engines[-1]"
   ]
  },
  {
   "cell_type": "code",
   "execution_count": 16,
   "id": "43f3e441-f372-4df2-ae21-71fa7968e606",
   "metadata": {
    "tags": []
   },
   "outputs": [],
   "source": [
    "response_1024 = query_engine_1024.query(\n",
    "    \"Describe and summarize the interactions between Gatsby and Daisy\"\n",
    ")"
   ]
  },
  {
   "cell_type": "code",
   "execution_count": null,
   "id": "4b161e69-da17-4e4e-b8c0-b9c846ce723f",
   "metadata": {
    "tags": []
   },
   "outputs": [],
   "source": [
    "display_response(response_1024, show_source=True, source_length=500)"
   ]
  },
  {
   "cell_type": "code",
   "execution_count": null,
   "id": "3e7cea30-b036-4a8b-b16d-823ab6b860be",
   "metadata": {},
   "outputs": [],
   "source": []
  }
 ],
 "metadata": {
  "kernelspec": {
   "display_name": "llama_index_v2",
   "language": "python",
   "name": "llama_index_v2"
  },
  "language_info": {
   "codemirror_mode": {
    "name": "ipython",
    "version": 3
   },
   "file_extension": ".py",
   "mimetype": "text/x-python",
   "name": "python",
   "nbconvert_exporter": "python",
   "pygments_lexer": "ipython3",
   "version": "3.10.10"
  }
 },
 "nbformat": 4,
 "nbformat_minor": 5
}
