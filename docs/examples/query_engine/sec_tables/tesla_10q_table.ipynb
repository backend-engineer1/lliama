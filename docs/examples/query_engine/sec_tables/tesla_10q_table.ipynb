{
 "cells": [
  {
   "cell_type": "markdown",
   "id": "8ea05db5-944c-4bad-80a6-54841ccc0d42",
   "metadata": {},
   "source": [
    "# Joint Tabular/Semantic QA over Tesla 10K\n",
    "\n",
    "In this example, we show how to ask questions over 10K with understanding of both the unstructured text as well as embedded tables.\n",
    "\n",
    "We use Unstructured to parse out the tables, and use LlamaIndex recursive retrieval to index/retrieve tables if necessary given the user question."
   ]
  },
  {
   "cell_type": "code",
   "execution_count": 50,
   "id": "8f6499c7-138b-4849-9163-5fa2e3f373c7",
   "metadata": {},
   "outputs": [],
   "source": [
    "from pydantic import BaseModel\n",
    "from unstructured.partition.html import partition_html\n",
    "import pandas as pd\n",
    "\n",
    "pd.set_option(\"display.max_rows\", None)\n",
    "pd.set_option(\"display.max_columns\", None)\n",
    "pd.set_option(\"display.width\", None)\n",
    "pd.set_option(\"display.max_colwidth\", None)"
   ]
  },
  {
   "cell_type": "markdown",
   "id": "1d3b4020-7e57-4392-ba29-52a14debd822",
   "metadata": {},
   "source": [
    "## Perform Data Extraction\n",
    "\n",
    "In these sections we use Unstructured to parse out the table and non-table elements."
   ]
  },
  {
   "cell_type": "markdown",
   "id": "2249e49b-fea3-424a-9d3a-955c968899a6",
   "metadata": {},
   "source": [
    "### Extract Elements\n",
    "\n",
    "We use Unstructured to extract table and non-table elements from the 10-K filing."
   ]
  },
  {
   "cell_type": "code",
   "execution_count": null,
   "id": "2f416d23-42ba-4ce7-8d10-28e309f591c2",
   "metadata": {},
   "outputs": [],
   "source": [
    "!wget \"https://www.dropbox.com/scl/fi/mlaymdy1ni1ovyeykhhuk/tesla_2021_10k.htm?rlkey=qf9k4zn0ejrbm716j0gg7r802&dl=1\" -O tesla_2021_10k.htm\n",
    "!wget \"https://www.dropbox.com/scl/fi/rkw0u959yb4w8vlzz76sa/tesla_2020_10k.htm?rlkey=tfkdshswpoupav5tqigwz1mp7&dl=1\" -O tesla_2020_10k.htm"
   ]
  },
  {
   "cell_type": "code",
   "execution_count": 3,
   "id": "0834a73c-f64f-4a50-a085-dceb4526beaa",
   "metadata": {},
   "outputs": [],
   "source": [
    "from typing import Any, Optional\n",
    "import pandas as pd\n",
    "\n",
    "\n",
    "class Element(BaseModel):\n",
    "    id: str\n",
    "    type: str\n",
    "    element: Any\n",
    "    summary: Optional[str] = None\n",
    "    table: Optional[pd.DataFrame] = None\n",
    "\n",
    "    class Config:\n",
    "        arbitrary_types_allowed = True"
   ]
  },
  {
   "cell_type": "code",
   "execution_count": 4,
   "id": "70b83b6b-d096-4cea-90b4-a55ba45780c9",
   "metadata": {},
   "outputs": [],
   "source": [
    "from lxml import html\n",
    "import pandas as pd\n",
    "\n",
    "\n",
    "def html_to_df(html_str):\n",
    "    # print(html_str)\n",
    "    tree = html.fromstring(html_str)\n",
    "    # print(tree.xpath('//table'))\n",
    "    table_element = tree.xpath(\"//table\")[0]\n",
    "    rows = table_element.xpath(\".//tr\")\n",
    "\n",
    "    data = []\n",
    "    for row in rows:\n",
    "        cols = row.xpath(\".//td\")\n",
    "        cols = [c.text.strip() if c.text is not None else \"\" for c in cols]\n",
    "        data.append(cols)\n",
    "\n",
    "    df = pd.DataFrame(data[1:], columns=data[0])\n",
    "    return df"
   ]
  },
  {
   "cell_type": "code",
   "execution_count": 5,
   "id": "58fd61c0-0a1d-48a4-9da3-178637364cdd",
   "metadata": {},
   "outputs": [],
   "source": [
    "# simple heuristic to filter the table (if there's only one row or one column)\n",
    "def filter_table(table_element):\n",
    "    table_df = html_to_df(table_element.metadata.text_as_html)\n",
    "    if len(table_df) <= 1 or len(table_df.columns) <= 1:\n",
    "        return False\n",
    "    else:\n",
    "        return True"
   ]
  },
  {
   "cell_type": "code",
   "execution_count": 6,
   "id": "a016dbd7-2c6d-46aa-b7e4-12b273d8b4db",
   "metadata": {},
   "outputs": [],
   "source": [
    "def extract_elements(filename, table_filters=[]):\n",
    "    elements = partition_html(filename=filename)\n",
    "    output_els = []\n",
    "    for idx, element in enumerate(elements):\n",
    "        if \"unstructured.documents.html.HTMLTable\" in str(type(element)):\n",
    "            should_keep = all([tf(element) for tf in table_filters])\n",
    "            if should_keep:\n",
    "                table_df = html_to_df(str(element.metadata.text_as_html))\n",
    "                output_els.append(\n",
    "                    Element(\n",
    "                        id=f\"id_{idx}\", type=\"table\", element=element, table=table_df\n",
    "                    )\n",
    "                )\n",
    "            else:\n",
    "                pass\n",
    "        else:\n",
    "            output_els.append(Element(id=f\"id_{idx}\", type=\"text\", element=element))\n",
    "    return output_els"
   ]
  },
  {
   "cell_type": "code",
   "execution_count": 7,
   "id": "523f02dc-967c-4b04-8594-256843c97957",
   "metadata": {},
   "outputs": [],
   "source": [
    "def get_table_elements(elements):\n",
    "    return [e for e in elements if e.type == \"table\"]\n",
    "\n",
    "\n",
    "def get_text_elements(elements):\n",
    "    return [e for e in elements if e.type == \"text\"]"
   ]
  },
  {
   "cell_type": "code",
   "execution_count": 8,
   "id": "cdd0d71a-a688-4448-8115-b65818c9fdda",
   "metadata": {},
   "outputs": [],
   "source": [
    "elements = extract_elements(\"tesla_2021_10k.htm\", table_filters=[filter_table])"
   ]
  },
  {
   "cell_type": "code",
   "execution_count": 9,
   "id": "aaf6f75e-bda8-4c90-abfa-87bc9c6f0269",
   "metadata": {},
   "outputs": [],
   "source": [
    "table_elements = get_table_elements(elements)\n",
    "text_elements = get_text_elements(elements)"
   ]
  },
  {
   "cell_type": "code",
   "execution_count": 10,
   "id": "00596579-558e-4a6f-b64f-9a3ce490571f",
   "metadata": {},
   "outputs": [
    {
     "data": {
      "text/plain": [
       "105"
      ]
     },
     "execution_count": 10,
     "metadata": {},
     "output_type": "execute_result"
    }
   ],
   "source": [
    "len(table_elements)"
   ]
  },
  {
   "cell_type": "markdown",
   "id": "cd9e6ff3-94db-4312-9f30-70133b70c59f",
   "metadata": {},
   "source": [
    "### Summarize Tables\n",
    "\n",
    "We specifically go through tables and use LlamaIndex to help extract a summary."
   ]
  },
  {
   "cell_type": "code",
   "execution_count": 11,
   "id": "15fcacb5-2d06-405f-b5a5-3c1d3244ba43",
   "metadata": {},
   "outputs": [],
   "source": [
    "from llama_index import SummaryIndex, Document\n",
    "from llama_index import ServiceContext\n",
    "from llama_index.llms import OpenAI\n",
    "from tqdm.notebook import tqdm\n",
    "\n",
    "llm = OpenAI(model=\"gpt-4\")\n",
    "\n",
    "system_prompt = \"\"\"\\\n",
    "You are an assistant designed to extract insights from messy tables in a financial report.\n",
    "\n",
    "You are also designed to filter out \"tables\" that are not useful to keep. For instance, if the table \\\n",
    "is a wrongfully extracted piece of text, or does not contain any useful information.\n",
    "\"\"\"\n",
    "\n",
    "service_context = ServiceContext.from_defaults(system_prompt=system_prompt, llm=llm)"
   ]
  },
  {
   "cell_type": "code",
   "execution_count": 12,
   "id": "c42b9e33-6432-4ece-94bf-c71eb6a3ce52",
   "metadata": {},
   "outputs": [],
   "source": [
    "class TableOutput(BaseModel):\n",
    "    \"\"\"Output from analyzing a table.\"\"\"\n",
    "\n",
    "    summary: str\n",
    "    should_keep: bool\n",
    "\n",
    "\n",
    "def extract_table_summaries(elements):\n",
    "    \"\"\"Go through elements, extract out summaries that are tables.\"\"\"\n",
    "    for element in tqdm(elements):\n",
    "        if element.type != \"table\":\n",
    "            continue\n",
    "        index = SummaryIndex.from_documents([Document(text=str(element.element))])\n",
    "        query_engine = index.as_query_engine(output_cls=TableOutput)\n",
    "        query_str = \"\"\"\\\n",
    "What is this table about? Give a very concise summary (imagine you are adding a caption), \\\n",
    "and also output whether or not the table should be kept.\n",
    "\"\"\"\n",
    "        response = query_engine.query(query_str)\n",
    "        element.summary = response.response.summary"
   ]
  },
  {
   "cell_type": "code",
   "execution_count": 13,
   "id": "a95656b9-8cad-4167-8ac7-de7bfff83c7d",
   "metadata": {},
   "outputs": [
    {
     "data": {
      "application/json": {
       "ascii": false,
       "bar_format": null,
       "colour": null,
       "elapsed": 0.0065877437591552734,
       "initial": 0,
       "n": 0,
       "ncols": null,
       "nrows": 25,
       "postfix": null,
       "prefix": "",
       "rate": null,
       "total": 105,
       "unit": "it",
       "unit_divisor": 1000,
       "unit_scale": false
      },
      "application/vnd.jupyter.widget-view+json": {
       "model_id": "1343620db2f141abb99960913245d611",
       "version_major": 2,
       "version_minor": 0
      },
      "text/plain": [
       "  0%|          | 0/105 [00:00<?, ?it/s]"
      ]
     },
     "metadata": {},
     "output_type": "display_data"
    }
   ],
   "source": [
    "extract_table_summaries(table_elements)"
   ]
  },
  {
   "cell_type": "code",
   "execution_count": 14,
   "id": "f0d47200-52d9-437c-a4a0-6421a5f1ed04",
   "metadata": {},
   "outputs": [
    {
     "data": {
      "text/plain": [
       "'Delaware 91-2197729'"
      ]
     },
     "execution_count": 14,
     "metadata": {},
     "output_type": "execute_result"
    }
   ],
   "source": [
    "table_elements[0].summary"
   ]
  },
  {
   "cell_type": "code",
   "execution_count": 16,
   "id": "d1f587a2-6606-4764-aa76-c17745ebabfe",
   "metadata": {},
   "outputs": [],
   "source": [
    "# [optional] save\n",
    "import pickle"
   ]
  },
  {
   "cell_type": "code",
   "execution_count": 17,
   "id": "0e3b6cd1-181a-46c0-a451-6d3e52141a4c",
   "metadata": {},
   "outputs": [],
   "source": [
    "pickle.dump(elements, open(\"elements.pkl\", \"wb\"))"
   ]
  },
  {
   "cell_type": "code",
   "execution_count": 18,
   "id": "3811e092-d639-44c1-a83a-0f15f985e38a",
   "metadata": {},
   "outputs": [],
   "source": [
    "# [optional] load\n",
    "\n",
    "elements = pickle.load(open(\"elements.pkl\", \"rb\"))"
   ]
  },
  {
   "cell_type": "markdown",
   "id": "57035fe2-0ce8-460f-8a6c-2f0bc37d71d3",
   "metadata": {},
   "source": [
    "## Setup Recursive Retriever\n",
    "\n",
    "Now that we've extracted tables and their summaries, we can setup a recursive retriever in LlamaIndex to query these tables."
   ]
  },
  {
   "cell_type": "markdown",
   "id": "5392e764-818b-4382-b12d-803cd1aa914d",
   "metadata": {},
   "source": [
    "### Create Nodes"
   ]
  },
  {
   "cell_type": "code",
   "execution_count": 19,
   "id": "1c184d7c-9ccf-40a8-8d73-f33fc371899c",
   "metadata": {},
   "outputs": [],
   "source": [
    "from llama_index.schema import TextNode, IndexNode\n",
    "from llama_index.node_parser import SimpleNodeParser"
   ]
  },
  {
   "cell_type": "code",
   "execution_count": 20,
   "id": "0c8fe5bf-d956-4fc6-a698-73ffa9947144",
   "metadata": {},
   "outputs": [],
   "source": [
    "# join all non-table elements into"
   ]
  },
  {
   "cell_type": "code",
   "execution_count": 68,
   "id": "429f3e50-dd38-462c-96ae-bb0ff8ecc2cd",
   "metadata": {},
   "outputs": [],
   "source": [
    "def _get_nodes_from_buffer(buffer, node_parser):\n",
    "    doc = Document(text=\"\\n\\n\".join([t for t in buffer]))\n",
    "    nodes = node_parser.get_nodes_from_documents([doc])\n",
    "    return nodes\n",
    "\n",
    "\n",
    "def get_nodes_and_mappings(elements):\n",
    "    pd.options.display.max_columns = None\n",
    "    node_parser = SimpleNodeParser.from_defaults()\n",
    "\n",
    "    nodes = []\n",
    "    node_mappings = {}\n",
    "    other_mappings = {}\n",
    "    cur_text_el_buffer = []\n",
    "    for element in elements:\n",
    "        if element.type == \"table\":\n",
    "            # flush text buffer\n",
    "            if len(cur_text_el_buffer) > 0:\n",
    "                cur_text_nodes = _get_nodes_from_buffer(cur_text_el_buffer, node_parser)\n",
    "                nodes.extend(cur_text_nodes)\n",
    "                cur_text_el_buffer = []\n",
    "\n",
    "            index_node = IndexNode(\n",
    "                text=str(element.summary), index_id=(element.id + \"_table\")\n",
    "            )\n",
    "            table_df = element.table\n",
    "            table_str = table_df.to_string()\n",
    "            node_mappings[(element.id + \"_table\")] = TextNode(text=table_str)\n",
    "            other_mappings[(element.id + \"_table\")] = (\n",
    "                element.table,\n",
    "                str(element.summary),\n",
    "            )\n",
    "            nodes.append(index_node)\n",
    "        else:\n",
    "            cur_text_el_buffer.append(str(element.element))\n",
    "\n",
    "    # flush text buffer\n",
    "    if len(cur_text_el_buffer) > 0:\n",
    "        cur_text_nodes = _get_nodes_from_buffer(cur_text_el_buffer, node_parser)\n",
    "        nodes.extend(cur_text_nodes)\n",
    "        cur_text_el_buffer = []\n",
    "\n",
    "    return nodes, node_mappings, other_mappings"
   ]
  },
  {
   "cell_type": "code",
   "execution_count": 22,
   "id": "73479ec8-c4ae-4838-8446-f803b4c3a9a6",
   "metadata": {},
   "outputs": [],
   "source": [
    "nodes, node_mappings, other_mappings = get_nodes_and_mappings(elements)"
   ]
  },
  {
   "cell_type": "code",
   "execution_count": 23,
   "id": "862fa695-8548-4ad8-9142-ea8517730b78",
   "metadata": {},
   "outputs": [
    {
     "name": "stdout",
     "output_type": "stream",
     "text": [
      "(                                                                               \\\n",
      "0                               Year Ended December 31,                         \n",
      "1                         2021                                         2020     \n",
      "2    United States           $                           23,973                 \n",
      "3            China                                       13,844                 \n",
      "4            Other                                       16,006                 \n",
      "5            Total           $                           53,823                 \n",
      "\n",
      "                                                 \n",
      "0                                                \n",
      "1                 2019                           \n",
      "2  $    15,207                $    12,653        \n",
      "3        6,662                      2,979        \n",
      "4        9,667                      8,946        \n",
      "5  $    31,536                $    24,578        , 'Revenue by country for the years 2019, 2020, and 2021')\n"
     ]
    }
   ],
   "source": [
    "print(other_mappings[\"id_1715_table\"])"
   ]
  },
  {
   "cell_type": "markdown",
   "id": "d2393a9e-c1f2-452c-9683-61435c848fec",
   "metadata": {},
   "source": [
    "### Construct Retrievers"
   ]
  },
  {
   "cell_type": "code",
   "execution_count": 24,
   "id": "abb2a4ff-0185-47b7-b68b-d2ba32242f06",
   "metadata": {},
   "outputs": [],
   "source": [
    "from llama_index.retrievers import RecursiveRetriever\n",
    "from llama_index.query_engine import RetrieverQueryEngine\n",
    "from llama_index import VectorStoreIndex"
   ]
  },
  {
   "cell_type": "code",
   "execution_count": 25,
   "id": "b7571128-c61d-42f1-af33-0aade58ee56d",
   "metadata": {},
   "outputs": [],
   "source": [
    "# construct top-level vector index + query engine\n",
    "vector_index = VectorStoreIndex(nodes)\n",
    "vector_retriever = vector_index.as_retriever(similarity_top_k=1)\n",
    "vector_query_engine = vector_index.as_query_engine(similarity_top_k=1)"
   ]
  },
  {
   "cell_type": "code",
   "execution_count": 26,
   "id": "b3b94a3e-e7de-4815-9598-a39834d40b07",
   "metadata": {},
   "outputs": [],
   "source": [
    "from llama_index.retrievers import RecursiveRetriever\n",
    "\n",
    "recursive_retriever = RecursiveRetriever(\n",
    "    \"vector\",\n",
    "    retriever_dict={\"vector\": vector_retriever},\n",
    "    node_dict=node_mappings,\n",
    "    verbose=True,\n",
    ")\n",
    "query_engine = RetrieverQueryEngine.from_args(recursive_retriever)"
   ]
  },
  {
   "cell_type": "markdown",
   "id": "23f15269-5903-458d-8a1c-55f68a3732cb",
   "metadata": {},
   "source": [
    "### Run some Queries"
   ]
  },
  {
   "cell_type": "code",
   "execution_count": 27,
   "id": "a998a0d7-be3a-4c39-ac94-43ecd070455b",
   "metadata": {},
   "outputs": [
    {
     "name": "stdout",
     "output_type": "stream",
     "text": [
      "\u001b[1;3;34mRetrieving with query id None: What was the revenue in 2020?\n",
      "\u001b[0m\u001b[1;3;38;5;200mRetrieved node with id, entering: id_1715_table\n",
      "\u001b[0m\u001b[1;3;34mRetrieving with query id id_1715_table: What was the revenue in 2020?\n",
      "\u001b[0mThe revenue in 2020 was $31,536.\n"
     ]
    }
   ],
   "source": [
    "response = query_engine.query(\"What was the revenue in 2020?\")\n",
    "print(str(response))"
   ]
  },
  {
   "cell_type": "code",
   "execution_count": 28,
   "id": "1c285f95-3bd3-4842-aed8-4bbc731575d4",
   "metadata": {},
   "outputs": [
    {
     "name": "stdout",
     "output_type": "stream",
     "text": [
      "The revenue in 2020 was not provided in the given context information.\n"
     ]
    }
   ],
   "source": [
    "# compare against the baseline retriever\n",
    "response = vector_query_engine.query(\"What was the revenue in 2020?\")\n",
    "print(str(response))"
   ]
  },
  {
   "cell_type": "code",
   "execution_count": 29,
   "id": "043c183e-2beb-46b1-909a-90e25833f276",
   "metadata": {},
   "outputs": [
    {
     "name": "stdout",
     "output_type": "stream",
     "text": [
      "\u001b[1;3;34mRetrieving with query id None: What were the total cash flows in 2021?\n",
      "\u001b[0m\u001b[1;3;38;5;200mRetrieved node with id, entering: id_558_table\n",
      "\u001b[0m\u001b[1;3;34mRetrieving with query id id_558_table: What were the total cash flows in 2021?\n",
      "\u001b[0m"
     ]
    }
   ],
   "source": [
    "response = query_engine.query(\"What were the total cash flows in 2021?\")"
   ]
  },
  {
   "cell_type": "code",
   "execution_count": 30,
   "id": "77fd0d9e-8862-41b9-85c3-5bb44fd38fb5",
   "metadata": {},
   "outputs": [
    {
     "name": "stdout",
     "output_type": "stream",
     "text": [
      "The total cash flows in 2021 were $11,497 million.\n"
     ]
    }
   ],
   "source": [
    "print(str(response))"
   ]
  },
  {
   "cell_type": "code",
   "execution_count": 31,
   "id": "63a0472a-15d4-4bb7-b8ea-50a722c53b2a",
   "metadata": {},
   "outputs": [
    {
     "name": "stdout",
     "output_type": "stream",
     "text": [
      "The total cash flows in 2021 were not provided in the given context information.\n"
     ]
    }
   ],
   "source": [
    "response = vector_query_engine.query(\"What were the total cash flows in 2021?\")\n",
    "print(str(response))"
   ]
  },
  {
   "cell_type": "code",
   "execution_count": null,
   "id": "d97b5541-31af-4607-9504-474981760227",
   "metadata": {},
   "outputs": [],
   "source": [
    "response = query_engine.query(\"What are the risk factors for Tesla?\")\n",
    "print(str(response))"
   ]
  },
  {
   "cell_type": "code",
   "execution_count": 51,
   "id": "f0ab9657-edf9-4c4e-9cb0-b0e445cf7ea0",
   "metadata": {},
   "outputs": [
    {
     "name": "stdout",
     "output_type": "stream",
     "text": [
      "The risk factors for Tesla include strong competition for skilled individuals in the labor market, negative publicity, potential impacts from reductions in force and departure of senior personnel, competition from companies with greater financial resources, dependence on the services of Elon Musk, potential cyber-attacks or security incidents, and reliance on service providers who may be vulnerable to security breaches. These factors could harm Tesla's ability to retain and hire qualified personnel, disrupt its business, harm its reputation, result in legal and financial exposure, and cause other adverse consequences.\n"
     ]
    }
   ],
   "source": [
    "response = vector_query_engine.query(\"What are the risk factors for Tesla?\")\n",
    "print(str(response))"
   ]
  },
  {
   "cell_type": "markdown",
   "id": "17950946-1207-4366-bc3e-242894699916",
   "metadata": {},
   "source": [
    "## Try Table Comparisons\n",
    "\n",
    "In this setting we load in both the 2021 and 2020 10K filings, parse each into a hierarchy of tables/text objects, define a recursive retriever over each, and then compose both with a SubQuestionQueryEngine.\n",
    "\n",
    "This allows us to execute document comparisons against both."
   ]
  },
  {
   "cell_type": "markdown",
   "id": "29c27fea-4132-4433-bca3-ca6771d5ed19",
   "metadata": {},
   "source": [
    "### Define E2E Recursive Retriever Function"
   ]
  },
  {
   "cell_type": "code",
   "execution_count": 119,
   "id": "e24516e9-9300-4788-b0ca-c477bd33000b",
   "metadata": {},
   "outputs": [],
   "source": [
    "import pickle\n",
    "import os\n",
    "\n",
    "\n",
    "def create_recursive_retriever_over_doc(file_name, elements_save_path=None):\n",
    "    \"\"\"Big function to go from document path -> recursive retriever.\"\"\"\n",
    "    ### Load Data\n",
    "    # extract elements from document\n",
    "    if elements_save_path is not None and os.path.exists(elements_save_path):\n",
    "        elements = pickle.load(open(elements_save_path, \"rb\"))\n",
    "    else:\n",
    "        elements = extract_elements(file_name, table_filters=[filter_table])\n",
    "        table_elements = get_table_elements(elements)\n",
    "        text_elements = get_text_elements(elements)\n",
    "        # extract summaries over table elements\n",
    "        extract_table_summaries(table_elements)\n",
    "        if elements_save_path is not None:\n",
    "            pickle.dump(elements, open(elements_save_path, \"wb\"))\n",
    "\n",
    "    # convert into nodes\n",
    "    nodes, node_mappings, other_mappings = get_nodes_and_mappings(elements)\n",
    "\n",
    "    ### Construct Retrievers\n",
    "    # construct top-level vector index + query engine\n",
    "    vector_index = VectorStoreIndex(nodes)\n",
    "    vector_retriever = vector_index.as_retriever(similarity_top_k=2)\n",
    "    # vector_query_engine = vector_index.as_query_engine(similarity_top_k=1)\n",
    "    recursive_retriever = RecursiveRetriever(\n",
    "        \"vector\",\n",
    "        retriever_dict={\"vector\": vector_retriever},\n",
    "        node_dict=node_mappings,\n",
    "        verbose=True,\n",
    "    )\n",
    "    query_engine = RetrieverQueryEngine.from_args(recursive_retriever)\n",
    "    return query_engine, nodes"
   ]
  },
  {
   "cell_type": "markdown",
   "id": "a2f4386d-15ff-41b6-83d6-49e9bccd6f68",
   "metadata": {},
   "source": [
    "### Create Sub Question Query Engine"
   ]
  },
  {
   "cell_type": "code",
   "execution_count": 120,
   "id": "4015bb7b-c36c-48b3-9471-ac6e56b2e075",
   "metadata": {},
   "outputs": [],
   "source": [
    "import nest_asyncio\n",
    "\n",
    "nest_asyncio.apply()"
   ]
  },
  {
   "cell_type": "code",
   "execution_count": 121,
   "id": "55a54ce9-f9b5-49af-a73a-f2962ee6e9fb",
   "metadata": {},
   "outputs": [],
   "source": [
    "from llama_index.tools import QueryEngineTool, ToolMetadata\n",
    "from llama_index.query_engine import SubQuestionQueryEngine"
   ]
  },
  {
   "cell_type": "code",
   "execution_count": 122,
   "id": "268f5289-9edb-45cb-b4d2-8ea161ae20b1",
   "metadata": {},
   "outputs": [],
   "source": [
    "query_engine_2021, nodes_2021 = create_recursive_retriever_over_doc(\n",
    "    \"tesla_2021_10k.htm\", elements_save_path=\"2021_elements.pkl\"\n",
    ")\n",
    "query_engine_2020, nodes_2020 = create_recursive_retriever_over_doc(\n",
    "    \"tesla_2020_10k.htm\", elements_save_path=\"2020_elements.pkl\"\n",
    ")"
   ]
  },
  {
   "cell_type": "code",
   "execution_count": 123,
   "id": "763662e0-ad75-4abc-9cac-cefbb5a01b28",
   "metadata": {},
   "outputs": [],
   "source": [
    "# setup base query engine as tool\n",
    "query_engine_tools = [\n",
    "    QueryEngineTool(\n",
    "        query_engine=query_engine_2021,\n",
    "        metadata=ToolMetadata(\n",
    "            name=\"tesla_2021_10k\",\n",
    "            description=\"Provides information about Tesla financials for year 2021\",\n",
    "        ),\n",
    "    ),\n",
    "    QueryEngineTool(\n",
    "        query_engine=query_engine_2020,\n",
    "        metadata=ToolMetadata(\n",
    "            name=\"tesla_2020_10k\",\n",
    "            description=\"Provides information about Tesla financials for year 2020\",\n",
    "        ),\n",
    "    ),\n",
    "]\n",
    "\n",
    "sub_query_engine = SubQuestionQueryEngine.from_defaults(\n",
    "    query_engine_tools=query_engine_tools,\n",
    "    service_context=service_context,\n",
    "    use_async=True,\n",
    ")"
   ]
  },
  {
   "cell_type": "markdown",
   "id": "40407e7c-dfee-4163-945c-5af150902239",
   "metadata": {},
   "source": [
    "### Try out some Comparisons"
   ]
  },
  {
   "cell_type": "code",
   "execution_count": null,
   "id": "db317612-06b0-4393-84e1-4c0831d3a352",
   "metadata": {},
   "outputs": [],
   "source": [
    "response = sub_query_engine.query(\n",
    "    \"Can you compare and contrast the cash flow in 2021 with 2020?\"\n",
    ")"
   ]
  },
  {
   "cell_type": "code",
   "execution_count": 127,
   "id": "850ef74a-d3b6-4b46-9c94-649998e513be",
   "metadata": {},
   "outputs": [
    {
     "name": "stdout",
     "output_type": "stream",
     "text": [
      "In 2021, Tesla's cash flow was more detailed, with $11.5 billion provided by operating activities, $7.9 billion used in investing activities, and $5.2 billion used in financing activities. In contrast, in 2020, the cash flow was reported as a single figure of $5.94 billion. It's clear that the cash flow in 2021 was higher than in 2020, but the 2021 data provides a more granular view of how the cash flow was distributed across different activities.\n"
     ]
    }
   ],
   "source": [
    "print(str(response))"
   ]
  },
  {
   "cell_type": "code",
   "execution_count": null,
   "id": "604a7144-c0b0-43e8-b76b-b31decb0d99e",
   "metadata": {},
   "outputs": [],
   "source": [
    "response = sub_query_engine.query(\n",
    "    \"Can you compare and contrast the R&D expenditures in 2021 vs. 2020?\"\n",
    ")"
   ]
  },
  {
   "cell_type": "code",
   "execution_count": null,
   "id": "e92a5d14-3a67-4f28-8106-f0c0bb740444",
   "metadata": {},
   "outputs": [],
   "source": [
    "print(str(response))"
   ]
  },
  {
   "cell_type": "code",
   "execution_count": null,
   "id": "5edfe290-a606-4d81-aa37-50ba50a19845",
   "metadata": {
    "scrolled": true
   },
   "outputs": [],
   "source": [
    "response = sub_query_engine.query(\n",
    "    \"Can you compare and contrast the risk factors in 2021 vs. 2020?\"\n",
    ")\n",
    "print(str(response))"
   ]
  },
  {
   "cell_type": "markdown",
   "id": "33932f60-d9e3-4710-808b-0f0bb887ed7e",
   "metadata": {},
   "source": [
    "#### Try Comparing against Baseline"
   ]
  },
  {
   "cell_type": "code",
   "execution_count": 128,
   "id": "da93ebd2-5816-4bc5-a938-39463b6fffae",
   "metadata": {},
   "outputs": [],
   "source": [
    "vector_index_2021 = VectorStoreIndex(nodes_2021)\n",
    "vector_query_engine_2021 = vector_index_2021.as_query_engine(similarity_top_k=2)\n",
    "vector_index_2020 = VectorStoreIndex(nodes_2020)\n",
    "vector_query_engine_2020 = vector_index_2020.as_query_engine(similarity_top_k=2)\n",
    "# setup base query engine as tool\n",
    "query_engine_tools = [\n",
    "    QueryEngineTool(\n",
    "        query_engine=vector_query_engine_2021,\n",
    "        metadata=ToolMetadata(\n",
    "            name=\"tesla_2021_10k\",\n",
    "            description=\"Provides information about Tesla financials for year 2021\",\n",
    "        ),\n",
    "    ),\n",
    "    QueryEngineTool(\n",
    "        query_engine=vector_query_engine_2020,\n",
    "        metadata=ToolMetadata(\n",
    "            name=\"tesla_2020_10k\",\n",
    "            description=\"Provides information about Tesla financials for year 2020\",\n",
    "        ),\n",
    "    ),\n",
    "]\n",
    "\n",
    "base_sub_query_engine = SubQuestionQueryEngine.from_defaults(\n",
    "    query_engine_tools=query_engine_tools,\n",
    "    service_context=service_context,\n",
    "    use_async=True,\n",
    ")"
   ]
  },
  {
   "cell_type": "code",
   "execution_count": 130,
   "id": "6a6c7362-287a-4d62-859c-44af5c06aedd",
   "metadata": {},
   "outputs": [
    {
     "name": "stdout",
     "output_type": "stream",
     "text": [
      "Generated 2 sub questions.\n",
      "\u001b[1;3;38;2;237;90;200m[tesla_2021_10k] Q: What was the cash flow of Tesla in 2021?\n",
      "\u001b[0m\u001b[1;3;38;2;90;149;237m[tesla_2020_10k] Q: What was the cash flow of Tesla in 2020?\n",
      "\u001b[0m\u001b[1;3;38;2;237;90;200m[tesla_2021_10k] A: The cash flow of Tesla in 2021 was not directly mentioned in the provided context information.\n",
      "\u001b[0m\u001b[1;3;38;2;90;149;237m[tesla_2020_10k] A: The cash flow of Tesla in 2020 was $5.94 billion.\n",
      "\u001b[0mThe cash flow of Tesla in 2020 was $5.94 billion. However, there is no information available about the cash flow of Tesla in 2021.\n"
     ]
    }
   ],
   "source": [
    "response = base_sub_query_engine.query(\n",
    "    \"Can you compare and contrast the cash flow in 2021 with 2020?\"\n",
    ")\n",
    "print(str(response))"
   ]
  },
  {
   "cell_type": "code",
   "execution_count": null,
   "id": "3f245441-9590-4701-ac86-58d6ff08ddd9",
   "metadata": {},
   "outputs": [],
   "source": []
  }
 ],
 "metadata": {
  "kernelspec": {
   "display_name": "llama_index_v2",
   "language": "python",
   "name": "llama_index_v2"
  },
  "language_info": {
   "codemirror_mode": {
    "name": "ipython",
    "version": 3
   },
   "file_extension": ".py",
   "mimetype": "text/x-python",
   "name": "python",
   "nbconvert_exporter": "python",
   "pygments_lexer": "ipython3",
   "version": "3.10.10"
  }
 },
 "nbformat": 4,
 "nbformat_minor": 5
}
