{
 "cells": [
  {
   "cell_type": "markdown",
   "id": "48f59719",
   "metadata": {},
   "source": [
    "# CitationQueryEngine\n",
    "\n",
    "This notebook walks through how to use the CitationQueryEngine\n",
    "\n",
    "The CitationQueryEngine can be used with any existing index."
   ]
  },
  {
   "cell_type": "markdown",
   "id": "69269151",
   "metadata": {},
   "source": [
    "## Setup"
   ]
  },
  {
   "cell_type": "code",
   "execution_count": 1,
   "id": "6b0d7e13",
   "metadata": {},
   "outputs": [
    {
     "name": "stderr",
     "output_type": "stream",
     "text": [
      "/home/loganm/miniconda3/envs/gpt_index/lib/python3.11/site-packages/tqdm/auto.py:21: TqdmWarning: IProgress not found. Please update jupyter and ipywidgets. See https://ipywidgets.readthedocs.io/en/stable/user_install.html\n",
      "  from .autonotebook import tqdm as notebook_tqdm\n"
     ]
    }
   ],
   "source": [
    "import os\n",
    "from langchain.llms import OpenAI\n",
    "from langchain.chat_models import ChatOpenAI\n",
    "from llama_index.query_engine import CitationQueryEngine\n",
    "from llama_index.retrievers import VectorIndexRetriever\n",
    "from llama_index import (\n",
    "    VectorStoreIndex,\n",
    "    ResponseSynthesizer,\n",
    "    SimpleDirectoryReader,\n",
    "    StorageContext,\n",
    "    load_index_from_storage,\n",
    "    LLMPredictor,\n",
    "    ServiceContext,\n",
    ")"
   ]
  },
  {
   "cell_type": "code",
   "execution_count": 11,
   "id": "1a9c49be",
   "metadata": {},
   "outputs": [],
   "source": [
    "service_context = ServiceContext.from_defaults(\n",
    "    llm_predictor=LLMPredictor(llm=ChatOpenAI(model_name='gpt-3.5-turbo', temperature=0))\n",
    ")"
   ]
  },
  {
   "cell_type": "code",
   "execution_count": 12,
   "id": "80b8d666",
   "metadata": {},
   "outputs": [],
   "source": [
    "if not os.path.exists(\"./citation\"):\n",
    "    documents = SimpleDirectoryReader(\"../data/paul_graham\").load_data()\n",
    "    index = VectorStoreIndex.from_documents(documents, service_context=service_context)\n",
    "    index.storage_context.persist(persist_dir=\"./citation\")\n",
    "else:\n",
    "    index = load_index_from_storage(\n",
    "        StorageContext.from_defaults(persist_dir=\"./citation\"), \n",
    "        service_context=service_context\n",
    "    )\n"
   ]
  },
  {
   "cell_type": "markdown",
   "id": "afc2c839",
   "metadata": {},
   "source": [
    "## Create the CitationQueryEngine w/ Default Arguments"
   ]
  },
  {
   "cell_type": "code",
   "execution_count": 24,
   "id": "7bc3d1e9",
   "metadata": {},
   "outputs": [],
   "source": [
    "query_engine = CitationQueryEngine.from_args(\n",
    "    index, \n",
    "    similarity_top_k=3,\n",
    "    # here we can control how granular citation sources are, the default is 512\n",
    "    citation_chunk_size=512 \n",
    ")"
   ]
  },
  {
   "cell_type": "code",
   "execution_count": 25,
   "id": "b80df9c3",
   "metadata": {},
   "outputs": [],
   "source": [
    "response = query_engine.query(\"What did the author do growing up?\")"
   ]
  },
  {
   "cell_type": "code",
   "execution_count": 26,
   "id": "1f13b143",
   "metadata": {},
   "outputs": [
    {
     "name": "stdout",
     "output_type": "stream",
     "text": [
      "Before college, the author worked on writing short stories and programming on an IBM 1401 using an early version of Fortran [11]. Later, the author got a TRS-80 and wrote simple games, a program to predict how high model rockets would fly, and a word processor that their father used to write at least one book [14].\n"
     ]
    }
   ],
   "source": [
    "print(response)"
   ]
  },
  {
   "cell_type": "markdown",
   "id": "f3e61c2c",
   "metadata": {},
   "source": [
    "### Inspecting the Actual Source\n",
    "Sources start counting at 1, but python arrays start counting at zero!\n",
    "\n",
    "Let's confirm the source makes sense."
   ]
  },
  {
   "cell_type": "code",
   "execution_count": 29,
   "id": "e7397ccb",
   "metadata": {},
   "outputs": [
    {
     "name": "stdout",
     "output_type": "stream",
     "text": [
      "Source 11:\n",
      "\t\t\n",
      "\n",
      "What I Worked On\n",
      "\n",
      "February 2021\n",
      "\n",
      "Before college the two main things I worked on, outside of school, were writing and programming. I didn't write essays. I wrote what beginning writers were supposed to write then, and probably still are: short stories. My stories were awful. They had hardly any plot, just characters with strong feelings, which I imagined made them deep.\n",
      "\n",
      "The first programs I tried writing were on the IBM 1401 that our school district used for what was then called \"data processing.\" This was in 9th grade, so I was 13 or 14. The school district's 1401 happened to be in the basement of our junior high school, and my friend Rich Draves and I got permission to use it. It was like a mini Bond villain's lair down there, with all these alien-looking machines — CPU, disk drives, printer, card reader — sitting up on a raised floor under bright fluorescent lights.\n",
      "\n",
      "The language we used was an early version of Fortran. You had to type programs on punch cards, then stack them\n",
      "\n"
     ]
    }
   ],
   "source": [
    "print(response.source_nodes[10].node.get_text())"
   ]
  },
  {
   "cell_type": "code",
   "execution_count": 30,
   "id": "911db74a",
   "metadata": {},
   "outputs": [
    {
     "name": "stdout",
     "output_type": "stream",
     "text": [
      "Source 14:\n",
      "used to write at least one book. There was only room in memory for about 2 pages of text, so he'd write 2 pages at a time and then print them out, but it was a lot better than a typewriter.\n",
      "\n",
      "Though I liked programming, I didn't plan to study it in college. In college I was going to study philosophy, which sounded much more powerful. It seemed, to my naive high school self, to be the study of the ultimate truths, compared to which the things studied in other fields would be mere domain knowledge. What I discovered when I got to college was that the other fields took up so much of the space of ideas that there wasn't much left for these supposed ultimate truths. All that seemed left for philosophy were edge cases that people in other fields felt could safely be ignored.\n",
      "\n",
      "I couldn't have put this into words when I was 18. All I knew at the time was that I kept taking philosophy courses and they kept being boring. So I decided to switch to AI.\n",
      "\n",
      "AI was in the air in the mid 1980s, but there were two\n",
      "\n"
     ]
    }
   ],
   "source": [
    "print(response.source_nodes[13].node.get_text())"
   ]
  },
  {
   "cell_type": "markdown",
   "id": "4ba9767b",
   "metadata": {},
   "source": [
    "## Adjusting Settings"
   ]
  },
  {
   "cell_type": "code",
   "execution_count": 31,
   "id": "ca0b4dc3",
   "metadata": {},
   "outputs": [],
   "source": [
    "query_engine = CitationQueryEngine.from_args(\n",
    "    index, \n",
    "    # increase the citation chunk size!\n",
    "    citation_chunk_size=1024,\n",
    "    similarity_top_k=3\n",
    ")"
   ]
  },
  {
   "cell_type": "code",
   "execution_count": 32,
   "id": "ce1649ba",
   "metadata": {},
   "outputs": [],
   "source": [
    "response = query_engine.query(\"What did the author do growing up?\")"
   ]
  },
  {
   "cell_type": "code",
   "execution_count": 33,
   "id": "3ca375ad",
   "metadata": {},
   "outputs": [
    {
     "name": "stdout",
     "output_type": "stream",
     "text": [
      "Before college, the author worked on writing short stories and programming on an IBM 1401 using an early version of Fortran [11]. They later got a TRS-80 microcomputer and wrote simple games, a program to predict how high model rockets would fly, and a word processor that their father used to write at least one book [14].\n"
     ]
    }
   ],
   "source": [
    "print(response)"
   ]
  },
  {
   "cell_type": "markdown",
   "id": "e776d819",
   "metadata": {},
   "source": [
    "### Inspecting the Actual Source\n",
    "Sources start counting at 1, but python arrays start counting at zero!\n",
    "\n",
    "Let's confirm the source makes sense."
   ]
  },
  {
   "cell_type": "code",
   "execution_count": 34,
   "id": "7af6ec68",
   "metadata": {},
   "outputs": [
    {
     "name": "stdout",
     "output_type": "stream",
     "text": [
      "Source 11:\n",
      "\t\t\n",
      "\n",
      "What I Worked On\n",
      "\n",
      "February 2021\n",
      "\n",
      "Before college the two main things I worked on, outside of school, were writing and programming. I didn't write essays. I wrote what beginning writers were supposed to write then, and probably still are: short stories. My stories were awful. They had hardly any plot, just characters with strong feelings, which I imagined made them deep.\n",
      "\n",
      "The first programs I tried writing were on the IBM 1401 that our school district used for what was then called \"data processing.\" This was in 9th grade, so I was 13 or 14. The school district's 1401 happened to be in the basement of our junior high school, and my friend Rich Draves and I got permission to use it. It was like a mini Bond villain's lair down there, with all these alien-looking machines — CPU, disk drives, printer, card reader — sitting up on a raised floor under bright fluorescent lights.\n",
      "\n",
      "The language we used was an early version of Fortran. You had to type programs on punch cards, then stack them\n",
      "\n"
     ]
    }
   ],
   "source": [
    "print(response.source_nodes[10].node.get_text())"
   ]
  },
  {
   "cell_type": "code",
   "execution_count": 35,
   "id": "37583036",
   "metadata": {},
   "outputs": [
    {
     "name": "stdout",
     "output_type": "stream",
     "text": [
      "Source 14:\n",
      "used to write at least one book. There was only room in memory for about 2 pages of text, so he'd write 2 pages at a time and then print them out, but it was a lot better than a typewriter.\n",
      "\n",
      "Though I liked programming, I didn't plan to study it in college. In college I was going to study philosophy, which sounded much more powerful. It seemed, to my naive high school self, to be the study of the ultimate truths, compared to which the things studied in other fields would be mere domain knowledge. What I discovered when I got to college was that the other fields took up so much of the space of ideas that there wasn't much left for these supposed ultimate truths. All that seemed left for philosophy were edge cases that people in other fields felt could safely be ignored.\n",
      "\n",
      "I couldn't have put this into words when I was 18. All I knew at the time was that I kept taking philosophy courses and they kept being boring. So I decided to switch to AI.\n",
      "\n",
      "AI was in the air in the mid 1980s, but there were two\n",
      "\n"
     ]
    }
   ],
   "source": [
    "print(response.source_nodes[13].node.get_text())"
   ]
  },
  {
   "cell_type": "code",
   "execution_count": null,
   "id": "c05abc5b",
   "metadata": {},
   "outputs": [],
   "source": []
  }
 ],
 "metadata": {
  "kernelspec": {
   "display_name": "gpt_index",
   "language": "python",
   "name": "gpt_index"
  },
  "language_info": {
   "codemirror_mode": {
    "name": "ipython",
    "version": 3
   },
   "file_extension": ".py",
   "mimetype": "text/x-python",
   "name": "python",
   "nbconvert_exporter": "python",
   "pygments_lexer": "ipython3",
   "version": "3.11.0"
  }
 },
 "nbformat": 4,
 "nbformat_minor": 5
}
