{
 "cells": [
  {
   "attachments": {},
   "cell_type": "markdown",
   "id": "2509fcb7-f84e-4c01-b23c-6e0942c2df10",
   "metadata": {
    "tags": []
   },
   "source": [
    "# Chat Engine - ReAct Agent Mode"
   ]
  },
  {
   "attachments": {},
   "cell_type": "markdown",
   "id": "84aca142-a611-4a18-8673-c261edd1631c",
   "metadata": {
    "tags": []
   },
   "source": [
    "ReAct is an agent based chat mode built on top of a query engine over your data."
   ]
  },
  {
   "attachments": {},
   "cell_type": "markdown",
   "id": "9d9dcfd5-ec96-4407-a5b7-ca3fadf22419",
   "metadata": {
    "tags": []
   },
   "source": [
    "For each chat interaction, the agent enter a ReAct loop:\n",
    "* first decide whether to use the query engine tool and come up with appropriate input\n",
    "* (optional) use the query engine tool and observe its output\n",
    "* decide whether to repeat or give final response"
   ]
  },
  {
   "attachments": {},
   "cell_type": "markdown",
   "id": "d765ea5c-e193-4298-96cc-978c87ffcafe",
   "metadata": {},
   "source": [
    "This approach is flexible, since it can flexibility choose between querying the knowledge base or not.\n",
    "However, the performance is also more dependent on the quality of the LLM. \n",
    "You might need to do more coercing to make sure it chooses to query the knowledge base at right times, instead of hallucinating an answer."
   ]
  },
  {
   "attachments": {},
   "cell_type": "markdown",
   "id": "70be3c76-98d4-4df5-9cc6-8ceba34f23fb",
   "metadata": {
    "tags": []
   },
   "source": [
    "### Get started in 5 lines of code"
   ]
  },
  {
   "attachments": {},
   "cell_type": "markdown",
   "id": "8841bc6e-a196-4416-b886-31ea93e33d13",
   "metadata": {
    "tags": []
   },
   "source": [
    "Load data and build index"
   ]
  },
  {
   "cell_type": "code",
   "execution_count": 1,
   "id": "8bf4cb33-46c7-4f45-a43c-b478f68e9b0b",
   "metadata": {
    "tags": []
   },
   "outputs": [],
   "source": [
    "from llama_index import VectorStoreIndex, SimpleDirectoryReader, ServiceContext\n",
    "from llama_index.llms import OpenAI, Anthropic\n",
    "\n",
    "service_context = ServiceContext.from_defaults(llm=OpenAI())\n",
    "data = SimpleDirectoryReader(input_dir=\"../data/paul_graham/\").load_data()\n",
    "index = VectorStoreIndex.from_documents(data, service_context=service_context)"
   ]
  },
  {
   "attachments": {},
   "cell_type": "markdown",
   "id": "0df6a939-9f2c-44cc-ad9d-8203029e8fbd",
   "metadata": {
    "tags": []
   },
   "source": [
    "Configure chat engine"
   ]
  },
  {
   "cell_type": "code",
   "execution_count": 2,
   "id": "05eb7917-998c-4c36-b41a-84d29d3468c9",
   "metadata": {
    "tags": []
   },
   "outputs": [],
   "source": [
    "chat_engine = index.as_chat_engine(chat_mode=\"react\", verbose=True)"
   ]
  },
  {
   "attachments": {},
   "cell_type": "markdown",
   "id": "4bbfb7bb-827d-4968-b3ae-7c9f92224e8c",
   "metadata": {},
   "source": [
    "Chat with your data"
   ]
  },
  {
   "cell_type": "code",
   "execution_count": 3,
   "id": "0a618731-2f1f-4379-8dac-6dc3564961c1",
   "metadata": {
    "tags": []
   },
   "outputs": [
    {
     "name": "stdout",
     "output_type": "stream",
     "text": [
      "\u001b[38;5;200m\u001b[1;3mThought: I need to use a tool to help me answer the question.\n",
      "Action: query_engine_tool\n",
      "Action Input: {'input': 'What did Paul Graham do in the summer of 1995?'}\n",
      "\u001b[0m\u001b[36;1m\u001b[1;3mObservation: \n",
      "In the summer of 1995, Paul Graham worked on building a web application for making web applications. He recruited Dan Giffin, who had worked for Viaweb, and two undergrads who wanted summer jobs, and they got to work trying to build what it's now clear is about twenty companies and several open source projects worth of software. The language for defining applications would of course be a dialect of Lisp.\n",
      "\u001b[0m\u001b[38;5;200m\u001b[1;3mResponse: In the summer of 1995, Paul Graham worked on building a web application for making web applications. He recruited Dan Giffin, who had worked for Viaweb, and two undergrads who wanted summer jobs, and they got to work trying to build what it's now clear is about twenty companies and several open source projects worth of software. The language for defining applications would of course be a dialect of Lisp.\n",
      "\u001b[0m"
     ]
    }
   ],
   "source": [
    "response = chat_engine.chat(\n",
    "    \"Use the tool to answer what did Paul Graham do in the summer of 1995?\"\n",
    ")"
   ]
  },
  {
   "cell_type": "code",
   "execution_count": 4,
   "id": "a7c5c258-397d-47f2-87d3-7c1e62138211",
   "metadata": {
    "tags": []
   },
   "outputs": [
    {
     "name": "stdout",
     "output_type": "stream",
     "text": [
      "In the summer of 1995, Paul Graham worked on building a web application for making web applications. He recruited Dan Giffin, who had worked for Viaweb, and two undergrads who wanted summer jobs, and they got to work trying to build what it's now clear is about twenty companies and several open source projects worth of software. The language for defining applications would of course be a dialect of Lisp.\n"
     ]
    }
   ],
   "source": [
    "print(response)"
   ]
  },
  {
   "attachments": {},
   "cell_type": "markdown",
   "id": "ac91c351-d6ec-4958-9290-ad3078e7abe3",
   "metadata": {
    "tags": []
   },
   "source": [
    "### Customize LLM"
   ]
  },
  {
   "attachments": {},
   "cell_type": "markdown",
   "id": "60b87162-1a18-4390-b9a5-ddec6c1d1e36",
   "metadata": {},
   "source": [
    "Use Anthropic (\"claude-2\")"
   ]
  },
  {
   "cell_type": "code",
   "execution_count": 5,
   "id": "29bb0f40-3173-474f-8f78-a5b82f4e5645",
   "metadata": {
    "tags": []
   },
   "outputs": [],
   "source": [
    "service_context = ServiceContext.from_defaults(llm=Anthropic())"
   ]
  },
  {
   "attachments": {},
   "cell_type": "markdown",
   "id": "aae7f923-cbd5-40af-ba2e-d3c2e3babcbf",
   "metadata": {},
   "source": [
    "Configure chat engine"
   ]
  },
  {
   "cell_type": "code",
   "execution_count": 6,
   "id": "fa0a82b1-76db-4ba1-a6c3-b71d087ba132",
   "metadata": {
    "tags": []
   },
   "outputs": [],
   "source": [
    "chat_engine = index.as_chat_engine(\n",
    "    service_context=service_context, chat_mode=\"react\", verbose=True\n",
    ")"
   ]
  },
  {
   "cell_type": "code",
   "execution_count": 7,
   "id": "cf5d2e49-04f8-4a61-9a30-ebc227d87d41",
   "metadata": {
    "tags": []
   },
   "outputs": [
    {
     "name": "stdout",
     "output_type": "stream",
     "text": [
      "\u001b[38;5;200m\u001b[1;3mThought: I need to use a tool to help me answer the question.\n",
      "Action: query_engine_tool\n",
      "Action Input: {'input': 'what did Paul Graham do in the summer of 1995?'}\n",
      "\u001b[0m\u001b[36;1m\u001b[1;3mObservation:  Based on the context, in the summer of 1995 Paul Graham:\n",
      "\n",
      "- Painted a second still life using the same objects he had used for a previous still life painting.\n",
      "\n",
      "- Looked for an apartment to buy in New York, trying to find a neighborhood similar to Cambridge, MA. \n",
      "\n",
      "- Realized there wasn't really a \"Cambridge of New York\" after visiting the actual Cambridge.\n",
      "\n",
      "The passage does not mention what Paul Graham did in the summer of 1995 specifically. It talks about painting a second still life at some point and looking for an apartment in New York at some point, but it does not connect those events to the summer of 1995.\n",
      "\u001b[0m\u001b[38;5;200m\u001b[1;3mResponse: The passage does not provide enough information to know specifically what Paul Graham did in the summer of 1995. It mentions some activities like painting and looking for an apartment in New York, but does not say these occurred specifically in the summer of 1995.\n",
      "\u001b[0m"
     ]
    }
   ],
   "source": [
    "response = chat_engine.chat(\"what did Paul Graham do in the summer of 1995?\")"
   ]
  },
  {
   "cell_type": "code",
   "execution_count": 8,
   "id": "8c6a387e-afdc-4829-852f-6916499a7352",
   "metadata": {
    "tags": []
   },
   "outputs": [
    {
     "name": "stdout",
     "output_type": "stream",
     "text": [
      "The passage does not provide enough information to know specifically what Paul Graham did in the summer of 1995. It mentions some activities like painting and looking for an apartment in New York, but does not say these occurred specifically in the summer of 1995.\n"
     ]
    }
   ],
   "source": [
    "print(response)"
   ]
  },
  {
   "cell_type": "code",
   "execution_count": 9,
   "id": "48d8f1c6-ad3e-49fa-b365-a7404cc25f96",
   "metadata": {
    "tags": []
   },
   "outputs": [
    {
     "name": "stdout",
     "output_type": "stream",
     "text": [
      "\u001b[38;5;200m\u001b[1;3mResponse:  You asked me \"what did Paul Graham do in the summer of 1995?\".\n",
      "\u001b[0m"
     ]
    }
   ],
   "source": [
    "response = chat_engine.chat(\"What did I ask you before?\")"
   ]
  },
  {
   "cell_type": "code",
   "execution_count": 10,
   "id": "1d5c0588-ed90-4930-92d8-89d8830b120c",
   "metadata": {
    "tags": []
   },
   "outputs": [
    {
     "name": "stdout",
     "output_type": "stream",
     "text": [
      " You asked me \"what did Paul Graham do in the summer of 1995?\".\n"
     ]
    }
   ],
   "source": [
    "print(response)"
   ]
  },
  {
   "attachments": {},
   "cell_type": "markdown",
   "id": "42c4a975-8034-447f-a5fe-1e71e59f02c0",
   "metadata": {},
   "source": [
    "Reset chat engine"
   ]
  },
  {
   "cell_type": "code",
   "execution_count": 11,
   "id": "c1326c7a-8056-47b9-924d-4a836a501312",
   "metadata": {
    "tags": []
   },
   "outputs": [],
   "source": [
    "chat_engine.reset()"
   ]
  },
  {
   "cell_type": "code",
   "execution_count": 12,
   "id": "365074a3-b9b3-4b73-a5a1-230267379175",
   "metadata": {
    "tags": []
   },
   "outputs": [
    {
     "name": "stdout",
     "output_type": "stream",
     "text": [
      "\u001b[38;5;200m\u001b[1;3mResponse: I'm afraid I don't have any context about previous questions in our conversation. This seems to be the start of a new conversation between us.\n",
      "\u001b[0m"
     ]
    }
   ],
   "source": [
    "response = chat_engine.chat(\"What did I ask you before?\")"
   ]
  },
  {
   "cell_type": "code",
   "execution_count": 13,
   "id": "37a387f8-4b90-4a73-9ffc-3960e6dbac5b",
   "metadata": {
    "tags": []
   },
   "outputs": [
    {
     "name": "stdout",
     "output_type": "stream",
     "text": [
      "I'm afraid I don't have any context about previous questions in our conversation. This seems to be the start of a new conversation between us.\n"
     ]
    }
   ],
   "source": [
    "print(response)"
   ]
  }
 ],
 "metadata": {
  "kernelspec": {
   "display_name": "Python 3 (ipykernel)",
   "language": "python",
   "name": "python3"
  },
  "language_info": {
   "codemirror_mode": {
    "name": "ipython",
    "version": 3
   },
   "file_extension": ".py",
   "mimetype": "text/x-python",
   "name": "python",
   "nbconvert_exporter": "python",
   "pygments_lexer": "ipython3",
   "version": "3.9.16"
  }
 },
 "nbformat": 4,
 "nbformat_minor": 5
}
