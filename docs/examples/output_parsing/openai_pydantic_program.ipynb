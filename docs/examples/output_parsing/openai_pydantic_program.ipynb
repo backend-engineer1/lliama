{
 "cells": [
  {
   "cell_type": "markdown",
   "id": "530c973e-916d-4c9e-9365-e2d5306d7e3d",
   "metadata": {
    "tags": []
   },
   "source": [
    "# OpenAI Pydantic Program"
   ]
  },
  {
   "cell_type": "markdown",
   "id": "18461ba1-6978-4b5b-861e-6dceec36857b",
   "metadata": {
    "tags": []
   },
   "source": [
    "Generate structured data with [new OpenAI API](https://openai.com/blog/function-calling-and-other-api-updates) via LlamaIndex.  "
   ]
  },
  {
   "cell_type": "code",
   "execution_count": 1,
   "id": "f7a83b49-5c34-45d5-8cf4-62f348fb1299",
   "metadata": {
    "tags": []
   },
   "outputs": [],
   "source": [
    "from pydantic import BaseModel\n",
    "from typing import List\n",
    "\n",
    "from llama_index.program import OpenAIPydanticProgram"
   ]
  },
  {
   "cell_type": "markdown",
   "id": "0563f1ba-8086-4dcc-ba35-bfda31c45ae4",
   "metadata": {},
   "source": [
    "Define output schema"
   ]
  },
  {
   "cell_type": "code",
   "execution_count": 2,
   "id": "42053ea8-2580-4639-9dcf-566e8427c44e",
   "metadata": {
    "tags": []
   },
   "outputs": [],
   "source": [
    "class Song(BaseModel):\n",
    "    title: str\n",
    "    length_seconds: int\n",
    "    \n",
    "class Album(BaseModel):\n",
    "    name: str\n",
    "    artist: str\n",
    "    songs: List[Song]"
   ]
  },
  {
   "cell_type": "markdown",
   "id": "4afff44e-a746-4b9f-85a9-72058bcdd29f",
   "metadata": {},
   "source": [
    "Define openai pydantic program"
   ]
  },
  {
   "cell_type": "code",
   "execution_count": 3,
   "id": "fe756697-c299-4f9a-a108-944b6693f824",
   "metadata": {
    "tags": []
   },
   "outputs": [],
   "source": [
    "program = OpenAIPydanticProgram.from_defaults(\n",
    "    output_cls=Album, \n",
    "    prompt_template_str=\"Generate an example album, with an artist and a list of songs. Using the movie {movie_name} as inspiration\",\n",
    "    verbose=True,\n",
    ")"
   ]
  },
  {
   "cell_type": "markdown",
   "id": "b7be01dc-433e-4485-bab0-36a04c3afbcb",
   "metadata": {},
   "source": [
    "Run program to get structured output.  "
   ]
  },
  {
   "cell_type": "code",
   "execution_count": 4,
   "id": "25d02228-2907-4810-932e-83ec9fc71f6b",
   "metadata": {
    "tags": []
   },
   "outputs": [
    {
     "name": "stdout",
     "output_type": "stream",
     "text": [
      "Function call: output_pydantic with args: {\n",
      "  \"name\": \"The Shining\",\n",
      "  \"artist\": \"Wendy Carlos\",\n",
      "  \"songs\": [\n",
      "    {\n",
      "      \"title\": \"Main Title\",\n",
      "      \"length_seconds\": 180\n",
      "    },\n",
      "    {\n",
      "      \"title\": \"Rocky Mountains\",\n",
      "      \"length_seconds\": 240\n",
      "    },\n",
      "    {\n",
      "      \"title\": \"Lullaby\",\n",
      "      \"length_seconds\": 150\n",
      "    },\n",
      "    {\n",
      "      \"title\": \"Music for Strings, Percussion and Celesta\",\n",
      "      \"length_seconds\": 300\n",
      "    },\n",
      "    {\n",
      "      \"title\": \"Midnight\",\n",
      "      \"length_seconds\": 210\n",
      "    }\n",
      "  ]\n",
      "}\n"
     ]
    }
   ],
   "source": [
    "output = program(movie_name='The Shining')"
   ]
  },
  {
   "cell_type": "markdown",
   "id": "27ec0777-28d5-494b-b419-daf6bce2b20e",
   "metadata": {
    "tags": []
   },
   "source": [
    "The output is a valid Pydantic object that we can then use to call functions/APIs. "
   ]
  },
  {
   "cell_type": "code",
   "execution_count": 5,
   "id": "3e51bcf4-e7df-47b9-b380-8e5b900a31e1",
   "metadata": {
    "tags": []
   },
   "outputs": [
    {
     "data": {
      "text/plain": [
       "Album(name='The Shining', artist='Wendy Carlos', songs=[Song(title='Main Title', length_seconds=180), Song(title='Rocky Mountains', length_seconds=240), Song(title='Lullaby', length_seconds=150), Song(title='Music for Strings, Percussion and Celesta', length_seconds=300), Song(title='Midnight', length_seconds=210)])"
      ]
     },
     "execution_count": 5,
     "metadata": {},
     "output_type": "execute_result"
    }
   ],
   "source": [
    "output"
   ]
  }
 ],
 "metadata": {
  "kernelspec": {
   "display_name": "Python 3 (ipykernel)",
   "language": "python",
   "name": "python3"
  },
  "language_info": {
   "codemirror_mode": {
    "name": "ipython",
    "version": 3
   },
   "file_extension": ".py",
   "mimetype": "text/x-python",
   "name": "python",
   "nbconvert_exporter": "python",
   "pygments_lexer": "ipython3",
   "version": "3.9.16"
  }
 },
 "nbformat": 4,
 "nbformat_minor": 5
}
