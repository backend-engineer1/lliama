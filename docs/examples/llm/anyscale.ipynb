{
 "cells": [
  {
   "cell_type": "markdown",
   "id": "3a07f0af-6f8b-4a4e-a984-5f0f161dd0c3",
   "metadata": {},
   "source": [
    "# Anyscale"
   ]
  },
  {
   "cell_type": "code",
   "execution_count": 4,
   "id": "02bfb427-2607-4322-bdaa-f012a87a0112",
   "metadata": {
    "tags": []
   },
   "outputs": [],
   "source": [
    "from llama_index.llms import Anyscale\n",
    "from llama_index.llms.base import ChatMessage"
   ]
  },
  {
   "cell_type": "markdown",
   "id": "3907f07b-a33a-46db-b799-fec83843ff60",
   "metadata": {},
   "source": [
    "## Call `chat` with ChatMessage List\n",
    "- You need to either set env var ANYSCALE_API_KEY or set api_key in the "
   ]
  },
  {
   "cell_type": "code",
   "execution_count": 2,
   "id": "b0bec6d7-d5cc-4c23-aa95-a915e65220cc",
   "metadata": {
    "tags": []
   },
   "outputs": [],
   "source": [
    "llm = Anyscale()"
   ]
  },
  {
   "cell_type": "code",
   "execution_count": 6,
   "id": "1135fe2a-b4ff-4352-a825-bdc3aca17b60",
   "metadata": {
    "tags": []
   },
   "outputs": [],
   "source": [
    "message = ChatMessage(role=\"user\", content=\"tell me a joke\")\n",
    "resp = llm.chat([message])"
   ]
  },
  {
   "cell_type": "code",
   "execution_count": 7,
   "id": "ac56fd1b-aca1-4a63-b468-30302c04894a",
   "metadata": {
    "tags": []
   },
   "outputs": [
    {
     "name": "stdout",
     "output_type": "stream",
     "text": [
      "assistant: Sure, here's a joke for you:\n",
      "\n",
      "Why couldn't the bicycle stand up by itself?\n",
      "\n",
      "Because it was two-tired!\n",
      "\n",
      "I hope that brought a smile to your face! Is there anything else I can assist you with?\n"
     ]
    }
   ],
   "source": [
    "print(resp)"
   ]
  },
  {
   "cell_type": "markdown",
   "id": "ac92c80f-5b82-4143-a6f9-549d6f5dfa70",
   "metadata": {},
   "source": [
    "## Call `complete` with Prompt"
   ]
  },
  {
   "cell_type": "code",
   "execution_count": 8,
   "id": "1290c9b1-3c37-4db0-aa94-dda1c90d4f8b",
   "metadata": {
    "tags": []
   },
   "outputs": [
    {
     "name": "stdout",
     "output_type": "stream",
     "text": [
      "Sure, here's a fact about the sun:\n",
      "\n",
      "The sun is the largest object in our solar system, with a diameter of approximately 1.4 million kilometers (870,000 miles). It is so massive that it makes up about 99.8% of the mass of our solar system! The sun is primarily composed of hydrogen and helium, and it generates its immense energy through nuclear reactions that occur in its core. These reactions release a tremendous amount of energy in the form of light and heat, which is why the sun is so hot - its surface temperature is about 5,500 degrees Celsius (10,000 degrees Fahrenheit).\n"
     ]
    }
   ],
   "source": [
    "resp = llm.complete(\"Tell me a fact about the sun\")\n",
    "print(resp)"
   ]
  },
  {
   "cell_type": "markdown",
   "id": "dc3a2018-89f1-4795-9b68-c06b8f104a69",
   "metadata": {},
   "source": [
    "## Model Configuration"
   ]
  },
  {
   "cell_type": "code",
   "execution_count": 9,
   "id": "88c2680d-5e21-4eba-a685-a30d64554b14",
   "metadata": {
    "tags": []
   },
   "outputs": [],
   "source": [
    "llm = Anyscale(model=\"codellama/CodeLlama-34b-Instruct-hf\")"
   ]
  },
  {
   "cell_type": "code",
   "execution_count": 10,
   "id": "24ebd16b-1740-4f31-800d-9c9c8fcc0d96",
   "metadata": {
    "tags": []
   },
   "outputs": [
    {
     "name": "stdout",
     "output_type": "stream",
     "text": [
      "To send requests to an HTTP server in C++, you can use the `curl` library. Here's an example of how to send a GET request to an HTTP server using `curl`:\n",
      "```\n",
      "#include <curl/curl.h>\n",
      "\n",
      "int main() {\n",
      "    CURL *curl;\n",
      "    CURLcode res;\n",
      "    char url[] = \"http://example.com\";\n",
      "\n",
      "    curl = curl_easy_init();\n",
      "    if (curl) {\n",
      "        curl_easy_setopt(curl, CURLOPT_URL, url);\n",
      "        curl_easy_setopt(curl, CURLOPT_FOLLOWLOCATION, 1L);\n",
      "\n",
      "        res = curl_easy_perform(curl);\n",
      "\n",
      "        if (res != CURLE_OK) {\n",
      "            fprintf(stderr, \"curl_easy_perform() failed: %s\\n\", curl_easy_strerror(res));\n",
      "        }\n",
      "\n",
      "        curl_easy_cleanup(curl);\n",
      "    }\n",
      "\n",
      "    return 0;\n",
      "}\n",
      "```\n",
      "This code initializes the `curl` library, sets the URL to send the request to, and sets the `CURLOPT_FOLLOWLOCATION` option to follow any redirects. It then performs the request using `curl_easy_perform()` and checks the result. If the result is not `CURLE_OK`, it prints an error message to `stderr`. Finally, it cleans up the `curl` handle using `curl_easy_cleanup()`.\n",
      "\n",
      "You can also use the `curl_easy_setopt()` function to set other options for the request, such as the request method (e.g. `CURLOPT_POST`), the request body (e.g. `CURLOPT_POSTFIELDS`), and the request headers (e.g. `CURLOPT_HTTPHEADER`).\n",
      "\n",
      "Note that this is just a simple example, and there are many other options and features available in the `curl` library that you can use to customize your requests. For more information, you can refer to the `curl` documentation.\n"
     ]
    }
   ],
   "source": [
    "resp = llm.complete(\"Show me the c++ code to send requests to HTTP Server\")\n",
    "print(resp)"
   ]
  },
  {
   "cell_type": "code",
   "execution_count": null,
   "id": "253bb53a-7c45-4d64-94b1-e6990ae0c7ec",
   "metadata": {},
   "outputs": [],
   "source": []
  }
 ],
 "metadata": {
  "kernelspec": {
   "display_name": "Python 3 (ipykernel)",
   "language": "python",
   "name": "python3"
  },
  "language_info": {
   "codemirror_mode": {
    "name": "ipython",
    "version": 3
   },
   "file_extension": ".py",
   "mimetype": "text/x-python",
   "name": "python",
   "nbconvert_exporter": "python",
   "pygments_lexer": "ipython3",
   "version": "3.10.8"
  }
 },
 "nbformat": 4,
 "nbformat_minor": 5
}
