{
 "cells": [
  {
   "cell_type": "markdown",
   "metadata": {
    "id": "bDIbNupZt066"
   },
   "source": [
    "# Portkey | Building Resilient Llamaindex Apps\n",
    "\n",
    "**Portkey** is a full-stack LLMOps platform that productionizes your Gen AI app reliably and securely."
   ]
  },
  {
   "cell_type": "markdown",
   "metadata": {
    "id": "67b-KIp4uRFO"
   },
   "source": [
    "### Key Features of Portkey's Integration with Llamaindex:\n",
    "\n",
    "1. **AI Gateway**:\n",
    "    - **Automated Fallbacks & Retries**: Ensure your application remains functional even if a primary service fails.\n",
    "    - **Load Balancing**: Efficiently distribute incoming requests among multiple models.\n",
    "    - **Semantic Caching**: Reduce costs and latency by intelligently caching results.\n",
    "    \n",
    "2. **Observability**:\n",
    "    - **Logging**: Keep track of all requests for monitoring and debugging.\n",
    "    - **Requests Tracing**: Understand the journey of each request for optimization.\n",
    "    - **Custom Tags**: Segment and categorize requests for better insights.\n",
    "\n",
    "To harness these features, let's start with the setup:\n"
   ]
  },
  {
   "cell_type": "markdown",
   "metadata": {
    "id": "4Q8L0IDau60f"
   },
   "source": [
    "#### **Step 1: Get your Portkey API key**\n",
    "\n",
    "Log into [Portkey here](https://app.portkey.ai/), then click on the profile icon on top right and \"Copy API Key\". Let's also set OpenAI & Anthropic API keys."
   ]
  },
  {
   "cell_type": "markdown",
   "metadata": {
    "id": "Grlj72viug5E"
   },
   "source": [
    "You do not need to install **any** other SDKs or import them in your Llamaindex app.\n",
    "\n",
    "Here's a step-by-step guide to Portkey features and their integration with Llamaindex:"
   ]
  },
  {
   "cell_type": "code",
   "execution_count": null,
   "metadata": {
    "id": "Vd7elJZHu_jF"
   },
   "outputs": [],
   "source": [
    "# !pip install portkey-ai -U\n",
    "\n",
    "# Set the portkey api key as environment variable.\n",
    "import os\n",
    "\n",
    "os.environ[\"PORTKEY_API_KEY\"] = \"PORTKEY_API_KEY\"\n",
    "os.environ[\"OPENAI_API_KEY\"] = \"\"\n",
    "os.environ[\"ANTHROPIC_API_KEY\"] = \"\""
   ]
  },
  {
   "cell_type": "code",
   "execution_count": null,
   "metadata": {
    "id": "5Z933R9wuZ4z"
   },
   "outputs": [],
   "source": [
    "# Installing the Portkey's AI gateway SDK developed by the Portkey team\n",
    "# Importing necessary libraries and modules\n",
    "from llama_index.llms import Portkey, ChatMessage\n",
    "import portkey as pk"
   ]
  },
  {
   "cell_type": "markdown",
   "metadata": {
    "id": "ICsp-JDdvLVz"
   },
   "source": [
    "#### **Step 2: Configure Portkey Features**\n",
    "\n",
    "To harness the full potential of Portkey's integration with Llamaindex, you can configure various features as illustrated above. Here's a guide to all Portkey features and the expected values:\n",
    "\n",
    "| Feature             | Config Key              | Value(Type)                                      | Required    |\n",
    "|---------------------|-------------------------|--------------------------------------------------|-------------|\n",
    "| API Key             | `api_key`               | `string`                                         | ✅ Required (can be set externally) |\n",
    "| Mode                | `mode`                  | `fallback`, `loadbalance`, `single`              | ✅ Required |\n",
    "| Cache Type          | `cache_status`          | `simple`, `semantic`                             | ❔ Optional |\n",
    "| Force Cache Refresh | `cache_force_refresh`   | `True`, `False`                                  | ❔ Optional |\n",
    "| Cache Age           | `cache_age`             | `integer` (in seconds)                           | ❔ Optional |\n",
    "| Trace ID            | `trace_id`              | `string`                                         | ❔ Optional |\n",
    "| Retries         | `retry`           | `integer` [0,5]                                  | ❔ Optional |\n",
    "| Metadata            | `metadata`              | `json object` [More info](https://docs.portkey.ai/key-features/custom-metadata)          | ❔ Optional |\n",
    "| Base URL | `base_url` | `url` | ❔ Optional |\n",
    "\n",
    "Here's an example of how to set up some of these features:"
   ]
  },
  {
   "cell_type": "code",
   "execution_count": null,
   "metadata": {
    "id": "3GfyFAjYvlgg"
   },
   "outputs": [],
   "source": [
    "portkey_client = Portkey(\n",
    "    mode=\"single\",\n",
    ")\n",
    "\n",
    "# Since we have defined the Portkey API Key with os.environ, we do not need to set api_key again here"
   ]
  },
  {
   "cell_type": "markdown",
   "metadata": {
    "id": "0FuFyuR0vs5t"
   },
   "source": [
    "#### **Step 3: Constructing the LLM**\n",
    "\n",
    "With the Portkey integration, constructing an LLM is simplified. Use the `LLMOptions` function for all providers, with the exact same keys you're accustomed to in your OpenAI or Anthropic constructors. The only new key is `weight`, essential for the load balancing feature."
   ]
  },
  {
   "cell_type": "code",
   "execution_count": null,
   "metadata": {
    "id": "4D5p-B7hv_Xm"
   },
   "outputs": [],
   "source": [
    "openai_llm = pk.LLMOptions(\n",
    "    provider=\"openai\", model=\"gpt-4\", virtual_key=\"open-ai-key-66ah788\"\n",
    ")"
   ]
  },
  {
   "cell_type": "markdown",
   "metadata": {
    "id": "7foKVwDdwBgG"
   },
   "source": [
    "The above code illustrates how to utilize the `LLMOptions` function to set up an LLM with the OpenAI provider and the GPT-4 model. This same function can be used for other providers as well, making the integration process streamlined and consistent across various providers."
   ]
  },
  {
   "cell_type": "markdown",
   "metadata": {
    "id": "vTZZO6viwH2E"
   },
   "source": [
    "#### **Step 4: Activate the Portkey LLM**\n",
    "\n",
    "Once you've constructed the LLM using the `LLMOptions` function, the next step is to activate it with Portkey. This step is essential to ensure that all the Portkey features are available for your LLM."
   ]
  },
  {
   "cell_type": "code",
   "execution_count": null,
   "metadata": {
    "id": "jwsNoWVWwNSX"
   },
   "outputs": [],
   "source": [
    "portkey_client.add_llms(openai_llm)"
   ]
  },
  {
   "cell_type": "markdown",
   "metadata": {
    "id": "VkjNObFywd3S"
   },
   "source": [
    "And, that's it! In just 4 steps, you have infused your Llamaindex app with sophisticated production capabilities."
   ]
  },
  {
   "cell_type": "markdown",
   "metadata": {
    "id": "0ZztEhMKwNry"
   },
   "source": [
    "#### **Testing the Integration**\n",
    "\n",
    "Let's ensure that everything is set up correctly. Below, we create a simple chat scenario and pass it through our Portkey-enhanced LLM to see the response."
   ]
  },
  {
   "cell_type": "code",
   "execution_count": null,
   "metadata": {
    "id": "pYpwURe5wakB"
   },
   "outputs": [],
   "source": [
    "messages = [\n",
    "    ChatMessage(role=\"system\", content=\"You are a helpful assistant\"),\n",
    "    ChatMessage(role=\"user\", content=\"What can you do?\"),\n",
    "]\n",
    "print(\"Testing Portkey Llamaindex integration:\")\n",
    "response = portkey_client.chat(messages)\n",
    "print(response)"
   ]
  },
  {
   "cell_type": "markdown",
   "metadata": {
    "id": "YnQIen4Hwn52"
   },
   "source": [
    "#### **Recap and References**\n",
    "\n",
    "Congratulations! You've successfully set up and tested the Portkey integration with Llamaindex. To recap:\n",
    "\n",
    "1. pip install portkey-ai\n",
    "2. Import Portkey from llama_index.llms.\n",
    "3. Grab your Portkey API Key from [here](https://app.portkey.ai/).\n",
    "4. Construct your Portkey client with `portkey_client=Portkey(mode=\"fallback\")` and any other Portkey modes you want\n",
    "5. Construct your provider LLM with `opneai_llm=PortkeyBase(provider=\"openai\",model=\"gpt-4\")`\n",
    "6. Add the provider LLM to Portkey LLM with `portkey_client.add_llms(openai_llm)`\n",
    "7. Call the Portkey methods regularly like you would any other LLM, with `portkey_client.chat(messages)`\n",
    "\n",
    "Here's the guide to all the functions and their params:\n",
    "- [Portkey LLM Constructor](#step-2-add-all-the-portkey-features-you-want-as-illustrated-below-by-calling-the-portkey-class)\n",
    "- [LLMOptions Constructor](https://github.com/Portkey-AI/rubeus-python-sdk/blob/4cf3e17b847225123e92f8e8467b41d082186d60/rubeus/api_resources/utils.py#L179)\n",
    "- [List of Portkey + Llamaindex Features](#portkeys-integration-with-llamaindex-adds-the-following-production-capabilities-to-your-apps-out-of-the-box)\n"
   ]
  },
  {
   "cell_type": "markdown",
   "metadata": {
    "id": "1oPzt_a7w_Um"
   },
   "source": [
    "#### **Implementing Fallbacks and Retries with Portkey**\n",
    "\n",
    "Fallbacks and retries are essential for building resilient AI applications. With Portkey, implementing these features is straightforward:\n",
    "\n",
    "- **Fallbacks**: If a primary service or model fails, Portkey will automatically switch to a backup model.\n",
    "- **Retries**: If a request fails, Portkey can be configured to retry the request multiple times.\n",
    "\n",
    "Below, we demonstrate how to set up fallbacks and retries using Portkey:"
   ]
  },
  {
   "cell_type": "code",
   "execution_count": null,
   "metadata": {
    "id": "5V8xY7EtxGoG"
   },
   "outputs": [],
   "source": [
    "portkey_client = Portkey(mode=\"fallback\")\n",
    "messages = [\n",
    "    ChatMessage(role=\"system\", content=\"You are a helpful assistant\"),\n",
    "    ChatMessage(role=\"user\", content=\"What can you do?\"),\n",
    "]\n",
    "\n",
    "llm1 = pk.LLMOptions(\n",
    "    provider=\"openai\",\n",
    "    model=\"gpt-4\",\n",
    "    retry_settings={\"on_status_codes\": [429, 500], \"attempts\": 2},\n",
    "    virtual_key=\"open-ai-key-66ah788\",\n",
    ")\n",
    "llm2 = pk.LLMOptions(\n",
    "    provider=\"openai\", model=\"gpt-3.5-turbo\", virtual_key=\"open-ai-key-66ah788\"\n",
    ")\n",
    "\n",
    "portkey_client.add_llms(llm_params=[llm1])\n",
    "\n",
    "print(\"Testing Fallback & Retry functionality:\")\n",
    "response = portkey_client.chat(messages)\n",
    "print(response)"
   ]
  },
  {
   "cell_type": "markdown",
   "metadata": {
    "id": "lv1UOqeFxKMD"
   },
   "source": [
    "#### **Implementing Load Balancing with Portkey**\n",
    "\n",
    "Load balancing ensures that incoming requests are efficiently distributed among multiple models. This not only enhances the performance but also provides redundancy in case one model fails.\n",
    "\n",
    "With Portkey, implementing load balancing is simple. You need to:\n",
    "\n",
    "- Define the `weight` parameter for each LLM. This weight determines how requests are distributed among the LLMs.\n",
    "- Ensure that the sum of weights for all LLMs equals 1.\n",
    "\n",
    "Here's an example of setting up load balancing with Portkey:\n"
   ]
  },
  {
   "cell_type": "code",
   "execution_count": null,
   "metadata": {
    "id": "LIKHztyuxM8i"
   },
   "outputs": [],
   "source": [
    "portkey_client = Portkey(mode=\"ab_test\")\n",
    "messages = [\n",
    "    ChatMessage(role=\"system\", content=\"You are a helpful assistant\"),\n",
    "    ChatMessage(role=\"user\", content=\"What can you do?\"),\n",
    "]\n",
    "\n",
    "llm1 = pk.LLMOptions(\n",
    "    provider=\"openai\", virtual_key=\"open-ai-key-66ah788\", model=\"gpt-4\", weight=0.2\n",
    ")\n",
    "llm2 = pk.LLMOptions(\n",
    "    provider=\"openai\",\n",
    "    virtual_key=\"open-ai-key-66ah788\",\n",
    "    model=\"gpt-3.5-turbo\",\n",
    "    weight=0.8,\n",
    ")\n",
    "\n",
    "portkey_client.add_llms(llm_params=[llm1, llm2])\n",
    "\n",
    "print(\"Testing Loadbalance functionality:\")\n",
    "response = portkey_client.chat(messages)\n",
    "print(response)"
   ]
  },
  {
   "cell_type": "markdown",
   "metadata": {
    "id": "T0gVEWfVxNX1"
   },
   "source": [
    "#### **Implementing Semantic Caching with Portkey**\n",
    "\n",
    "Semantic caching is a smart caching mechanism that understands the context of a request. Instead of caching based solely on exact input matches, semantic caching identifies similar requests and serves cached results, reducing redundant requests and improving response times as well as saving money.\n",
    "\n",
    "Let's see how to implement semantic caching with Portkey:"
   ]
  },
  {
   "cell_type": "code",
   "execution_count": null,
   "metadata": {
    "id": "NrNTROGAy-M-"
   },
   "outputs": [],
   "source": [
    "import time\n",
    "\n",
    "portkey_client = Portkey(mode=\"single\")\n",
    "\n",
    "openai_llm = pk.LLMOptions(\n",
    "    provider=\"openai\",\n",
    "    virtual_key=\"open-ai-key-66ah788\",\n",
    "    model=\"gpt-3.5-turbo\",\n",
    "    cache_status=\"semantic\",\n",
    ")\n",
    "portkey_client.add_llms(openai_llm)\n",
    "\n",
    "current_messages = [\n",
    "    ChatMessage(role=\"system\", content=\"You are a helpful assistant\"),\n",
    "    ChatMessage(role=\"user\", content=\"What are the ingredients of a pizza?\"),\n",
    "]\n",
    "\n",
    "print(\"Testing Portkey Semantic Cache:\")\n",
    "\n",
    "start = time.time()\n",
    "response = portkey_client.chat(current_messages)\n",
    "end = time.time() - start\n",
    "\n",
    "print(response)\n",
    "print(\"\\n--------------------------------------\\n\")\n",
    "print(f\"Served in {end} seconds.\")\n",
    "\n",
    "new_messages = [\n",
    "    ChatMessage(role=\"system\", content=\"You are a helpful assistant\"),\n",
    "    ChatMessage(role=\"user\", content=\"Ingredients of pizza\"),\n",
    "]\n",
    "\n",
    "print(\"\\n--------------------------------------\\n\")\n",
    "\n",
    "print(\"Testing Portkey Semantic Cache:\")\n",
    "\n",
    "start = time.time()\n",
    "response = portkey_client.chat(new_messages)\n",
    "end = time.time() - start\n",
    "\n",
    "print(response)\n",
    "print(\"\\n--------------------------------------\\n\")\n",
    "print(f\"Served in {end} seconds.\")\n",
    "print(\"\\n--------------------------------------\\n\")"
   ]
  },
  {
   "cell_type": "markdown",
   "metadata": {
    "id": "cJga03BHxcbo"
   },
   "source": [
    "Portkey's cache supports two more cache-critical functions - Force Refresh and Age.\n",
    "\n",
    "`cache_force_refresh`: Force-send a request to your provider instead of serving it from a cache.\n",
    "`cache_age`: Decide the interval at which the cache store for this particular string should get automatically refreshed. The cache age is set in seconds.\n",
    "\n",
    "Here's how you can use it:"
   ]
  },
  {
   "cell_type": "code",
   "execution_count": null,
   "metadata": {
    "id": "7osibv1exhrY"
   },
   "outputs": [],
   "source": [
    "# Setting the cache status as `semantic` and cache_age as 60s.\n",
    "openai_llm = pk.LLMOptions(\n",
    "    provider=\"openai\",\n",
    "    virtual_key=\"open-ai-key-66ah788\",\n",
    "    model=\"gpt-3.5-turbo\",\n",
    "    cache_force_refresh=True,\n",
    "    cache_age=50,\n",
    ")"
   ]
  },
  {
   "cell_type": "markdown",
   "metadata": {
    "id": "ujPsSDaJxjy1"
   },
   "source": [
    "#### **Observability with Portkey**\n",
    "\n",
    "Having insight into your application's behavior is paramount. Portkey's observability features allow you to monitor, debug, and optimize your AI applications with ease. You can track each request, understand its journey, and segment them based on custom tags. This level of detail can help in identifying bottlenecks, optimizing costs, and enhancing the overall user experience.\n",
    "\n",
    "Here's how to set up observability with Portkey:"
   ]
  },
  {
   "cell_type": "code",
   "execution_count": null,
   "metadata": {
    "id": "tevL0x-uxwyq"
   },
   "outputs": [],
   "source": [
    "metadata = {\n",
    "    \"_environment\": \"production\",\n",
    "    \"_prompt\": \"test\",\n",
    "    \"_user\": \"user\",\n",
    "    \"_organisation\": \"acme\",\n",
    "}\n",
    "\n",
    "portkey_client = Portkey(mode=\"single\")\n",
    "portkey_client.add_llms(openai_llm)\n",
    "\n",
    "print(\"Testing Observability functionality:\")\n",
    "response = portkey_client.chat(messages)\n",
    "print(response)"
   ]
  },
  {
   "cell_type": "markdown",
   "metadata": {
    "id": "KeOQL-9uxxQz"
   },
   "source": [
    "#### **AI Gateway with Portkey**\n",
    "\n",
    "Portkey is an open-source AI gateway that powers features like load balancing and fallbacks. It acts as an intermediary, ensuring that your requests are processed optimally. One of the advantages of using Portkey is its flexibility. You can easily customize its behavior, redirect requests to different providers, or even bypass logging to Portkey.\n",
    "\n",
    "Here's an example of customizing the behavior with Portkey:\n",
    "\n",
    "```py\n",
    "portkey_client.base_url=None\n",
    "```"
   ]
  },
  {
   "cell_type": "markdown",
   "metadata": {
    "id": "gIqlVGz2x9A0"
   },
   "source": [
    "#### **Feedback with Portkey**\n",
    "\n",
    "Continuous improvement is a cornerstone of AI. To ensure your models and applications evolve and serve users better, feedback is vital. Portkey's Feedback API offers a straightforward way to gather weighted feedback from users, allowing you to refine and improve over time.\n",
    "\n",
    "Here's how to utilize the Feedback API with Portkey:\n",
    "\n",
    "Read more about [Feedback here](https://docs.portkey.ai/key-features/feedback-api)."
   ]
  },
  {
   "cell_type": "code",
   "execution_count": null,
   "metadata": {
    "id": "8TWbS74dylVK"
   },
   "outputs": [],
   "source": [
    "import requests\n",
    "import json\n",
    "\n",
    "# Endpoint URL\n",
    "url = \"https://api.portkey.ai/v1/feedback\"\n",
    "\n",
    "# Headers\n",
    "headers = {\n",
    "    \"x-portkey-api-key\": \"<YOUR PORTKEY API KEY>\",\n",
    "    \"Content-Type\": \"application/json\",\n",
    "}\n",
    "\n",
    "# Data\n",
    "data = {\"trace_id\": \"REQUEST_TRACE_ID\", \"value\": 1}\n",
    "\n",
    "# Making the request\n",
    "response = requests.post(url, headers=headers, data=json.dumps(data))\n",
    "\n",
    "# Print the response\n",
    "print(response.text)"
   ]
  },
  {
   "cell_type": "markdown",
   "metadata": {
    "id": "lHnOP8iSyLJy"
   },
   "source": [
    "#### **Conclusion**\n",
    "\n",
    "Integrating Portkey with Llamaindex simplifies the process of building robust and resilient AI applications. With features like semantic caching, observability, load balancing, feedback, and fallbacks, you can ensure optimal performance and continuous improvement.\n",
    "\n",
    "By following this guide, you've set up and tested the Portkey integration with Llamaindex. As you continue to build and deploy AI applications, remember to leverage the full potential of this integration!\n",
    "\n",
    "For further assistance or questions, reach out to the developers [on Twitter](https://twitter.com/portkeyai).\n",
    "\n",
    "Join our community of practitioners putting LLMs into production [on Discord](https://discord.gg/tmnpp4pqzv).\n"
   ]
  }
 ],
 "metadata": {
  "colab": {
   "provenance": []
  },
  "kernelspec": {
   "display_name": "Python 3",
   "name": "python3"
  },
  "language_info": {
   "codemirror_mode": {
    "name": "ipython",
    "version": 3
   },
   "file_extension": ".py",
   "mimetype": "text/x-python",
   "name": "python",
   "nbconvert_exporter": "python",
   "pygments_lexer": "ipython3",
   "version": "3.11.5"
  }
 },
 "nbformat": 4,
 "nbformat_minor": 0
}
