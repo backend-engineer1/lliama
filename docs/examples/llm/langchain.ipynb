{
 "cells": [
  {
   "cell_type": "markdown",
   "id": "343d5ee5-c78d-493d-9df9-2d170dbd71d9",
   "metadata": {
    "tags": []
   },
   "source": [
    "## LangChain LLM"
   ]
  },
  {
   "cell_type": "code",
   "execution_count": 3,
   "id": "703e0586-723b-4a32-81c3-96c1054a998d",
   "metadata": {
    "tags": []
   },
   "outputs": [],
   "source": [
    "from langchain.llms import OpenAI"
   ]
  },
  {
   "cell_type": "code",
   "execution_count": 4,
   "id": "911bb011-40b3-44d7-9d99-6a0e8a193753",
   "metadata": {
    "tags": []
   },
   "outputs": [],
   "source": [
    "from llama_index.llms import LangChainLLM"
   ]
  },
  {
   "cell_type": "code",
   "execution_count": 12,
   "id": "1470203e-80fd-4013-af89-b2b5ad80a14d",
   "metadata": {
    "tags": []
   },
   "outputs": [],
   "source": [
    "llm = LangChainLLM(llm=OpenAI())"
   ]
  },
  {
   "cell_type": "code",
   "execution_count": 10,
   "id": "59ae3b49-4f62-4248-b2d8-4ec3ab04f7e4",
   "metadata": {
    "tags": []
   },
   "outputs": [],
   "source": [
    "response_gen = llm.stream_complete(\"Hi this is\")"
   ]
  },
  {
   "cell_type": "code",
   "execution_count": 11,
   "id": "8cb35c1e-a04b-4526-ad8c-ddf6e37e9fd2",
   "metadata": {
    "tags": []
   },
   "outputs": [
    {
     "name": "stdout",
     "output_type": "stream",
     "text": [
      " a test\n",
      "\n",
      "Hello! Welcome to the test. What would you like to learn about?"
     ]
    }
   ],
   "source": [
    "for delta in response_gen:\n",
    "    print(delta.delta, end=\"\")"
   ]
  },
  {
   "cell_type": "code",
   "execution_count": null,
   "id": "435d2a0a-1cf2-4b09-b578-07f053346622",
   "metadata": {},
   "outputs": [],
   "source": []
  }
 ],
 "metadata": {
  "kernelspec": {
   "display_name": "Python 3 (ipykernel)",
   "language": "python",
   "name": "python3"
  },
  "language_info": {
   "codemirror_mode": {
    "name": "ipython",
    "version": 3
   },
   "file_extension": ".py",
   "mimetype": "text/x-python",
   "name": "python",
   "nbconvert_exporter": "python",
   "pygments_lexer": "ipython3",
   "version": "3.9.16"
  }
 },
 "nbformat": 4,
 "nbformat_minor": 5
}
