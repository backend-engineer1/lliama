{
 "cells": [
  {
   "cell_type": "markdown",
   "id": "3a07f0af-6f8b-4a4e-a984-5f0f161dd0c3",
   "metadata": {},
   "source": [
    "# Konko"
   ]
  },
  {
   "cell_type": "code",
   "execution_count": null,
   "id": "02bfb427-2607-4322-bdaa-f012a87a0112",
   "metadata": {},
   "outputs": [],
   "source": [
    "from llama_index.llms import Konko\n",
    "from llama_index.llms.base import ChatMessage"
   ]
  },
  {
   "cell_type": "markdown",
   "id": "3907f07b-a33a-46db-b799-fec83843ff60",
   "metadata": {},
   "source": [
    "## Call `chat` with ChatMessage List\n",
    "You need to either set env var `KONKO_API_KEY` or set konko_api_key in the class constructor"
   ]
  },
  {
   "cell_type": "code",
   "execution_count": null,
   "id": "b0bec6d7-d5cc-4c23-aa95-a915e65220cc",
   "metadata": {},
   "outputs": [],
   "source": [
    "# import os\n",
    "# os.environ['KONKO_API_KEY'] = '<your-api-key>'\n",
    "\n",
    "llm = Konko(konko_api_key=\"<your-api-key>\")"
   ]
  },
  {
   "cell_type": "code",
   "execution_count": null,
   "id": "1135fe2a-b4ff-4352-a825-bdc3aca17b60",
   "metadata": {},
   "outputs": [
    {
     "name": "stdout",
     "output_type": "stream",
     "text": [
      "assistant:  Sure, here's one:\n",
      "\n",
      "Why couldn't the bicycle stand up by itself?\n",
      "\n",
      "Because it was two-tired!\n",
      "\n",
      "Get it? Two-tired... like a bike with two tires, but also tired because it can't stand up! Haha, I hope that made you smile!\n"
     ]
    }
   ],
   "source": [
    "message = ChatMessage(role=\"user\", content=\"Tell me a joke\")\n",
    "resp = llm.chat([message])\n",
    "print(resp)"
   ]
  },
  {
   "cell_type": "markdown",
   "id": "6bc1e74f",
   "metadata": {},
   "source": [
    "## Call `chat` with OpenAI Models\n",
    "You need to either set env var `OPENAI_API_KEY` or set openai_api_key in the class constructor"
   ]
  },
  {
   "cell_type": "code",
   "execution_count": null,
   "id": "b25f46e0",
   "metadata": {},
   "outputs": [],
   "source": [
    "# import os\n",
    "# os.environ['OPENAI_API_KEY'] = '<your-api-key>'\n",
    "\n",
    "llm = Konko(model=\"gpt-3.5-turbo\", openai_api_key=\"<your-api-key>\")"
   ]
  },
  {
   "cell_type": "code",
   "execution_count": null,
   "id": "8c4ec4a7",
   "metadata": {},
   "outputs": [
    {
     "name": "stdout",
     "output_type": "stream",
     "text": [
      "assistant: Sure, here's a classic one for you:\n",
      "\n",
      "Why don't scientists trust atoms?\n",
      "\n",
      "Because they make up everything!\n"
     ]
    }
   ],
   "source": [
    "message = ChatMessage(role=\"user\", content=\"Tell me a joke\")\n",
    "resp = llm.chat([message])\n",
    "print(resp)"
   ]
  },
  {
   "cell_type": "markdown",
   "id": "0515c6b2-e691-4f89-baa2-4964abee9cc5",
   "metadata": {},
   "source": [
    "### Streaming"
   ]
  },
  {
   "cell_type": "code",
   "execution_count": null,
   "id": "099f51ad-d585-4bf4-b0e1-95ed7ecf3f85",
   "metadata": {},
   "outputs": [
    {
     "name": "stdout",
     "output_type": "stream",
     "text": [
      " Sure! Here's a story in 250 words:\n",
      "\n",
      "Once upon a time, in a small village nestled in the rolling hills of the countryside, there lived a young girl named Emily. Emily was a curious and adventurous child, always eager to explore the world around her. One day, while wandering through the village, she stumbled upon a hidden path she had never seen before. The path was overgrown with weeds and vines, and it looked like it hadn't been used in years.\n",
      "\n",
      "Despite her initial hesitation, Emily decided to follow the path to see where it led. She walked for what felt like hours, the trees growing taller and the air growing cooler as she went. Finally, she came to a clearing, and in the center of the clearing stood an enormous tree, its trunk as wide as a house and its branches reaching up towards the sky.\n",
      "\n",
      "Emily was awestruck by the tree's beauty and grandeur. She climbed up its trunk, her hands and feet finding footholds in the bark, and she sat down on a branch high above the ground. From there, she could see for miles and miles, the rolling hills and fields stretching out before her like a patchwork quilt.\n",
      "\n",
      "As she sat there, Emily felt a sense of peace and wonder wash over her. She knew that she had discovered something truly special, a hidden treasure that only a few others had ever seen. And she knew that she would return to the tree again and again, to experience its magic and beauty."
     ]
    }
   ],
   "source": [
    "message = ChatMessage(role=\"user\", content=\"Tell me a story in 250 words\")\n",
    "resp = llm.stream_chat([message], max_tokens=1000)\n",
    "for r in resp:\n",
    "    print(r.delta, end=\"\")"
   ]
  },
  {
   "cell_type": "markdown",
   "id": "ac92c80f-5b82-4143-a6f9-549d6f5dfa70",
   "metadata": {},
   "source": [
    "## Call `complete` with Prompt"
   ]
  },
  {
   "cell_type": "code",
   "execution_count": null,
   "id": "1290c9b1-3c37-4db0-aa94-dda1c90d4f8b",
   "metadata": {},
   "outputs": [
    {
     "name": "stdout",
     "output_type": "stream",
     "text": [
      " Sure, here's a joke for you:\n",
      "\n",
      "Why couldn't the bicycle stand up by itself?\n",
      "\n",
      "Because it was two-tired!\n",
      "\n",
      "Get it? Two-tired... like a bike with two tires, but also tired because it can't stand up! Haha, I hope that made you smile!\n"
     ]
    }
   ],
   "source": [
    "resp = llm.complete(\"Tell me a joke\")\n",
    "print(resp)"
   ]
  },
  {
   "cell_type": "code",
   "execution_count": null,
   "id": "be1a7fe6-51b7-4e80-b60d-fbe3335610c7",
   "metadata": {},
   "outputs": [
    {
     "name": "stdout",
     "output_type": "stream",
     "text": [
      "Once upon a time in a small village nestled in the mountains, there lived a young girl named Lily. She was known for her kind heart and adventurous spirit. One day, while exploring the forest near her home, she stumbled upon a hidden cave.\n",
      "\n",
      "Curiosity got the better of Lily, and she cautiously entered the cave. Inside, she discovered a magical book with a shimmering cover. As she opened it, words began to appear on the pages, telling the story of a lost treasure hidden deep within the forest.\n",
      "\n",
      "Determined to find the treasure and share it with her village, Lily embarked on a thrilling quest. The book guided her through treacherous paths, enchanted forests, and mystical creatures. Along the way, she encountered a mischievous gnome who offered his assistance.\n",
      "\n",
      "Together, they overcame obstacles and solved riddles, inching closer to the treasure. Finally, after days of searching, they reached a clearing where a magnificent tree stood. Its branches were adorned with sparkling jewels, and at its base lay a chest overflowing with gold and precious gems.\n",
      "\n",
      "Lily's heart swelled with joy as she realized the treasure was not meant for her alone. She called upon the villagers, who gathered around in awe. With the treasure, they could build schools, hospitals, and improve their lives.\n",
      "\n",
      "News of Lily's selflessness spread far and wide, reaching the ears of a wise old wizard. Impressed by her bravery and kindness, he appeared before her and granted her a single wish. Without hesitation, Lily asked for the village to be blessed with prosperity and happiness forever.\n",
      "\n",
      "From that day forward, the village thrived, and Lily became a beloved figure, forever remembered as the girl who brought fortune and joy to her people. And as for the magical book, it disappeared, leaving behind only the memory of an extraordinary adventure and the power of selflessness."
     ]
    }
   ],
   "source": [
    "resp = llm.stream_complete(\"Tell me a story in 250 words\", max_tokens=1000)\n",
    "for r in resp:\n",
    "    print(r.delta, end=\"\")"
   ]
  },
  {
   "cell_type": "markdown",
   "id": "dc3a2018-89f1-4795-9b68-c06b8f104a69",
   "metadata": {},
   "source": [
    "## Model Configuration"
   ]
  },
  {
   "cell_type": "code",
   "execution_count": null,
   "id": "88c2680d-5e21-4eba-a685-a30d64554b14",
   "metadata": {},
   "outputs": [],
   "source": [
    "llm = Konko(model=\"meta-llama/Llama-2-13b-chat-hf\")"
   ]
  },
  {
   "cell_type": "code",
   "execution_count": null,
   "id": "24ebd16b-1740-4f31-800d-9c9c8fcc0d96",
   "metadata": {},
   "outputs": [
    {
     "name": "stdout",
     "output_type": "stream",
     "text": [
      " Sure, here's an example of how to send an HTTP request using the C++ `std::string` class and the Berkeley sockets API:\n",
      "```\n",
      "#include <iostream>\n",
      "#include <string>\n",
      "#include <sys/socket.h>\n",
      "#include <netinet/in.h>\n",
      "#include <arpa/inet.h>\n",
      "\n",
      "int main() {\n",
      "  // HTTP Request\n",
      "  std::string request = \"GET / HTTP/1.1\\r\\n\";\n",
      "  request += \"Host: example.com\\r\\n\";\n",
      "  request += \"User-Agent: My C++ HTTP Client\\r\\n\";\n",
      "  request += \"Accept: */*\\r\\n\";\n",
      "  request += \"Connection: close\\r\\n\\r\\n\";\n",
      "\n",
      "  // Create a socket\n",
      "  int sock = socket(AF_INET, SOCK_STREAM, 0);\n",
      "  if (sock < 0) {\n",
      "    perror(\"socket failed\");\n",
      "    exit(1);\n",
      "  }\n",
      "\n",
      "  // Set up the HTTP server address\n",
      "  struct sockaddr_in server_addr;\n",
      "  server_addr.sin_family = AF_INET;\n",
      "  server_addr.sin_port = htons(80);\n",
      "  server_addr.sin_addr.s_addr = inet_addr(\"192.168.1.1\"); // Replace with the IP address of your HTTP server\n",
      "\n",
      "  // Connect to the HTTP server\n",
      "  if (connect(sock, (struct sockaddr *)&server_addr, sizeof(server_addr)) < 0) {\n",
      "    perror(\"connect failed\");\n",
      "    exit(1);\n",
      "  }\n",
      "\n",
      "  // Send the HTTP request\n",
      "  send(sock, request.c_str(), request.size(), 0);\n",
      "\n",
      "  // Receive the HTTP response\n",
      "  char buffer[4096];\n",
      "  int bytes_received = recv(sock, buffer, 4096, 0);\n",
      "  if (bytes_received < 0) {\n",
      "    perror(\"recv failed\");\n",
      "    exit(1);\n",
      "  }\n",
      "\n",
      "  // Print the HTTP response\n",
      "  std::cout << buffer << std::endl;\n",
      "\n",
      "  // Close the socket\n",
      "  close(sock);\n",
      "\n",
      "  return 0;\n",
      "}\n",
      "```\n",
      "This code sends a GET request to the HTTP server at `http://example.com`. You can modify the `server_addr` structure to contain the IP address and port number of your own HTTP server.\n",
      "\n",
      "Note that this is just a simple example to illustrate the basic idea of sending an HTTP request using sockets. In a real-world application, you would likely want to handle errors and disconnections, and add additional headers and parameters to the request."
     ]
    }
   ],
   "source": [
    "resp = llm.stream_complete(\n",
    "    \"Show me the c++ code to send requests to HTTP Server\", max_tokens=1000\n",
    ")\n",
    "for r in resp:\n",
    "    print(r.delta, end=\"\")"
   ]
  }
 ],
 "metadata": {
  "kernelspec": {
   "display_name": "llama-index-dev",
   "language": "python",
   "name": "llama-index-dev"
  },
  "language_info": {
   "codemirror_mode": {
    "name": "ipython",
    "version": 3
   },
   "file_extension": ".py",
   "mimetype": "text/x-python",
   "name": "python",
   "nbconvert_exporter": "python",
   "pygments_lexer": "ipython3"
  }
 },
 "nbformat": 4,
 "nbformat_minor": 5
}
