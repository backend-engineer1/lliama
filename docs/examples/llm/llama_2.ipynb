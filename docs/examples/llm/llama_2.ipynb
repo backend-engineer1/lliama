{
 "cells": [
  {
   "cell_type": "markdown",
   "id": "2e33dced-e587-4397-81b3-d6606aa1738a",
   "metadata": {},
   "source": [
    "# Replicate - Llama 2 13B"
   ]
  },
  {
   "cell_type": "markdown",
   "id": "5863dde9-84a0-4c33-ad52-cc767442f63f",
   "metadata": {},
   "source": [
    "## Setup"
   ]
  },
  {
   "cell_type": "markdown",
   "id": "af971d61-2ed8-4265-85bf-019e86e550f8",
   "metadata": {},
   "source": [
    "Make sure you have the `REPLICATE_API_TOKEN` environment variable set.  \n",
    "If you don't have one yet, go to https://replicate.com/ to obtain one.  "
   ]
  },
  {
   "cell_type": "code",
   "execution_count": 1,
   "id": "ad297f19-998f-4485-aa2f-d67020058b7d",
   "metadata": {
    "tags": []
   },
   "outputs": [],
   "source": [
    "import os"
   ]
  },
  {
   "cell_type": "code",
   "execution_count": 15,
   "id": "152ced37-9a42-47be-9a39-4218521f5e72",
   "metadata": {
    "tags": []
   },
   "outputs": [],
   "source": [
    "os.environ[\"REPLICATE_API_TOKEN\"] = \"<your API key>\""
   ]
  },
  {
   "cell_type": "markdown",
   "id": "deb2fb16-0a6a-4455-adb6-d0e7a29cfbbf",
   "metadata": {},
   "source": [
    "## Basic Usage"
   ]
  },
  {
   "cell_type": "markdown",
   "id": "4ddae9fb-b947-4b80-b20a-bdbbc6329c8d",
   "metadata": {
    "tags": []
   },
   "source": [
    "We showcase the \"llama13b-v2-chat\" model, which you can play with directly at: https://replicate.com/a16z-infra/llama13b-v2-chat"
   ]
  },
  {
   "cell_type": "code",
   "execution_count": 16,
   "id": "91210342-4494-4db6-b91a-59a552f0755b",
   "metadata": {
    "tags": []
   },
   "outputs": [],
   "source": [
    "from llama_index.llms import Replicate\n",
    "\n",
    "llm = Replicate(\n",
    "    model=\"a16z-infra/llama13b-v2-chat:df7690f1994d94e96ad9d568eac121aecf50684a0b0963b25a41cc40061269e5\"\n",
    ")"
   ]
  },
  {
   "cell_type": "markdown",
   "id": "b67c6a29-d407-4f00-9ef0-3a8116976ae9",
   "metadata": {},
   "source": [
    "#### Call `complete` with a prompt"
   ]
  },
  {
   "cell_type": "code",
   "execution_count": 4,
   "id": "d61b10bb-e911-47fb-8e84-19828cf224be",
   "metadata": {
    "tags": []
   },
   "outputs": [],
   "source": [
    "resp = llm.complete(\"Who is Paul Graham?\")"
   ]
  },
  {
   "cell_type": "code",
   "execution_count": 5,
   "id": "3bd14f4e-c245-4384-a471-97e4ddfcb40e",
   "metadata": {
    "tags": []
   },
   "outputs": [
    {
     "name": "stdout",
     "output_type": "stream",
     "text": [
      "Paul Graham is a British computer scientist and entrepreneur best known for co-founding the web application framework company, Viaweb, and the venture capital firm, Y Combinator. He is also known for his essays on technology, entrepreneurship, and investing, which are widely read and discussed in the tech industry.\n",
      "\n",
      "Graham has a reputation as a visionary and a pioneer in the tech industry, and has been involved in several successful startups and investments over the years. He is also known for his unconventional approach to investing and his focus on investing in early-stage companies with high potential for growth.\n",
      "\n",
      "Here are some key facts about Paul Graham:\n",
      "\n",
      "* Co-founder of Viaweb, a web application framework company\n",
      "* Co-founder of Y Combinator, a venture capital firm that has invested in successful startups such as Airbnb, Dropbox, and Reddit\n",
      "* Known for his essays on technology, entrepreneurship, and investing, which are widely read and discussed in the tech industry\n",
      "* Reputation as a visionary and a pioneer in\n"
     ]
    }
   ],
   "source": [
    "print(resp)"
   ]
  },
  {
   "cell_type": "markdown",
   "id": "3ba9503c-b440-43c6-a50c-676c79993813",
   "metadata": {
    "tags": []
   },
   "source": [
    "#### Call `chat` with a list of messages"
   ]
  },
  {
   "cell_type": "code",
   "execution_count": null,
   "id": "ee8a4a55-5680-4dc6-a44c-fc8ad7892f80",
   "metadata": {
    "tags": []
   },
   "outputs": [],
   "source": [
    "from llama_index.llms import ChatMessage\n",
    "\n",
    "messages = [\n",
    "    ChatMessage(role=\"system\", content=\"You are a pirate with a colorful personality\"),\n",
    "    ChatMessage(role=\"user\", content=\"What is your name\"),\n",
    "]\n",
    "resp = llm.chat(messages)"
   ]
  },
  {
   "cell_type": "code",
   "execution_count": null,
   "id": "2a9bfe53-d15b-4e75-9d91-8c5d024f4eda",
   "metadata": {
    "tags": []
   },
   "outputs": [],
   "source": [
    "print(resp)"
   ]
  },
  {
   "cell_type": "markdown",
   "id": "25ad1b00-28fc-4bcd-96c4-d5b35605721a",
   "metadata": {},
   "source": [
    "### Streaming"
   ]
  },
  {
   "cell_type": "markdown",
   "id": "13c641fa-345a-4dce-87c5-ab1f6dcf4757",
   "metadata": {},
   "source": [
    "Using `stream_complete` endpoint "
   ]
  },
  {
   "cell_type": "code",
   "execution_count": null,
   "id": "06da1ef1-2f6b-497c-847b-62dd2df11491",
   "metadata": {
    "tags": []
   },
   "outputs": [],
   "source": [
    "response = llm.stream_complete(\"Who is Paul Graham?\")"
   ]
  },
  {
   "cell_type": "code",
   "execution_count": null,
   "id": "1b851def-5160-46e5-a30c-5a3ef2356b79",
   "metadata": {
    "tags": []
   },
   "outputs": [],
   "source": [
    "for r in response:\n",
    "    print(r.delta, end=\"\")"
   ]
  },
  {
   "cell_type": "markdown",
   "id": "ca52051d-6b28-49d7-98f5-82e266a1c7a6",
   "metadata": {},
   "source": [
    "Using `stream_chat` endpoint"
   ]
  },
  {
   "cell_type": "code",
   "execution_count": null,
   "id": "fe553190-52a9-436d-84ae-4dd99a1808f4",
   "metadata": {
    "tags": []
   },
   "outputs": [],
   "source": [
    "from llama_index.llms import ChatMessage\n",
    "\n",
    "messages = [\n",
    "    ChatMessage(role=\"system\", content=\"You are a pirate with a colorful personality\"),\n",
    "    ChatMessage(role=\"user\", content=\"What is your name\"),\n",
    "]\n",
    "resp = llm.stream_chat(messages)"
   ]
  },
  {
   "cell_type": "code",
   "execution_count": null,
   "id": "154c503c-f893-4b6b-8a65-a9a27b636046",
   "metadata": {
    "tags": []
   },
   "outputs": [],
   "source": [
    "for r in resp:\n",
    "    print(r.delta, end=\"\")"
   ]
  },
  {
   "cell_type": "markdown",
   "id": "f317bf00-6296-4f20-9baf-321880753952",
   "metadata": {
    "tags": []
   },
   "source": [
    "## Configure Model"
   ]
  },
  {
   "cell_type": "code",
   "execution_count": null,
   "id": "0fec5774-3139-4258-869d-fb5b6f20ba73",
   "metadata": {
    "tags": []
   },
   "outputs": [],
   "source": [
    "from llama_index.llms import Replicate\n",
    "\n",
    "llm = Replicate(\n",
    "    model=\"a16z-infra/llama13b-v2-chat:df7690f1994d94e96ad9d568eac121aecf50684a0b0963b25a41cc40061269e5\",\n",
    "    temperature=0.9,\n",
    "    max_tokens=32,\n",
    ")"
   ]
  },
  {
   "cell_type": "code",
   "execution_count": null,
   "id": "92f24aae-ee9f-48ca-925b-949f9e72348f",
   "metadata": {
    "tags": []
   },
   "outputs": [],
   "source": [
    "resp = llm.complete(\"Who is Paul Graham?\")"
   ]
  },
  {
   "cell_type": "code",
   "execution_count": null,
   "id": "d89ee032-ffc4-45bc-b0f4-4dde8c97462b",
   "metadata": {
    "tags": []
   },
   "outputs": [],
   "source": [
    "print(resp)"
   ]
  }
 ],
 "metadata": {
  "kernelspec": {
   "display_name": "Python 3 (ipykernel)",
   "language": "python",
   "name": "python3"
  },
  "language_info": {
   "codemirror_mode": {
    "name": "ipython",
    "version": 3
   },
   "file_extension": ".py",
   "mimetype": "text/x-python",
   "name": "python",
   "nbconvert_exporter": "python",
   "pygments_lexer": "ipython3",
   "version": "3.9.16"
  }
 },
 "nbformat": 4,
 "nbformat_minor": 5
}
