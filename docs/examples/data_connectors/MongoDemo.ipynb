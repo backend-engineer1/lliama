{
    "cells": [
        {
            "attachments": {},
            "cell_type": "markdown",
            "id": "effeb5a7-8544-4ee4-8c11-bad0d8165394",
            "metadata": {},
            "source": [
                "# MongoDB Reader\n",
                "Demonstrates our MongoDB data connector"
            ]
        },
        {
            "cell_type": "code",
            "execution_count": null,
            "id": "60355655",
            "metadata": {},
            "outputs": [],
            "source": [
                "import logging\n",
                "import sys\n",
                "\n",
                "logging.basicConfig(stream=sys.stdout, level=logging.INFO)\n",
                "logging.getLogger().addHandler(logging.StreamHandler(stream=sys.stdout))"
            ]
        },
        {
            "cell_type": "code",
            "execution_count": 1,
            "id": "6ea1f66d-10ed-4417-bdcb-f8a894836ea5",
            "metadata": {},
            "outputs": [],
            "source": [
                "from llama_index import ListIndex, SimpleMongoReader\n",
                "from IPython.display import Markdown, display\n",
                "import os"
            ]
        },
        {
            "cell_type": "code",
            "execution_count": null,
            "id": "da90589a-fb44-4ec6-9706-753dba4fa968",
            "metadata": {},
            "outputs": [],
            "source": [
                "host = \"<host>\"\n",
                "port = \"<port>\"\n",
                "db_name = \"<db_name>\"\n",
                "collection_name = \"<collection_name>\"\n",
                "# query_dict is passed into db.collection.find()\n",
                "query_dict = {}\n",
                "field_names = [\"text\"]\n",
                "reader = SimpleMongoReader(host, port)\n",
                "documents = reader.load_data(db_name, collection_name, field_names, query_dict=query_dict)"
            ]
        },
        {
            "cell_type": "code",
            "execution_count": null,
            "id": "341295df-2029-4728-ab3d-2ee178a7e6f1",
            "metadata": {},
            "outputs": [],
            "source": [
                "index = ListIndex.from_documents(documents)"
            ]
        },
        {
            "cell_type": "code",
            "execution_count": null,
            "id": "01c26b9d-49ec-4a6e-9c61-5c06bb86bbb2",
            "metadata": {},
            "outputs": [],
            "source": [
                "# set Logging to DEBUG for more detailed outputs\n",
                "query_engine = index.as_query_engine()\n",
                "response = query_engine.query(\"<query_text>\")"
            ]
        },
        {
            "cell_type": "code",
            "execution_count": null,
            "id": "f160c678-2fb5-4d6d-b2bc-87abb61cfdec",
            "metadata": {},
            "outputs": [],
            "source": [
                "display(Markdown(f\"<b>{response}</b>\"))"
            ]
        },
        {
            "attachments": {},
            "cell_type": "markdown",
            "id": "1671858a",
            "metadata": {},
            "source": [
                "## MongoDB Atlas"
            ]
        },
        {
            "cell_type": "code",
            "execution_count": 2,
            "id": "50f4e616",
            "metadata": {},
            "outputs": [],
            "source": [
                "# Provide URI to constructor, or use environment variable\n",
                "import pymongo\n",
                "from llama_index.vector_stores.mongodb import MongoDBVectorStore\n",
                "from llama_index.indices.vector_store.base import VectorStoreIndex\n",
                "from llama_index.storage.storage_context import StorageContext\n",
                "from llama_index.readers.file.base import SimpleDirectoryReader\n",
                "\n"
            ]
        },
        {
            "cell_type": "code",
            "execution_count": 9,
            "id": "d6d4664e",
            "metadata": {},
            "outputs": [],
            "source": [
                "# mongo_uri = os.environ[\"MONGO_URI\"]\n",
                "mongo_uri = \"mongodb+srv://<username>:<password>@<host>?retryWrites=true&w=majority\"\n",
                "mongodb_client = pymongo.MongoClient(mongo_uri)\n",
                "store = MongoDBVectorStore(mongodb_client)\n",
                "storage_context = StorageContext.from_defaults(vector_store=store)\n",
                "uber_docs = SimpleDirectoryReader(input_files=[\"../data/10k/uber_2021.pdf\"]).load_data()\n",
                "index = VectorStoreIndex.from_documents(uber_docs, storage_context=storage_context)"
            ]
        },
        {
            "cell_type": "code",
            "execution_count": 10,
            "id": "a322dd72",
            "metadata": {},
            "outputs": [
                {
                    "data": {
                        "text/markdown": [
                            "<b>\n",
                            "Uber's revenue for 2021 was $17,455 million.</b>"
                        ],
                        "text/plain": [
                            "<IPython.core.display.Markdown object>"
                        ]
                    },
                    "metadata": {},
                    "output_type": "display_data"
                }
            ],
            "source": [
                "response = index.as_query_engine().query(\"What was Uber's revenue?\")\n",
                "display(Markdown(f\"<b>{response}</b>\"))"
            ]
        },
        {
            "cell_type": "code",
            "execution_count": 11,
            "id": "fe477e86",
            "metadata": {},
            "outputs": [
                {
                    "name": "stdout",
                    "output_type": "stream",
                    "text": [
                        "4454\n",
                        "1\n",
                        "4453\n"
                    ]
                }
            ],
            "source": [
                "from llama_index.response.schema import Response\n",
                "# Initial size\n",
                "\n",
                "print(store._collection.count_documents({}))\n",
                "# Get a ref_doc_id\n",
                "typed_response = response if isinstance(response, Response) else response.get_response()\n",
                "ref_doc_id = typed_response.source_nodes[0].node.ref_doc_id\n",
                "print(store._collection.count_documents({\"metadata.ref_doc_id\": ref_doc_id}))\n",
                "# Test store delete\n",
                "if ref_doc_id:\n",
                "    store.delete(ref_doc_id)\n",
                "    print(store._collection.count_documents({}))"
            ]
        }
    ],
    "metadata": {
        "kernelspec": {
            "display_name": "Python 3 (ipykernel)",
            "language": "python",
            "name": "python3"
        },
        "language_info": {
            "codemirror_mode": {
                "name": "ipython",
                "version": 3
            },
            "file_extension": ".py",
            "mimetype": "text/x-python",
            "name": "python",
            "nbconvert_exporter": "python",
            "pygments_lexer": "ipython3",
            "version": "3.9.6"
        }
    },
    "nbformat": 4,
    "nbformat_minor": 5
}
