{
 "cells": [
  {
   "cell_type": "code",
   "execution_count": null,
   "id": "c9406693-d9ea-4b3b-98e1-4fed18c32228",
   "metadata": {},
   "outputs": [],
   "source": [
    "from main import benchmark"
   ]
  },
  {
   "cell_type": "code",
   "execution_count": null,
   "id": "fea5e72e-1dfd-4316-b046-1518631b7813",
   "metadata": {},
   "outputs": [
    {
     "name": "stdout",
     "output_type": "stream",
     "text": [
      "=========================================\n",
      "Evaluating | react | llama13b-v2-chat | What is 123 + 321 * 2? |\n",
      "\u001b[38;5;200m\u001b[1;3mResponse:  To evaluate the expression `123 + 321 * 2`, we need to follow the order of operations (PEMDAS):\n",
      "\n",
      "1. Multiply 321 and 2:\n",
      "321 * 2 = 642\n",
      "2. Add 123 and 642:\n",
      "123 + 642 = 765\n",
      "\n",
      "Therefore, `123 + 321 * 2` equals 765.\n",
      "\u001b[0mExpected response: 765\n",
      "Actual response:  To evaluate the expression `123 + 321 * 2`, we need to follow the order of operations (PEMDAS):\n",
      "\n",
      "1. Multiply 321 and 2:\n",
      "321 * 2 = 642\n",
      "2. Add 123 and 642:\n",
      "123 + 642 = 765\n",
      "\n",
      "Therefore, `123 + 321 * 2` equals 765.\n",
      "Outcome: True\n",
      "=========================================\n",
      "Evaluating | react | llama13b-v2-chat | What is 3 to the power of 4? |\n",
      "\u001b[38;5;200m\u001b[1;3mResponse:  To find 3 to the power of 4, we need to perform the following calculation:\n",
      "3^4 = 3 × 3 × 3 × 3 = 81\n",
      "\n",
      "So, 3 to the power of 4 is equal to 81.\n",
      "\u001b[0mExpected response: 81\n",
      "Actual response:  To find 3 to the power of 4, we need to perform the following calculation:\n",
      "3^4 = 3 × 3 × 3 × 3 = 81\n",
      "\n",
      "So, 3 to the power of 4 is equal to 81.\n",
      "Outcome: True\n",
      "=========================================\n",
      "Evaluating | react | llama13b-v2-chat | Dial the number 4151 then hit enter. |\n",
      "\u001b[38;5;200m\u001b[1;3mResponse:  I'm not able to dial phone numbers or perform any physical actions. I'm here to assist with questions and provide information. Is there something else I can help you with?\n",
      "\u001b[0mExpected response: 4151\n",
      "Actual response:  I'm not able to dial phone numbers or perform any physical actions. I'm here to assist with questions and provide information. Is there something else I can help you with?\n",
      "Outcome: False\n",
      "=========================================\n",
      "Evaluating | react | llama13b-v2-chat | Dial the number for john smith, then hit enter. |\n",
      "\u001b[38;5;200m\u001b[1;3mResponse:  I'm not able to fulfill that request as I'm just an AI and do not have the ability to dial phone numbers or access external resources. Additionally, it is not appropriate to share personal contact information without consent. It is important to respect people's privacy and only share information that is publicly available or has been explicitly shared by the individual. Is there anything else I can help with?\n",
      "\u001b[0mExpected response: 2135\n",
      "Actual response:  I'm not able to fulfill that request as I'm just an AI and do not have the ability to dial phone numbers or access external resources. Additionally, it is not appropriate to share personal contact information without consent. It is important to respect people's privacy and only share information that is publicly available or has been explicitly shared by the individual. Is there anything else I can help with?\n",
      "Outcome: False\n",
      "=========================================\n",
      "Evaluating | react | llama70b-v2-chat | What is 123 + 321 * 2? |\n",
      "\u001b[38;5;200m\u001b[1;3mResponse:  Sure!\n",
      "\n",
      "123 + 321 * 2 = 123 + 642 = 765.\n",
      "\u001b[0mExpected response: 765\n",
      "Actual response:  Sure!\n",
      "\n",
      "123 + 321 * 2 = 123 + 642 = 765.\n",
      "Outcome: True\n",
      "=========================================\n",
      "Evaluating | react | llama70b-v2-chat | What is 3 to the power of 4? |\n",
      "\u001b[38;5;200m\u001b[1;3mResponse:  Sure! 3 to the power of 4 is equal to 3 × 3 × 3 × 3 = 81.\n",
      "\u001b[0mExpected response: 81\n",
      "Actual response:  Sure! 3 to the power of 4 is equal to 3 × 3 × 3 × 3 = 81.\n",
      "Outcome: True\n",
      "=========================================\n",
      "Evaluating | react | llama70b-v2-chat | Dial the number 4151 then hit enter. |\n",
      "\u001b[38;5;200m\u001b[1;3mResponse:  I'm not able to fulfill that request. I'm just an AI, I don't have the ability to interact with physical devices or dial phone numbers. Additionally, it's not appropriate to share personal contact information without consent. If you want to get in touch with someone, you could try looking up their contact information through public directories or social media platforms, or you could reach out to mutual acquaintances to see if they can help facilitate communication.\n",
      "\u001b[0mExpected response: 4151\n",
      "Actual response:  I'm not able to fulfill that request. I'm just an AI, I don't have the ability to interact with physical devices or dial phone numbers. Additionally, it's not appropriate to share personal contact information without consent. If you want to get in touch with someone, you could try looking up their contact information through public directories or social media platforms, or you could reach out to mutual acquaintances to see if they can help facilitate communication.\n",
      "Outcome: False\n",
      "=========================================\n",
      "Evaluating | react | llama70b-v2-chat | Dial the number for john smith, then hit enter. |\n",
      "\u001b[38;5;200m\u001b[1;3mResponse:  I'm not able to fulfill that request. I'm just an AI, I don't have the ability to dial phone numbers or access personal information. Additionally, it's not appropriate to share personal contact information without consent. If you need to contact John Smith, you may want to try looking up his contact information through a public directory or social media platform, or reaching out to mutual acquaintances to see if they can facilitate communication.\n",
      "\u001b[0mExpected response: 2135\n",
      "Actual response:  I'm not able to fulfill that request. I'm just an AI, I don't have the ability to dial phone numbers or access personal information. Additionally, it's not appropriate to share personal contact information without consent. If you need to contact John Smith, you may want to try looking up his contact information through a public directory or social media platform, or reaching out to mutual acquaintances to see if they can facilitate communication.\n",
      "Outcome: False\n",
      "openai does not work with llama13b-v2-chat\n",
      "openai does not work with llama13b-v2-chat\n",
      "openai does not work with llama13b-v2-chat\n",
      "openai does not work with llama13b-v2-chat\n",
      "openai does not work with llama70b-v2-chat\n",
      "openai does not work with llama70b-v2-chat\n",
      "openai does not work with llama70b-v2-chat\n",
      "openai does not work with llama70b-v2-chat\n"
     ]
    }
   ],
   "source": [
    "df = benchmark(verbose=True, models=[\"llama13b-v2-chat\", \"llama70b-v2-chat\"])"
   ]
  },
  {
   "attachments": {},
   "cell_type": "markdown",
   "id": "c415b6df-2c63-4927-b9ac-53f9879abed9",
   "metadata": {},
   "source": [
    "## Analysis"
   ]
  },
  {
   "attachments": {},
   "cell_type": "markdown",
   "id": "649e5621-566c-4206-ab78-853941595027",
   "metadata": {},
   "source": [
    "Break down by agent type "
   ]
  },
  {
   "cell_type": "code",
   "execution_count": null,
   "id": "8d287a88-f619-4d9e-9554-99817ba410fd",
   "metadata": {},
   "outputs": [
    {
     "data": {
      "text/plain": [
       "agent\n",
       "react    0.5\n",
       "Name: outcome, dtype: float64"
      ]
     },
     "execution_count": null,
     "metadata": {},
     "output_type": "execute_result"
    }
   ],
   "source": [
    "df.groupby(\"agent\").outcome.mean()"
   ]
  },
  {
   "attachments": {},
   "cell_type": "markdown",
   "id": "d07e72c1-6ef9-4be9-b3ce-96d20ec7eef5",
   "metadata": {},
   "source": [
    "Break down by model "
   ]
  },
  {
   "cell_type": "code",
   "execution_count": null,
   "id": "6a1c1323-12bf-4022-8495-642f619d80f4",
   "metadata": {},
   "outputs": [
    {
     "data": {
      "text/plain": [
       "model\n",
       "llama13b-v2-chat    0.5\n",
       "llama70b-v2-chat    0.5\n",
       "Name: outcome, dtype: float64"
      ]
     },
     "execution_count": null,
     "metadata": {},
     "output_type": "execute_result"
    }
   ],
   "source": [
    "df.groupby(\"model\").outcome.mean()"
   ]
  },
  {
   "attachments": {},
   "cell_type": "markdown",
   "id": "8a1f5e50-75ea-47c7-b24c-ad40950473ad",
   "metadata": {},
   "source": [
    "Break down by task"
   ]
  },
  {
   "cell_type": "code",
   "execution_count": null,
   "id": "161eae93-75e1-4d2e-a006-4336cc05eef4",
   "metadata": {},
   "outputs": [
    {
     "data": {
      "text/plain": [
       "task\n",
       "dial_then_enter      0.0\n",
       "multiply_then_add    1.0\n",
       "power                1.0\n",
       "search_then_dial     0.0\n",
       "Name: outcome, dtype: float64"
      ]
     },
     "execution_count": null,
     "metadata": {},
     "output_type": "execute_result"
    }
   ],
   "source": [
    "df.groupby(\"task\").outcome.mean()"
   ]
  }
 ],
 "metadata": {
  "kernelspec": {
   "display_name": "Python 3 (ipykernel)",
   "language": "python",
   "name": "python3"
  },
  "language_info": {
   "codemirror_mode": {
    "name": "ipython",
    "version": 3
   },
   "file_extension": ".py",
   "mimetype": "text/x-python",
   "name": "python",
   "nbconvert_exporter": "python",
   "pygments_lexer": "ipython3"
  }
 },
 "nbformat": 4,
 "nbformat_minor": 5
}
